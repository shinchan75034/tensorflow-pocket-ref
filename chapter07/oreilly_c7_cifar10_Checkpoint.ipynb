{
  "nbformat": 4,
  "nbformat_minor": 0,
  "metadata": {
    "colab": {
      "name": "oreilly_c7_cifar10_Checkpoint.ipynb",
      "provenance": []
    },
    "kernelspec": {
      "name": "python3",
      "display_name": "Python 3"
    },
    "accelerator": "GPU"
  },
  "cells": [
    {
      "cell_type": "code",
      "metadata": {
        "id": "brfUj9kxYh7r"
      },
      "source": [
        "import tensorflow as tf\n",
        "from tensorflow.keras import datasets, layers, models\n",
        "import numpy as np\n",
        "import matplotlib.pylab as plt\n",
        "import os\n",
        "from datetime import datetime"
      ],
      "execution_count": null,
      "outputs": []
    },
    {
      "cell_type": "code",
      "metadata": {
        "id": "Hsx5ywgQYqhz"
      },
      "source": [
        "(train_images, train_labels), (test_images, test_labels) = datasets.cifar10.load_data()\n",
        "\n",
        "# Normalize pixel values to be between 0 and 1\n",
        "train_images, test_images = train_images / 255.0, test_images / 255.0"
      ],
      "execution_count": null,
      "outputs": []
    },
    {
      "cell_type": "code",
      "metadata": {
        "colab": {
          "base_uri": "https://localhost:8080/"
        },
        "id": "ZnalT1J6Lt3T",
        "outputId": "c1012389-41c7-4199-d256-0d5004463805"
      },
      "source": [
        "np.unique(train_labels)"
      ],
      "execution_count": null,
      "outputs": [
        {
          "output_type": "execute_result",
          "data": {
            "text/plain": [
              "array([0, 1, 2, 3, 4, 5, 6, 7, 8, 9], dtype=uint8)"
            ]
          },
          "metadata": {
            "tags": []
          },
          "execution_count": 20
        }
      ]
    },
    {
      "cell_type": "code",
      "metadata": {
        "id": "hhPHjdeYYv7u"
      },
      "source": [
        "# Plain text name in alphabetical order. https://www.cs.toronto.edu/~kriz/cifar.html\n",
        "CLASS_NAMES = ['airplane', 'automobile', 'bird', 'cat', \n",
        "               'deer','dog', 'frog', 'horse', 'ship', 'truck']"
      ],
      "execution_count": null,
      "outputs": []
    },
    {
      "cell_type": "markdown",
      "metadata": {
        "id": "0Gxr-5SVe5xf"
      },
      "source": [
        "Let's use half of test data as the validation data."
      ]
    },
    {
      "cell_type": "code",
      "metadata": {
        "id": "IelZX9Nger2R"
      },
      "source": [
        "validation_dataset = tf.data.Dataset.from_tensor_slices((test_images[:500], test_labels[:500]))\n",
        "test_dataset = tf.data.Dataset.from_tensor_slices((test_images[500:], test_labels[500:]))"
      ],
      "execution_count": null,
      "outputs": []
    },
    {
      "cell_type": "markdown",
      "metadata": {
        "id": "EsxmMi_He94F"
      },
      "source": [
        "Now the datasets are built for validation and test data. Next, we will keep all training data for training."
      ]
    },
    {
      "cell_type": "code",
      "metadata": {
        "id": "lN0jT3XvewP3"
      },
      "source": [
        "# Create an instance of dataset from raw numpy images and labels.\n",
        "train_dataset = tf.data.Dataset.from_tensor_slices((train_images, train_labels))"
      ],
      "execution_count": null,
      "outputs": []
    },
    {
      "cell_type": "code",
      "metadata": {
        "colab": {
          "base_uri": "https://localhost:8080/"
        },
        "id": "yqkLO8EOfARt",
        "outputId": "5f1505ec-16e4-43da-8c9a-fcd36b2c43b7"
      },
      "source": [
        "# https://www.tensorflow.org/api_docs/python/tf/data/Dataset#transformations_2\n",
        "train_dataset_size = len(list(train_dataset.as_numpy_iterator()))\n",
        "print('Training data sample size: ', train_dataset_size)\n",
        "\n",
        "validation_dataset_size = len(list(validation_dataset.as_numpy_iterator()))\n",
        "print('Validation data sample size: ', validation_dataset_size)\n",
        "\n",
        "test_dataset_size = len(list(test_dataset.as_numpy_iterator()))\n",
        "print('Test data sample size: ', test_dataset_size)"
      ],
      "execution_count": null,
      "outputs": [
        {
          "output_type": "stream",
          "text": [
            "Training data sample size:  50000\n",
            "Validation data sample size:  500\n",
            "Test data sample size:  9500\n"
          ],
          "name": "stdout"
        }
      ]
    },
    {
      "cell_type": "code",
      "metadata": {
        "id": "-GRVCZYlfC7W"
      },
      "source": [
        "TRAIN_BATCH_SIZE = 128\n",
        "train_dataset = train_dataset.shuffle(50000).batch(TRAIN_BATCH_SIZE, drop_remainder=True)"
      ],
      "execution_count": null,
      "outputs": []
    },
    {
      "cell_type": "code",
      "metadata": {
        "id": "D9rcvZhngWia"
      },
      "source": [
        "validation_dataset = validation_dataset.batch(validation_dataset_size)\n",
        "test_dataset = test_dataset.batch(test_dataset_size)"
      ],
      "execution_count": null,
      "outputs": []
    },
    {
      "cell_type": "code",
      "metadata": {
        "id": "UacH_ItBgZG7"
      },
      "source": [
        "STEPS_PER_EPOCH = train_dataset_size // TRAIN_BATCH_SIZE\n",
        "VALIDATION_STEPS = 1 #validation data // validation batch size"
      ],
      "execution_count": null,
      "outputs": []
    },
    {
      "cell_type": "code",
      "metadata": {
        "id": "s6nRE_rTgb4T"
      },
      "source": [
        "model = tf.keras.Sequential([\n",
        "    tf.keras.layers.Conv2D(32, kernel_size=(3, 3), activation='relu', \n",
        "      kernel_initializer='glorot_uniform', padding='same', input_shape = (32,32,3)),\n",
        "    tf.keras.layers.MaxPooling2D(pool_size=(2, 2)),\n",
        "    tf.keras.layers.Conv2D(64, kernel_size=(3, 3), activation='relu', \n",
        "      kernel_initializer='glorot_uniform', padding='same'),\n",
        "    tf.keras.layers.MaxPooling2D(pool_size=(2, 2)),\n",
        "    tf.keras.layers.Flatten(),\n",
        "    tf.keras.layers.Dense(256, activation='relu', kernel_initializer='glorot_uniform'),\n",
        "    tf.keras.layers.Dense(10, activation='softmax', name = 'custom_class')\n",
        "])\n",
        "model.build([None, 32, 32, 3])"
      ],
      "execution_count": null,
      "outputs": []
    },
    {
      "cell_type": "code",
      "metadata": {
        "colab": {
          "base_uri": "https://localhost:8080/"
        },
        "id": "DwaxA2v_R6LH",
        "outputId": "e16b14ac-c7c3-4394-80fb-ef76174dd051"
      },
      "source": [
        "model.summary()"
      ],
      "execution_count": null,
      "outputs": [
        {
          "output_type": "stream",
          "text": [
            "Model: \"sequential_1\"\n",
            "_________________________________________________________________\n",
            "Layer (type)                 Output Shape              Param #   \n",
            "=================================================================\n",
            "conv2d_2 (Conv2D)            (None, 32, 32, 32)        896       \n",
            "_________________________________________________________________\n",
            "max_pooling2d_2 (MaxPooling2 (None, 16, 16, 32)        0         \n",
            "_________________________________________________________________\n",
            "conv2d_3 (Conv2D)            (None, 16, 16, 64)        18496     \n",
            "_________________________________________________________________\n",
            "max_pooling2d_3 (MaxPooling2 (None, 8, 8, 64)          0         \n",
            "_________________________________________________________________\n",
            "flatten_1 (Flatten)          (None, 4096)              0         \n",
            "_________________________________________________________________\n",
            "dense_1 (Dense)              (None, 256)               1048832   \n",
            "_________________________________________________________________\n",
            "custom_class (Dense)         (None, 10)                2570      \n",
            "=================================================================\n",
            "Total params: 1,070,794\n",
            "Trainable params: 1,070,794\n",
            "Non-trainable params: 0\n",
            "_________________________________________________________________\n"
          ],
          "name": "stdout"
        }
      ]
    },
    {
      "cell_type": "code",
      "metadata": {
        "id": "hJ71ACqKgg17"
      },
      "source": [
        "model.compile(\n",
        "          loss=tf.keras.losses.SparseCategoricalCrossentropy(from_logits=True),\n",
        "          optimizer='adam',\n",
        "          metrics=['accuracy'])"
      ],
      "execution_count": null,
      "outputs": []
    },
    {
      "cell_type": "markdown",
      "metadata": {
        "id": "6LlkmbgBi9l5"
      },
      "source": [
        "Let's define some alias for file path to save model checkpoints."
      ]
    },
    {
      "cell_type": "code",
      "metadata": {
        "colab": {
          "base_uri": "https://localhost:8080/"
        },
        "id": "Tz9_dBdOHHBn",
        "outputId": "1097f31f-227c-4ecd-e5f9-8c55cb118dc3"
      },
      "source": [
        "MODEL_NAME = 'myCIFAR10-{}'.format(datetime.now().strftime(\"%Y%m%d-%H%M%S\"))\n",
        "print(MODEL_NAME)"
      ],
      "execution_count": null,
      "outputs": [
        {
          "output_type": "stream",
          "text": [
            "myCIFAR10-20210123-212138\n"
          ],
          "name": "stdout"
        }
      ]
    },
    {
      "cell_type": "code",
      "metadata": {
        "colab": {
          "base_uri": "https://localhost:8080/"
        },
        "id": "06Oed8lrgjCB",
        "outputId": "8fc61445-105b-41ae-faaa-1211ae74091f"
      },
      "source": [
        "checkpoint_dir = './' + MODEL_NAME\n",
        "checkpoint_prefix = os.path.join(checkpoint_dir, \"ckpt-{epoch}\")\n",
        "print(checkpoint_prefix)"
      ],
      "execution_count": null,
      "outputs": [
        {
          "output_type": "stream",
          "text": [
            "./myCIFAR10-20210123-212138/ckpt-{epoch}\n"
          ],
          "name": "stdout"
        }
      ]
    },
    {
      "cell_type": "markdown",
      "metadata": {
        "id": "PhvXn7-M5yVM"
      },
      "source": [
        "See https://www.tensorflow.org/api_docs/python/tf/keras/callbacks/ModelCheckpoint for details of function signature for `ModelCheckpoint`."
      ]
    },
    {
      "cell_type": "code",
      "metadata": {
        "id": "2MwuK2ccjQXp"
      },
      "source": [
        "myCheckPoint = tf.keras.callbacks.ModelCheckpoint(\n",
        "    filepath=checkpoint_prefix,\n",
        "    monitor='val_accuracy',\n",
        "    mode='max')\n",
        "myEarlyStop = tf.keras.callbacks.EarlyStopping(monitor='val_accuracy', \n",
        "                                               patience=4)"
      ],
      "execution_count": null,
      "outputs": []
    },
    {
      "cell_type": "code",
      "metadata": {
        "id": "YrBygME81FCU"
      },
      "source": [
        "myCallbacks = [\n",
        "    myCheckPoint,\n",
        "    myEarlyStop\n",
        "]"
      ],
      "execution_count": null,
      "outputs": []
    },
    {
      "cell_type": "code",
      "metadata": {
        "colab": {
          "base_uri": "https://localhost:8080/"
        },
        "id": "_aTUigIA1KrJ",
        "outputId": "a75e940c-7f40-45d7-b63d-c6df1b2cb592"
      },
      "source": [
        "hist = model.fit(\n",
        "    train_dataset,\n",
        "    epochs=20,\n",
        "    steps_per_epoch=STEPS_PER_EPOCH,\n",
        "    validation_data=validation_dataset,\n",
        "    validation_steps=VALIDATION_STEPS,\n",
        "    callbacks=myCallbacks).history"
      ],
      "execution_count": null,
      "outputs": [
        {
          "output_type": "stream",
          "text": [
            "Epoch 1/20\n",
            "250/250 [==============================] - 5s 11ms/step - loss: 1.7964 - accuracy: 0.3526 - val_loss: 1.2781 - val_accuracy: 0.5540\n",
            "INFO:tensorflow:Assets written to: ./myCIFAR10-20210123-212138/ckpt-1/assets\n",
            "Epoch 2/20\n",
            "250/250 [==============================] - 4s 13ms/step - loss: 1.1889 - accuracy: 0.5835 - val_loss: 1.0760 - val_accuracy: 0.6200\n",
            "INFO:tensorflow:Assets written to: ./myCIFAR10-20210123-212138/ckpt-2/assets\n",
            "Epoch 3/20\n",
            "250/250 [==============================] - 4s 13ms/step - loss: 1.0184 - accuracy: 0.6423 - val_loss: 0.9688 - val_accuracy: 0.6420\n",
            "INFO:tensorflow:Assets written to: ./myCIFAR10-20210123-212138/ckpt-3/assets\n",
            "Epoch 4/20\n",
            "250/250 [==============================] - 4s 13ms/step - loss: 0.9197 - accuracy: 0.6804 - val_loss: 0.9514 - val_accuracy: 0.6640\n",
            "INFO:tensorflow:Assets written to: ./myCIFAR10-20210123-212138/ckpt-4/assets\n",
            "Epoch 5/20\n",
            "250/250 [==============================] - 4s 13ms/step - loss: 0.8542 - accuracy: 0.7044 - val_loss: 0.9280 - val_accuracy: 0.6700\n",
            "INFO:tensorflow:Assets written to: ./myCIFAR10-20210123-212138/ckpt-5/assets\n",
            "Epoch 6/20\n",
            "250/250 [==============================] - 4s 13ms/step - loss: 0.7802 - accuracy: 0.7311 - val_loss: 0.8954 - val_accuracy: 0.6900\n",
            "INFO:tensorflow:Assets written to: ./myCIFAR10-20210123-212138/ckpt-6/assets\n",
            "Epoch 7/20\n",
            "250/250 [==============================] - 4s 14ms/step - loss: 0.7181 - accuracy: 0.7536 - val_loss: 0.9033 - val_accuracy: 0.6920\n",
            "INFO:tensorflow:Assets written to: ./myCIFAR10-20210123-212138/ckpt-7/assets\n",
            "Epoch 8/20\n",
            "250/250 [==============================] - 4s 14ms/step - loss: 0.6554 - accuracy: 0.7737 - val_loss: 0.9565 - val_accuracy: 0.6720\n",
            "INFO:tensorflow:Assets written to: ./myCIFAR10-20210123-212138/ckpt-8/assets\n",
            "Epoch 9/20\n",
            "250/250 [==============================] - 4s 13ms/step - loss: 0.5980 - accuracy: 0.7939 - val_loss: 0.8836 - val_accuracy: 0.6980\n",
            "INFO:tensorflow:Assets written to: ./myCIFAR10-20210123-212138/ckpt-9/assets\n",
            "Epoch 10/20\n",
            "250/250 [==============================] - 4s 14ms/step - loss: 0.5525 - accuracy: 0.8114 - val_loss: 0.8843 - val_accuracy: 0.7020\n",
            "INFO:tensorflow:Assets written to: ./myCIFAR10-20210123-212138/ckpt-10/assets\n",
            "Epoch 11/20\n",
            "250/250 [==============================] - 4s 13ms/step - loss: 0.4982 - accuracy: 0.8311 - val_loss: 0.8921 - val_accuracy: 0.7180\n",
            "INFO:tensorflow:Assets written to: ./myCIFAR10-20210123-212138/ckpt-11/assets\n",
            "Epoch 12/20\n",
            "250/250 [==============================] - 4s 14ms/step - loss: 0.4364 - accuracy: 0.8532 - val_loss: 0.9794 - val_accuracy: 0.6900\n",
            "INFO:tensorflow:Assets written to: ./myCIFAR10-20210123-212138/ckpt-12/assets\n",
            "Epoch 13/20\n",
            "250/250 [==============================] - 4s 14ms/step - loss: 0.3992 - accuracy: 0.8647 - val_loss: 0.9272 - val_accuracy: 0.7120\n",
            "INFO:tensorflow:Assets written to: ./myCIFAR10-20210123-212138/ckpt-13/assets\n",
            "Epoch 14/20\n",
            "250/250 [==============================] - 4s 14ms/step - loss: 0.3373 - accuracy: 0.8889 - val_loss: 1.0225 - val_accuracy: 0.6800\n",
            "INFO:tensorflow:Assets written to: ./myCIFAR10-20210123-212138/ckpt-14/assets\n",
            "Epoch 15/20\n",
            "250/250 [==============================] - 4s 14ms/step - loss: 0.2986 - accuracy: 0.9027 - val_loss: 1.0352 - val_accuracy: 0.7220\n",
            "INFO:tensorflow:Assets written to: ./myCIFAR10-20210123-212138/ckpt-15/assets\n",
            "Epoch 16/20\n",
            "250/250 [==============================] - 4s 14ms/step - loss: 0.2534 - accuracy: 0.9215 - val_loss: 1.0596 - val_accuracy: 0.7200\n",
            "INFO:tensorflow:Assets written to: ./myCIFAR10-20210123-212138/ckpt-16/assets\n",
            "Epoch 17/20\n",
            "250/250 [==============================] - 4s 13ms/step - loss: 0.2129 - accuracy: 0.9337 - val_loss: 1.1308 - val_accuracy: 0.7160\n",
            "INFO:tensorflow:Assets written to: ./myCIFAR10-20210123-212138/ckpt-17/assets\n",
            "Epoch 18/20\n",
            "250/250 [==============================] - 4s 13ms/step - loss: 0.1820 - accuracy: 0.9435 - val_loss: 1.1767 - val_accuracy: 0.6960\n",
            "INFO:tensorflow:Assets written to: ./myCIFAR10-20210123-212138/ckpt-18/assets\n",
            "Epoch 19/20\n",
            "250/250 [==============================] - 4s 14ms/step - loss: 0.1449 - accuracy: 0.9574 - val_loss: 1.2077 - val_accuracy: 0.7100\n",
            "INFO:tensorflow:Assets written to: ./myCIFAR10-20210123-212138/ckpt-19/assets\n"
          ],
          "name": "stdout"
        }
      ]
    },
    {
      "cell_type": "code",
      "metadata": {
        "colab": {
          "base_uri": "https://localhost:8080/"
        },
        "id": "6Uddjxbd7Nkf",
        "outputId": "9d9f1981-1037-4446-88e6-826f8eb04b0c"
      },
      "source": [
        "type(hist)"
      ],
      "execution_count": null,
      "outputs": [
        {
          "output_type": "execute_result",
          "data": {
            "text/plain": [
              "dict"
            ]
          },
          "metadata": {
            "tags": []
          },
          "execution_count": 16
        }
      ]
    },
    {
      "cell_type": "code",
      "metadata": {
        "colab": {
          "base_uri": "https://localhost:8080/"
        },
        "id": "z7qpF-_N7W5H",
        "outputId": "bae2725f-9289-44b1-c0fc-da7eee00ac1e"
      },
      "source": [
        "hist['val_accuracy']"
      ],
      "execution_count": null,
      "outputs": [
        {
          "output_type": "execute_result",
          "data": {
            "text/plain": [
              "[0.47200000286102295,\n",
              " 0.5680000185966492,\n",
              " 0.6000000238418579,\n",
              " 0.5899999737739563,\n",
              " 0.6119999885559082,\n",
              " 0.6019999980926514,\n",
              " 0.6100000143051147,\n",
              " 0.6380000114440918,\n",
              " 0.6100000143051147,\n",
              " 0.5699999928474426,\n",
              " 0.5619999766349792,\n",
              " 0.5960000157356262]"
            ]
          },
          "metadata": {
            "tags": []
          },
          "execution_count": 17
        }
      ]
    },
    {
      "cell_type": "code",
      "metadata": {
        "colab": {
          "base_uri": "https://localhost:8080/"
        },
        "id": "-qllX1tQ7cnN",
        "outputId": "3c640ea3-76ce-4d87-e83d-a1a252e798fc"
      },
      "source": [
        "max_value = max(hist['val_accuracy'])\n",
        "max_index = hist['val_accuracy'].index(max_value)\n",
        "print('Best epoch: ', max_index + 1)"
      ],
      "execution_count": null,
      "outputs": [
        {
          "output_type": "stream",
          "text": [
            "Best epoch:  8\n"
          ],
          "name": "stdout"
        }
      ]
    },
    {
      "cell_type": "markdown",
      "metadata": {
        "id": "eZGFV9zU2NsO"
      },
      "source": [
        "Epoch 7 yielded model with highest accuracy. Now take a look at the checkpoint directory:"
      ]
    },
    {
      "cell_type": "code",
      "metadata": {
        "colab": {
          "base_uri": "https://localhost:8080/"
        },
        "id": "2lmy7ZZK1rIw",
        "outputId": "e0cc59cd-4f61-40c8-e7a0-baad32304aaa"
      },
      "source": [
        "!ls -lrt ./cifar10_training_checkpoints"
      ],
      "execution_count": null,
      "outputs": [
        {
          "output_type": "stream",
          "text": [
            "total 48\n",
            "drwxr-xr-x 4 root root 4096 Jan 14 01:56 ckpt_1\n",
            "drwxr-xr-x 4 root root 4096 Jan 14 01:56 ckpt_2\n",
            "drwxr-xr-x 4 root root 4096 Jan 14 01:56 ckpt_3\n",
            "drwxr-xr-x 4 root root 4096 Jan 14 01:57 ckpt_4\n",
            "drwxr-xr-x 4 root root 4096 Jan 14 01:57 ckpt_5\n",
            "drwxr-xr-x 4 root root 4096 Jan 14 01:57 ckpt_6\n",
            "drwxr-xr-x 4 root root 4096 Jan 14 01:57 ckpt_7\n",
            "drwxr-xr-x 4 root root 4096 Jan 14 01:57 ckpt_8\n",
            "drwxr-xr-x 4 root root 4096 Jan 14 01:57 ckpt_9\n",
            "drwxr-xr-x 4 root root 4096 Jan 14 01:57 ckpt_10\n",
            "drwxr-xr-x 4 root root 4096 Jan 14 01:57 ckpt_11\n",
            "drwxr-xr-x 4 root root 4096 Jan 14 01:57 ckpt_12\n"
          ],
          "name": "stdout"
        }
      ]
    },
    {
      "cell_type": "code",
      "metadata": {
        "colab": {
          "base_uri": "https://localhost:8080/"
        },
        "id": "BlDuvbEd2GKR",
        "outputId": "b4f221b4-7164-4bf9-eddb-3286bc67b93d"
      },
      "source": [
        "!ls -lrt ./cifar10_training_checkpoints/ckpt_7"
      ],
      "execution_count": null,
      "outputs": [
        {
          "output_type": "stream",
          "text": [
            "total 136\n",
            "drwxr-xr-x 2 root root   4096 Jan 14 01:57 variables\n",
            "drwxr-xr-x 2 root root   4096 Jan 14 01:57 assets\n",
            "-rw-r--r-- 1 root root 127273 Jan 14 01:57 saved_model.pb\n"
          ],
          "name": "stdout"
        }
      ]
    },
    {
      "cell_type": "code",
      "metadata": {
        "colab": {
          "base_uri": "https://localhost:8080/"
        },
        "id": "MpbDvjg22iuz",
        "outputId": "4740fd37-59c8-4424-8e33-b10d748e9d30"
      },
      "source": [
        "best_only_checkpoint_dir = './best_only_cifar10_training_checkpoints'\n",
        "best_only_checkpoint_prefix = os.path.join(best_only_checkpoint_dir, \"ckpt_{epoch}\")\n",
        "print(best_only_checkpoint_prefix)"
      ],
      "execution_count": null,
      "outputs": [
        {
          "output_type": "stream",
          "text": [
            "./best_only_cifar10_training_checkpoints/ckpt_{epoch}\n"
          ],
          "name": "stdout"
        }
      ]
    },
    {
      "cell_type": "code",
      "metadata": {
        "id": "-j0FEPcy3N2E"
      },
      "source": [
        "bestCheckPoint = tf.keras.callbacks.ModelCheckpoint(\n",
        "    filepath=best_only_checkpoint_prefix\n",
        "    ,monitor='val_accuracy'\n",
        "    ,mode='auto'\n",
        "    ,save_best_only=True)"
      ],
      "execution_count": null,
      "outputs": []
    },
    {
      "cell_type": "code",
      "metadata": {
        "id": "vD9Zu1xt3Dgz"
      },
      "source": [
        "bestCallbacks = [\n",
        "    bestCheckPoint\n",
        "]"
      ],
      "execution_count": null,
      "outputs": []
    },
    {
      "cell_type": "code",
      "metadata": {
        "colab": {
          "base_uri": "https://localhost:8080/"
        },
        "id": "TE-kzHwy3aJ4",
        "outputId": "05927bc6-e1e3-497e-ab44-8fabe1eb23d0"
      },
      "source": [
        "best_hist = model.fit(\n",
        "    train_dataset\n",
        "    ,epochs=12\n",
        "    ,steps_per_epoch=STEPS_PER_EPOCH\n",
        "    ,validation_data=validation_dataset\n",
        "    ,validation_steps=VALIDATION_STEPS\n",
        "    ,callbacks=bestCallbacks).history"
      ],
      "execution_count": null,
      "outputs": [
        {
          "output_type": "stream",
          "text": [
            "Epoch 1/12\n",
            "250/250 [==============================] - 3s 10ms/step - loss: 0.3301 - accuracy: 0.8901 - val_loss: 2.0081 - val_accuracy: 0.6000\n",
            "INFO:tensorflow:Assets written to: ./best_only_cifar10_training_checkpoints/ckpt_1/assets\n",
            "Epoch 2/12\n",
            "250/250 [==============================] - 3s 9ms/step - loss: 0.3254 - accuracy: 0.8950 - val_loss: 2.0864 - val_accuracy: 0.6000\n",
            "Epoch 3/12\n",
            "250/250 [==============================] - 3s 9ms/step - loss: 0.3404 - accuracy: 0.8919 - val_loss: 2.2601 - val_accuracy: 0.6020\n",
            "INFO:tensorflow:Assets written to: ./best_only_cifar10_training_checkpoints/ckpt_3/assets\n",
            "Epoch 4/12\n",
            "250/250 [==============================] - 3s 9ms/step - loss: 0.3122 - accuracy: 0.9012 - val_loss: 2.2877 - val_accuracy: 0.5960\n",
            "Epoch 5/12\n",
            "250/250 [==============================] - 3s 9ms/step - loss: 0.2989 - accuracy: 0.9095 - val_loss: 2.3951 - val_accuracy: 0.6000\n",
            "Epoch 6/12\n",
            "250/250 [==============================] - 3s 9ms/step - loss: 0.2640 - accuracy: 0.9184 - val_loss: 2.6985 - val_accuracy: 0.5680\n",
            "Epoch 7/12\n",
            "250/250 [==============================] - 3s 9ms/step - loss: 0.2922 - accuracy: 0.9149 - val_loss: 2.7420 - val_accuracy: 0.5960\n",
            "Epoch 8/12\n",
            "250/250 [==============================] - 3s 9ms/step - loss: 0.3041 - accuracy: 0.9122 - val_loss: 2.7777 - val_accuracy: 0.5760\n",
            "Epoch 9/12\n",
            "250/250 [==============================] - 3s 9ms/step - loss: 0.2666 - accuracy: 0.9224 - val_loss: 3.0843 - val_accuracy: 0.6200\n",
            "INFO:tensorflow:Assets written to: ./best_only_cifar10_training_checkpoints/ckpt_9/assets\n",
            "Epoch 10/12\n",
            "250/250 [==============================] - 3s 9ms/step - loss: 0.3142 - accuracy: 0.9134 - val_loss: 3.1054 - val_accuracy: 0.5920\n",
            "Epoch 11/12\n",
            "250/250 [==============================] - 3s 9ms/step - loss: 0.3350 - accuracy: 0.9095 - val_loss: 2.6478 - val_accuracy: 0.6160\n",
            "Epoch 12/12\n",
            "250/250 [==============================] - 3s 9ms/step - loss: 0.3093 - accuracy: 0.9159 - val_loss: 2.8342 - val_accuracy: 0.5840\n"
          ],
          "name": "stdout"
        }
      ]
    },
    {
      "cell_type": "markdown",
      "metadata": {
        "id": "t71116tX3wzO"
      },
      "source": [
        "Let's take a look at checkpoint directory where you set `set_best_only` to `True`:"
      ]
    },
    {
      "cell_type": "code",
      "metadata": {
        "colab": {
          "base_uri": "https://localhost:8080/"
        },
        "id": "QjByW4y43iX3",
        "outputId": "d5981cc2-e232-46e2-ddaf-44d6ce2972aa"
      },
      "source": [
        "!ls -lrt ./best_only_cifar10_training_checkpoints"
      ],
      "execution_count": null,
      "outputs": [
        {
          "output_type": "stream",
          "text": [
            "total 12\n",
            "drwxr-xr-x 4 root root 4096 Jan 14 01:57 ckpt_1\n",
            "drwxr-xr-x 4 root root 4096 Jan 14 01:58 ckpt_3\n",
            "drwxr-xr-x 4 root root 4096 Jan 14 01:58 ckpt_9\n"
          ],
          "name": "stdout"
        }
      ]
    },
    {
      "cell_type": "markdown",
      "metadata": {
        "id": "MKlUy7TU4XrA"
      },
      "source": [
        "Not all checkpoints are saved. This is because `save_best_only` option lets you save checkpoints after the first epoch only if there is an incremental improvement to the model metric of your choice. You can how many times the model was saved. This means the model performance in validation accuracy (`val_accuracy`) is best at the last time the model was saved. Therefore the last checkpoint saved is the best model."
      ]
    },
    {
      "cell_type": "code",
      "metadata": {
        "id": "Svqp_GS73-O6"
      },
      "source": [
        ""
      ],
      "execution_count": null,
      "outputs": []
    }
  ]
}