{
  "nbformat": 4,
  "nbformat_minor": 0,
  "metadata": {
    "colab": {
      "name": "oreilly_c7_cifar10.ipynb",
      "provenance": []
    },
    "kernelspec": {
      "name": "python3",
      "display_name": "Python 3"
    },
    "accelerator": "GPU"
  },
  "cells": [
    {
      "cell_type": "code",
      "metadata": {
        "id": "brfUj9kxYh7r"
      },
      "source": [
        "import tensorflow as tf\n",
        "from tensorflow.keras import datasets, layers, models\n",
        "import numpy as np\n",
        "import matplotlib.pylab as plt\n",
        "import os"
      ],
      "execution_count": null,
      "outputs": []
    },
    {
      "cell_type": "code",
      "metadata": {
        "id": "Hsx5ywgQYqhz"
      },
      "source": [
        "(train_images, train_labels), (test_images, test_labels) = datasets.cifar10.load_data()\n",
        "\n",
        "# Normalize pixel values to be between 0 and 1\n",
        "train_images, test_images = train_images / 255.0, test_images / 255.0"
      ],
      "execution_count": null,
      "outputs": []
    },
    {
      "cell_type": "code",
      "metadata": {
        "id": "hhPHjdeYYv7u"
      },
      "source": [
        "# Plain text name in alphabetical order. https://www.cs.toronto.edu/~kriz/cifar.html\n",
        "CLASS_NAMES = ['airplane', 'automobile', 'bird', 'cat', \n",
        "               'deer','dog', 'frog', 'horse', 'ship', 'truck']"
      ],
      "execution_count": null,
      "outputs": []
    },
    {
      "cell_type": "markdown",
      "metadata": {
        "id": "0Gxr-5SVe5xf"
      },
      "source": [
        "Let's use half of test data as the validation data."
      ]
    },
    {
      "cell_type": "code",
      "metadata": {
        "id": "IelZX9Nger2R"
      },
      "source": [
        "validation_dataset = tf.data.Dataset.from_tensor_slices((test_images[:500], test_labels[:500]))\n",
        "test_dataset = tf.data.Dataset.from_tensor_slices((test_images[500:], test_labels[500:]))"
      ],
      "execution_count": null,
      "outputs": []
    },
    {
      "cell_type": "markdown",
      "metadata": {
        "id": "EsxmMi_He94F"
      },
      "source": [
        "Now the datasets are built for validation and test data. Next, we will keep all training data for training."
      ]
    },
    {
      "cell_type": "code",
      "metadata": {
        "id": "lN0jT3XvewP3"
      },
      "source": [
        "# Create an instance of dataset from raw numpy images and labels.\n",
        "train_dataset = tf.data.Dataset.from_tensor_slices((train_images, train_labels))"
      ],
      "execution_count": null,
      "outputs": []
    },
    {
      "cell_type": "code",
      "metadata": {
        "colab": {
          "base_uri": "https://localhost:8080/"
        },
        "id": "yqkLO8EOfARt",
        "outputId": "848ef08f-b0e7-4b0f-b1ea-cbfac74be1a7"
      },
      "source": [
        "# https://www.tensorflow.org/api_docs/python/tf/data/Dataset#transformations_2\n",
        "train_dataset_size = len(list(train_dataset.as_numpy_iterator()))\n",
        "print('Training data sample size: ', train_dataset_size)"
      ],
      "execution_count": null,
      "outputs": [
        {
          "output_type": "stream",
          "text": [
            "Training data sample size:  50000\n"
          ],
          "name": "stdout"
        }
      ]
    },
    {
      "cell_type": "code",
      "metadata": {
        "id": "-GRVCZYlfC7W"
      },
      "source": [
        "TRAIN_BATCH_SIZE = 200\n",
        "train_dataset = train_dataset.shuffle(50000).batch(TRAIN_BATCH_SIZE, drop_remainder=True)"
      ],
      "execution_count": null,
      "outputs": []
    },
    {
      "cell_type": "code",
      "metadata": {
        "id": "D9rcvZhngWia"
      },
      "source": [
        "validation_dataset = validation_dataset.batch(500)\n",
        "test_dataset = test_dataset.batch(500)"
      ],
      "execution_count": null,
      "outputs": []
    },
    {
      "cell_type": "code",
      "metadata": {
        "id": "UacH_ItBgZG7"
      },
      "source": [
        "STEPS_PER_EPOCH = train_dataset_size // TRAIN_BATCH_SIZE\n",
        "VALIDATION_STEPS = 1 #validation data // validation batch size"
      ],
      "execution_count": null,
      "outputs": []
    },
    {
      "cell_type": "code",
      "metadata": {
        "id": "s6nRE_rTgb4T"
      },
      "source": [
        "model = tf.keras.Sequential([\n",
        "    tf.keras.layers.Conv2D(32, kernel_size=(3, 3), activation='relu', \n",
        "      kernel_initializer='glorot_uniform', padding='same', input_shape = (32,32,3)),\n",
        "    tf.keras.layers.MaxPooling2D(pool_size=(2, 2)),\n",
        "    tf.keras.layers.Conv2D(64, kernel_size=(3, 3), activation='relu', \n",
        "      kernel_initializer='glorot_uniform', padding='same'),\n",
        "    tf.keras.layers.MaxPooling2D(pool_size=(2, 2)),\n",
        "    tf.keras.layers.Flatten(),\n",
        "    tf.keras.layers.Dense(256, activation='relu', kernel_initializer='glorot_uniform'),\n",
        "    tf.keras.layers.Dense(10, activation='softmax', name = 'custom_class')\n",
        "])\n",
        "model.build([None, 32, 32, 3])"
      ],
      "execution_count": null,
      "outputs": []
    },
    {
      "cell_type": "code",
      "metadata": {
        "id": "hJ71ACqKgg17"
      },
      "source": [
        "model.compile(\n",
        "          loss='sparse_categorical_crossentropy',\n",
        "          optimizer=tf.keras.optimizers.SGD(learning_rate=0.1, momentum=0.9),\n",
        "          metrics=['accuracy'])"
      ],
      "execution_count": null,
      "outputs": []
    },
    {
      "cell_type": "markdown",
      "metadata": {
        "id": "6LlkmbgBi9l5"
      },
      "source": [
        "Let's define some alias for file path to save model checkpoints."
      ]
    },
    {
      "cell_type": "code",
      "metadata": {
        "colab": {
          "base_uri": "https://localhost:8080/"
        },
        "id": "06Oed8lrgjCB",
        "outputId": "480b964c-39bd-411b-99d2-547b4f010f56"
      },
      "source": [
        "checkpoint_dir = './cifar10_training_checkpoints'\n",
        "checkpoint_prefix = os.path.join(checkpoint_dir, \"ckpt_{epoch}\")\n",
        "print(checkpoint_prefix)"
      ],
      "execution_count": null,
      "outputs": [
        {
          "output_type": "stream",
          "text": [
            "./cifar10_training_checkpoints/ckpt_{epoch}\n"
          ],
          "name": "stdout"
        }
      ]
    },
    {
      "cell_type": "markdown",
      "metadata": {
        "id": "PhvXn7-M5yVM"
      },
      "source": [
        "See https://www.tensorflow.org/api_docs/python/tf/keras/callbacks/ModelCheckpoint for details of function signature for `ModelCheckpoint`."
      ]
    },
    {
      "cell_type": "code",
      "metadata": {
        "id": "2MwuK2ccjQXp"
      },
      "source": [
        "myCheckPoint = tf.keras.callbacks.ModelCheckpoint(\n",
        "    filepath=checkpoint_prefix\n",
        "    ,monitor='val_accuracy'\n",
        "    ,mode='auto')"
      ],
      "execution_count": null,
      "outputs": []
    },
    {
      "cell_type": "code",
      "metadata": {
        "id": "YrBygME81FCU"
      },
      "source": [
        "myCallbacks = [\n",
        "    myCheckPoint\n",
        "]"
      ],
      "execution_count": null,
      "outputs": []
    },
    {
      "cell_type": "code",
      "metadata": {
        "colab": {
          "base_uri": "https://localhost:8080/"
        },
        "id": "_aTUigIA1KrJ",
        "outputId": "e8a6278f-18f1-4945-fc89-e276adf74066"
      },
      "source": [
        "hist = model.fit(\n",
        "    train_dataset\n",
        "    ,epochs=12\n",
        "    ,steps_per_epoch=STEPS_PER_EPOCH\n",
        "    ,validation_data=validation_dataset\n",
        "    ,validation_steps=VALIDATION_STEPS\n",
        "    ,callbacks=myCallbacks).history"
      ],
      "execution_count": null,
      "outputs": [
        {
          "output_type": "stream",
          "text": [
            "Epoch 1/12\n",
            "250/250 [==============================] - 10s 11ms/step - loss: 2.0132 - accuracy: 0.2614 - val_loss: 1.4556 - val_accuracy: 0.4720\n",
            "INFO:tensorflow:Assets written to: ./cifar10_training_checkpoints/ckpt_1/assets\n",
            "Epoch 2/12\n",
            "250/250 [==============================] - 4s 14ms/step - loss: 1.3883 - accuracy: 0.5050 - val_loss: 1.2688 - val_accuracy: 0.5680\n",
            "INFO:tensorflow:Assets written to: ./cifar10_training_checkpoints/ckpt_2/assets\n",
            "Epoch 3/12\n",
            "250/250 [==============================] - 4s 14ms/step - loss: 1.1359 - accuracy: 0.5997 - val_loss: 1.1601 - val_accuracy: 0.6000\n",
            "INFO:tensorflow:Assets written to: ./cifar10_training_checkpoints/ckpt_3/assets\n",
            "Epoch 4/12\n",
            "250/250 [==============================] - 4s 14ms/step - loss: 0.9931 - accuracy: 0.6470 - val_loss: 1.1630 - val_accuracy: 0.5900\n",
            "INFO:tensorflow:Assets written to: ./cifar10_training_checkpoints/ckpt_4/assets\n",
            "Epoch 5/12\n",
            "250/250 [==============================] - 4s 14ms/step - loss: 0.8318 - accuracy: 0.7064 - val_loss: 1.1640 - val_accuracy: 0.6120\n",
            "INFO:tensorflow:Assets written to: ./cifar10_training_checkpoints/ckpt_5/assets\n",
            "Epoch 6/12\n",
            "250/250 [==============================] - 4s 14ms/step - loss: 0.7329 - accuracy: 0.7394 - val_loss: 1.1168 - val_accuracy: 0.6020\n",
            "INFO:tensorflow:Assets written to: ./cifar10_training_checkpoints/ckpt_6/assets\n",
            "Epoch 7/12\n",
            "250/250 [==============================] - 4s 14ms/step - loss: 0.5943 - accuracy: 0.7902 - val_loss: 1.1273 - val_accuracy: 0.6100\n",
            "INFO:tensorflow:Assets written to: ./cifar10_training_checkpoints/ckpt_7/assets\n",
            "Epoch 8/12\n",
            "250/250 [==============================] - 4s 14ms/step - loss: 0.4931 - accuracy: 0.8261 - val_loss: 1.3179 - val_accuracy: 0.6380\n",
            "INFO:tensorflow:Assets written to: ./cifar10_training_checkpoints/ckpt_8/assets\n",
            "Epoch 9/12\n",
            "250/250 [==============================] - 4s 14ms/step - loss: 0.4000 - accuracy: 0.8598 - val_loss: 1.3279 - val_accuracy: 0.6100\n",
            "INFO:tensorflow:Assets written to: ./cifar10_training_checkpoints/ckpt_9/assets\n",
            "Epoch 10/12\n",
            "250/250 [==============================] - 4s 14ms/step - loss: 0.3438 - accuracy: 0.8832 - val_loss: 1.7378 - val_accuracy: 0.5700\n",
            "INFO:tensorflow:Assets written to: ./cifar10_training_checkpoints/ckpt_10/assets\n",
            "Epoch 11/12\n",
            "250/250 [==============================] - 4s 14ms/step - loss: 0.3488 - accuracy: 0.8808 - val_loss: 1.7586 - val_accuracy: 0.5620\n",
            "INFO:tensorflow:Assets written to: ./cifar10_training_checkpoints/ckpt_11/assets\n",
            "Epoch 12/12\n",
            "250/250 [==============================] - 4s 13ms/step - loss: 0.3316 - accuracy: 0.8883 - val_loss: 1.8673 - val_accuracy: 0.5960\n",
            "INFO:tensorflow:Assets written to: ./cifar10_training_checkpoints/ckpt_12/assets\n"
          ],
          "name": "stdout"
        }
      ]
    },
    {
      "cell_type": "code",
      "metadata": {
        "colab": {
          "base_uri": "https://localhost:8080/"
        },
        "id": "6Uddjxbd7Nkf",
        "outputId": "9d9f1981-1037-4446-88e6-826f8eb04b0c"
      },
      "source": [
        "type(hist)"
      ],
      "execution_count": null,
      "outputs": [
        {
          "output_type": "execute_result",
          "data": {
            "text/plain": [
              "dict"
            ]
          },
          "metadata": {
            "tags": []
          },
          "execution_count": 16
        }
      ]
    },
    {
      "cell_type": "code",
      "metadata": {
        "colab": {
          "base_uri": "https://localhost:8080/"
        },
        "id": "z7qpF-_N7W5H",
        "outputId": "bae2725f-9289-44b1-c0fc-da7eee00ac1e"
      },
      "source": [
        "hist['val_accuracy']"
      ],
      "execution_count": null,
      "outputs": [
        {
          "output_type": "execute_result",
          "data": {
            "text/plain": [
              "[0.47200000286102295,\n",
              " 0.5680000185966492,\n",
              " 0.6000000238418579,\n",
              " 0.5899999737739563,\n",
              " 0.6119999885559082,\n",
              " 0.6019999980926514,\n",
              " 0.6100000143051147,\n",
              " 0.6380000114440918,\n",
              " 0.6100000143051147,\n",
              " 0.5699999928474426,\n",
              " 0.5619999766349792,\n",
              " 0.5960000157356262]"
            ]
          },
          "metadata": {
            "tags": []
          },
          "execution_count": 17
        }
      ]
    },
    {
      "cell_type": "code",
      "metadata": {
        "colab": {
          "base_uri": "https://localhost:8080/"
        },
        "id": "-qllX1tQ7cnN",
        "outputId": "3c640ea3-76ce-4d87-e83d-a1a252e798fc"
      },
      "source": [
        "max_value = max(hist['val_accuracy'])\n",
        "max_index = hist['val_accuracy'].index(max_value)\n",
        "print('Best epoch: ', max_index + 1)"
      ],
      "execution_count": null,
      "outputs": [
        {
          "output_type": "stream",
          "text": [
            "Best epoch:  8\n"
          ],
          "name": "stdout"
        }
      ]
    },
    {
      "cell_type": "markdown",
      "metadata": {
        "id": "eZGFV9zU2NsO"
      },
      "source": [
        "Epoch 7 yielded model with highest accuracy. Now take a look at the checkpoint directory:"
      ]
    },
    {
      "cell_type": "code",
      "metadata": {
        "colab": {
          "base_uri": "https://localhost:8080/"
        },
        "id": "2lmy7ZZK1rIw",
        "outputId": "e0cc59cd-4f61-40c8-e7a0-baad32304aaa"
      },
      "source": [
        "!ls -lrt ./cifar10_training_checkpoints"
      ],
      "execution_count": null,
      "outputs": [
        {
          "output_type": "stream",
          "text": [
            "total 48\n",
            "drwxr-xr-x 4 root root 4096 Jan 14 01:56 ckpt_1\n",
            "drwxr-xr-x 4 root root 4096 Jan 14 01:56 ckpt_2\n",
            "drwxr-xr-x 4 root root 4096 Jan 14 01:56 ckpt_3\n",
            "drwxr-xr-x 4 root root 4096 Jan 14 01:57 ckpt_4\n",
            "drwxr-xr-x 4 root root 4096 Jan 14 01:57 ckpt_5\n",
            "drwxr-xr-x 4 root root 4096 Jan 14 01:57 ckpt_6\n",
            "drwxr-xr-x 4 root root 4096 Jan 14 01:57 ckpt_7\n",
            "drwxr-xr-x 4 root root 4096 Jan 14 01:57 ckpt_8\n",
            "drwxr-xr-x 4 root root 4096 Jan 14 01:57 ckpt_9\n",
            "drwxr-xr-x 4 root root 4096 Jan 14 01:57 ckpt_10\n",
            "drwxr-xr-x 4 root root 4096 Jan 14 01:57 ckpt_11\n",
            "drwxr-xr-x 4 root root 4096 Jan 14 01:57 ckpt_12\n"
          ],
          "name": "stdout"
        }
      ]
    },
    {
      "cell_type": "code",
      "metadata": {
        "colab": {
          "base_uri": "https://localhost:8080/"
        },
        "id": "BlDuvbEd2GKR",
        "outputId": "b4f221b4-7164-4bf9-eddb-3286bc67b93d"
      },
      "source": [
        "!ls -lrt ./cifar10_training_checkpoints/ckpt_7"
      ],
      "execution_count": null,
      "outputs": [
        {
          "output_type": "stream",
          "text": [
            "total 136\n",
            "drwxr-xr-x 2 root root   4096 Jan 14 01:57 variables\n",
            "drwxr-xr-x 2 root root   4096 Jan 14 01:57 assets\n",
            "-rw-r--r-- 1 root root 127273 Jan 14 01:57 saved_model.pb\n"
          ],
          "name": "stdout"
        }
      ]
    },
    {
      "cell_type": "code",
      "metadata": {
        "colab": {
          "base_uri": "https://localhost:8080/"
        },
        "id": "MpbDvjg22iuz",
        "outputId": "4740fd37-59c8-4424-8e33-b10d748e9d30"
      },
      "source": [
        "best_only_checkpoint_dir = './best_only_cifar10_training_checkpoints'\n",
        "best_only_checkpoint_prefix = os.path.join(best_only_checkpoint_dir, \"ckpt_{epoch}\")\n",
        "print(best_only_checkpoint_prefix)"
      ],
      "execution_count": null,
      "outputs": [
        {
          "output_type": "stream",
          "text": [
            "./best_only_cifar10_training_checkpoints/ckpt_{epoch}\n"
          ],
          "name": "stdout"
        }
      ]
    },
    {
      "cell_type": "code",
      "metadata": {
        "id": "-j0FEPcy3N2E"
      },
      "source": [
        "bestCheckPoint = tf.keras.callbacks.ModelCheckpoint(\n",
        "    filepath=best_only_checkpoint_prefix\n",
        "    ,monitor='val_accuracy'\n",
        "    ,mode='auto'\n",
        "    ,save_best_only=True)"
      ],
      "execution_count": null,
      "outputs": []
    },
    {
      "cell_type": "code",
      "metadata": {
        "id": "vD9Zu1xt3Dgz"
      },
      "source": [
        "bestCallbacks = [\n",
        "    bestCheckPoint\n",
        "]"
      ],
      "execution_count": null,
      "outputs": []
    },
    {
      "cell_type": "code",
      "metadata": {
        "colab": {
          "base_uri": "https://localhost:8080/"
        },
        "id": "TE-kzHwy3aJ4",
        "outputId": "05927bc6-e1e3-497e-ab44-8fabe1eb23d0"
      },
      "source": [
        "best_hist = model.fit(\n",
        "    train_dataset\n",
        "    ,epochs=12\n",
        "    ,steps_per_epoch=STEPS_PER_EPOCH\n",
        "    ,validation_data=validation_dataset\n",
        "    ,validation_steps=VALIDATION_STEPS\n",
        "    ,callbacks=bestCallbacks).history"
      ],
      "execution_count": null,
      "outputs": [
        {
          "output_type": "stream",
          "text": [
            "Epoch 1/12\n",
            "250/250 [==============================] - 3s 10ms/step - loss: 0.3301 - accuracy: 0.8901 - val_loss: 2.0081 - val_accuracy: 0.6000\n",
            "INFO:tensorflow:Assets written to: ./best_only_cifar10_training_checkpoints/ckpt_1/assets\n",
            "Epoch 2/12\n",
            "250/250 [==============================] - 3s 9ms/step - loss: 0.3254 - accuracy: 0.8950 - val_loss: 2.0864 - val_accuracy: 0.6000\n",
            "Epoch 3/12\n",
            "250/250 [==============================] - 3s 9ms/step - loss: 0.3404 - accuracy: 0.8919 - val_loss: 2.2601 - val_accuracy: 0.6020\n",
            "INFO:tensorflow:Assets written to: ./best_only_cifar10_training_checkpoints/ckpt_3/assets\n",
            "Epoch 4/12\n",
            "250/250 [==============================] - 3s 9ms/step - loss: 0.3122 - accuracy: 0.9012 - val_loss: 2.2877 - val_accuracy: 0.5960\n",
            "Epoch 5/12\n",
            "250/250 [==============================] - 3s 9ms/step - loss: 0.2989 - accuracy: 0.9095 - val_loss: 2.3951 - val_accuracy: 0.6000\n",
            "Epoch 6/12\n",
            "250/250 [==============================] - 3s 9ms/step - loss: 0.2640 - accuracy: 0.9184 - val_loss: 2.6985 - val_accuracy: 0.5680\n",
            "Epoch 7/12\n",
            "250/250 [==============================] - 3s 9ms/step - loss: 0.2922 - accuracy: 0.9149 - val_loss: 2.7420 - val_accuracy: 0.5960\n",
            "Epoch 8/12\n",
            "250/250 [==============================] - 3s 9ms/step - loss: 0.3041 - accuracy: 0.9122 - val_loss: 2.7777 - val_accuracy: 0.5760\n",
            "Epoch 9/12\n",
            "250/250 [==============================] - 3s 9ms/step - loss: 0.2666 - accuracy: 0.9224 - val_loss: 3.0843 - val_accuracy: 0.6200\n",
            "INFO:tensorflow:Assets written to: ./best_only_cifar10_training_checkpoints/ckpt_9/assets\n",
            "Epoch 10/12\n",
            "250/250 [==============================] - 3s 9ms/step - loss: 0.3142 - accuracy: 0.9134 - val_loss: 3.1054 - val_accuracy: 0.5920\n",
            "Epoch 11/12\n",
            "250/250 [==============================] - 3s 9ms/step - loss: 0.3350 - accuracy: 0.9095 - val_loss: 2.6478 - val_accuracy: 0.6160\n",
            "Epoch 12/12\n",
            "250/250 [==============================] - 3s 9ms/step - loss: 0.3093 - accuracy: 0.9159 - val_loss: 2.8342 - val_accuracy: 0.5840\n"
          ],
          "name": "stdout"
        }
      ]
    },
    {
      "cell_type": "markdown",
      "metadata": {
        "id": "t71116tX3wzO"
      },
      "source": [
        "Let's take a look at checkpoint directory where you set `set_best_only` to `True`:"
      ]
    },
    {
      "cell_type": "code",
      "metadata": {
        "colab": {
          "base_uri": "https://localhost:8080/"
        },
        "id": "QjByW4y43iX3",
        "outputId": "d5981cc2-e232-46e2-ddaf-44d6ce2972aa"
      },
      "source": [
        "!ls -lrt ./best_only_cifar10_training_checkpoints"
      ],
      "execution_count": null,
      "outputs": [
        {
          "output_type": "stream",
          "text": [
            "total 12\n",
            "drwxr-xr-x 4 root root 4096 Jan 14 01:57 ckpt_1\n",
            "drwxr-xr-x 4 root root 4096 Jan 14 01:58 ckpt_3\n",
            "drwxr-xr-x 4 root root 4096 Jan 14 01:58 ckpt_9\n"
          ],
          "name": "stdout"
        }
      ]
    },
    {
      "cell_type": "markdown",
      "metadata": {
        "id": "MKlUy7TU4XrA"
      },
      "source": [
        "Not all checkpoints are saved. This is because `save_best_only` option lets you save checkpoints after the first epoch only if there is an incremental improvement to the model metric of your choice. You can how many times the model was saved. This means the model performance in validation accuracy (`val_accuracy`) is best at the last time the model was saved. Therefore the last checkpoint saved is the best model."
      ]
    },
    {
      "cell_type": "code",
      "metadata": {
        "id": "Svqp_GS73-O6"
      },
      "source": [
        ""
      ],
      "execution_count": null,
      "outputs": []
    }
  ]
}