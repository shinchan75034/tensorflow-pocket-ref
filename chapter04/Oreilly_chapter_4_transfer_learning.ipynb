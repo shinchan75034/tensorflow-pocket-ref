{
  "nbformat": 4,
  "nbformat_minor": 0,
  "metadata": {
    "accelerator": "GPU",
    "colab": {
      "name": "Oreilly_chapter_4_transfer_learning.ipynb",
      "provenance": [],
      "toc_visible": true,
      "include_colab_link": true
    },
    "kernelspec": {
      "display_name": "Python 3",
      "language": "python",
      "name": "python3"
    },
    "language_info": {
      "codemirror_mode": {
        "name": "ipython",
        "version": 3
      },
      "file_extension": ".py",
      "mimetype": "text/x-python",
      "name": "python",
      "nbconvert_exporter": "python",
      "pygments_lexer": "ipython3",
      "version": "3.8.5"
    }
  },
  "cells": [
    {
      "cell_type": "markdown",
      "metadata": {
        "id": "view-in-github",
        "colab_type": "text"
      },
      "source": [
        "<a href=\"https://colab.research.google.com/github/shinchan75034/tensorflow-pocket-ref/blob/main/chapter04/Oreilly_chapter_4_transfer_learning.ipynb\" target=\"_parent\"><img src=\"https://colab.research.google.com/assets/colab-badge.svg\" alt=\"Open In Colab\"/></a>"
      ]
    },
    {
      "cell_type": "markdown",
      "metadata": {
        "id": "Nkz5VftkGHH6"
      },
      "source": [
        "## TensorFlow Hub"
      ]
    },
    {
      "cell_type": "code",
      "metadata": {
        "id": "j7FHh2yx-foQ"
      },
      "source": [
        "import tensorflow as tf\n",
        "import tensorflow_hub as hub\n",
        "import numpy as np\n",
        "import matplotlib.pylab as plt"
      ],
      "execution_count": null,
      "outputs": []
    },
    {
      "cell_type": "code",
      "metadata": {
        "colab": {
          "base_uri": "https://localhost:8080/",
          "height": 51
        },
        "id": "NNiFmq9Z-q4T",
        "outputId": "b972dc56-748b-4138-960d-5dfbd60d9098"
      },
      "source": [
        "data_dir = tf.keras.utils.get_file(\n",
        "    'flower_photos',\n",
        "    'https://storage.googleapis.com/download.tensorflow.org/example_images/flower_photos.tgz',\n",
        "    untar=True)"
      ],
      "execution_count": null,
      "outputs": [
        {
          "output_type": "stream",
          "text": [
            "Downloading data from https://storage.googleapis.com/download.tensorflow.org/example_images/flower_photos.tgz\n",
            "228818944/228813984 [==============================] - 1s 0us/step\n"
          ],
          "name": "stdout"
        }
      ]
    },
    {
      "cell_type": "code",
      "metadata": {
        "colab": {
          "base_uri": "https://localhost:8080/",
          "height": 35
        },
        "id": "C0ZH8ZlE-5Z7",
        "outputId": "8d49280b-4449-4a4f-f173-9eeddc6a4176"
      },
      "source": [
        "data_dir"
      ],
      "execution_count": null,
      "outputs": [
        {
          "output_type": "execute_result",
          "data": {
            "application/vnd.google.colaboratory.intrinsic+json": {
              "type": "string"
            },
            "text/plain": [
              "'/root/.keras/datasets/flower_photos'"
            ]
          },
          "metadata": {
            "tags": []
          },
          "execution_count": 3
        }
      ]
    },
    {
      "cell_type": "code",
      "metadata": {
        "colab": {
          "base_uri": "https://localhost:8080/",
          "height": 136
        },
        "id": "p6kaCFyq_gr_",
        "outputId": "985185df-a2e1-405d-9823-ca1a532f0d25"
      },
      "source": [
        "!ls -lrt /root/.keras/datasets/flower_photos"
      ],
      "execution_count": null,
      "outputs": [
        {
          "output_type": "stream",
          "text": [
            "total 620\n",
            "-rw-r----- 1 270850 5000 418049 Feb  9  2016 LICENSE.txt\n",
            "drwx------ 2 270850 5000  45056 Feb 10  2016 tulips\n",
            "drwx------ 2 270850 5000  36864 Feb 10  2016 sunflowers\n",
            "drwx------ 2 270850 5000  36864 Feb 10  2016 roses\n",
            "drwx------ 2 270850 5000  53248 Feb 10  2016 dandelion\n",
            "drwx------ 2 270850 5000  40960 Feb 10  2016 daisy\n"
          ],
          "name": "stdout"
        }
      ]
    },
    {
      "cell_type": "markdown",
      "metadata": {
        "id": "pe_Cerv-BKad"
      },
      "source": [
        "Now we are going to use a generator object and invoke its `flow_from_directory` to handle the reshaping process."
      ]
    },
    {
      "cell_type": "code",
      "metadata": {
        "id": "pyfHMZZoBQ8N"
      },
      "source": [
        "pixels =224\n",
        "BATCH_SIZE = 32 \n",
        "IMAGE_SIZE = (pixels, pixels)\n",
        "NUM_CLASSES = 5"
      ],
      "execution_count": null,
      "outputs": []
    },
    {
      "cell_type": "code",
      "metadata": {
        "colab": {
          "base_uri": "https://localhost:8080/",
          "height": 51
        },
        "id": "3OEgg0rHAHd8",
        "outputId": "e89ad477-6187-4289-a400-17a60da28abb"
      },
      "source": [
        "datagen_kwargs = dict(rescale=1./255, validation_split=.20)\n",
        "dataflow_kwargs = dict(target_size=IMAGE_SIZE, batch_size=BATCH_SIZE,\n",
        "                   interpolation=\"bilinear\")\n",
        "\n",
        "valid_datagen = tf.keras.preprocessing.image.ImageDataGenerator(\n",
        "    **datagen_kwargs)\n",
        "valid_generator = valid_datagen.flow_from_directory(\n",
        "    data_dir, subset=\"validation\", shuffle=False, **dataflow_kwargs)\n",
        "\n",
        "train_datagen = valid_datagen\n",
        "train_generator = train_datagen.flow_from_directory(\n",
        "    data_dir, subset=\"training\", shuffle=True, **dataflow_kwargs)"
      ],
      "execution_count": null,
      "outputs": [
        {
          "output_type": "stream",
          "text": [
            "Found 731 images belonging to 5 classes.\n",
            "Found 2939 images belonging to 5 classes.\n"
          ],
          "name": "stdout"
        }
      ]
    },
    {
      "cell_type": "markdown",
      "metadata": {
        "id": "zHg_Q2V_F69l"
      },
      "source": [
        "Find label index and order of classes"
      ]
    },
    {
      "cell_type": "code",
      "metadata": {
        "id": "jt-3x2iVDRdL"
      },
      "source": [
        "labels_idx = (train_generator.class_indices)\n",
        "idx_labels = dict((v,k) for k,v in labels_idx.items())"
      ],
      "execution_count": null,
      "outputs": []
    },
    {
      "cell_type": "code",
      "metadata": {
        "colab": {
          "base_uri": "https://localhost:8080/",
          "height": 34
        },
        "id": "J5Nk05zMF83H",
        "outputId": "8dd4a09d-4b9a-4eb2-c76a-5d0dbb53def8"
      },
      "source": [
        "idx_labels"
      ],
      "execution_count": null,
      "outputs": [
        {
          "output_type": "execute_result",
          "data": {
            "text/plain": [
              "{0: 'daisy', 1: 'dandelion', 2: 'roses', 3: 'sunflowers', 4: 'tulips'}"
            ]
          },
          "metadata": {
            "tags": []
          },
          "execution_count": 8
        }
      ]
    },
    {
      "cell_type": "code",
      "metadata": {
        "id": "X-dyL_z0F9zJ"
      },
      "source": [
        "model = tf.keras.Sequential([\n",
        "    tf.keras.layers.InputLayer(input_shape=IMAGE_SIZE + (3,)),\n",
        "    hub.KerasLayer(\"https://tfhub.dev/google/imagenet/resnet_v1_101/feature_vector/4\",\n",
        "                   trainable=False),\n",
        "    tf.keras.layers.Dense(NUM_CLASSES, activation='softmax', name = 'flower_class')\n",
        "])\n",
        "model.build([None, 224, 224, 3])"
      ],
      "execution_count": null,
      "outputs": []
    },
    {
      "cell_type": "code",
      "metadata": {
        "colab": {
          "base_uri": "https://localhost:8080/",
          "height": 221
        },
        "id": "PWuE_v74ImFL",
        "outputId": "aa330eb0-2724-4dbd-95b6-7ab2ae080b7c"
      },
      "source": [
        "model.summary()"
      ],
      "execution_count": null,
      "outputs": [
        {
          "output_type": "stream",
          "text": [
            "Model: \"sequential\"\n",
            "_________________________________________________________________\n",
            "Layer (type)                 Output Shape              Param #   \n",
            "=================================================================\n",
            "keras_layer (KerasLayer)     (None, 2048)              42605504  \n",
            "_________________________________________________________________\n",
            "flower_class (Dense)         (None, 5)                 10245     \n",
            "=================================================================\n",
            "Total params: 42,615,749\n",
            "Trainable params: 10,245\n",
            "Non-trainable params: 42,605,504\n",
            "_________________________________________________________________\n"
          ],
          "name": "stdout"
        }
      ]
    },
    {
      "cell_type": "code",
      "metadata": {
        "id": "HTrzbUVJI8e_"
      },
      "source": [
        "model.compile(\n",
        "  optimizer=tf.keras.optimizers.SGD(lr=0.005, momentum=0.9), \n",
        "  loss=tf.keras.losses.CategoricalCrossentropy(from_logits=True, label_smoothing=0.1),\n",
        "  metrics=['accuracy'])"
      ],
      "execution_count": null,
      "outputs": []
    },
    {
      "cell_type": "code",
      "metadata": {
        "colab": {
          "base_uri": "https://localhost:8080/",
          "height": 187
        },
        "id": "PUDFTncAKacT",
        "outputId": "89631d6c-9581-400c-9fc9-2c466d86b18d"
      },
      "source": [
        "steps_per_epoch = train_generator.samples // train_generator.batch_size\n",
        "validation_steps = valid_generator.samples // valid_generator.batch_size\n",
        "hist = model.fit(\n",
        "    train_generator,\n",
        "    epochs=5, steps_per_epoch=steps_per_epoch,\n",
        "    validation_data=valid_generator,\n",
        "    validation_steps=validation_steps).history"
      ],
      "execution_count": null,
      "outputs": [
        {
          "output_type": "stream",
          "text": [
            "Epoch 1/5\n",
            "91/91 [==============================] - 18s 198ms/step - loss: 1.2204 - accuracy: 0.7461 - val_loss: 1.1488 - val_accuracy: 0.8295\n",
            "Epoch 2/5\n",
            "91/91 [==============================] - 17s 185ms/step - loss: 1.1124 - accuracy: 0.8713 - val_loss: 1.1265 - val_accuracy: 0.8494\n",
            "Epoch 3/5\n",
            "91/91 [==============================] - 17s 184ms/step - loss: 1.0888 - accuracy: 0.8965 - val_loss: 1.1162 - val_accuracy: 0.8594\n",
            "Epoch 4/5\n",
            "91/91 [==============================] - 17s 184ms/step - loss: 1.0752 - accuracy: 0.9161 - val_loss: 1.1082 - val_accuracy: 0.8665\n",
            "Epoch 5/5\n",
            "91/91 [==============================] - 17s 185ms/step - loss: 1.0661 - accuracy: 0.9257 - val_loss: 1.1039 - val_accuracy: 0.8750\n"
          ],
          "name": "stdout"
        }
      ]
    },
    {
      "cell_type": "code",
      "metadata": {
        "id": "YqeFcZhLKcjM"
      },
      "source": [
        "sample_test_images, ground_truth_labels = next(valid_generator)"
      ],
      "execution_count": null,
      "outputs": []
    },
    {
      "cell_type": "code",
      "metadata": {
        "colab": {
          "base_uri": "https://localhost:8080/",
          "height": 34
        },
        "id": "WZUZigTd9Qkq",
        "outputId": "54d37e67-b55a-4772-d341-44f6a8fc3959"
      },
      "source": [
        "type(sample_test_images)"
      ],
      "execution_count": null,
      "outputs": [
        {
          "output_type": "execute_result",
          "data": {
            "text/plain": [
              "numpy.ndarray"
            ]
          },
          "metadata": {
            "tags": []
          },
          "execution_count": 14
        }
      ]
    },
    {
      "cell_type": "code",
      "metadata": {
        "colab": {
          "base_uri": "https://localhost:8080/",
          "height": 34
        },
        "id": "oTPXGs4J5Fmd",
        "outputId": "de7192c3-d9ee-4fcf-d2dc-ec6a3c412dcb"
      },
      "source": [
        "len(ground_truth_labels)"
      ],
      "execution_count": null,
      "outputs": [
        {
          "output_type": "execute_result",
          "data": {
            "text/plain": [
              "32"
            ]
          },
          "metadata": {
            "tags": []
          },
          "execution_count": 15
        }
      ]
    },
    {
      "cell_type": "code",
      "metadata": {
        "id": "1WJNFa765HoX"
      },
      "source": [
        "prediction = model.predict(valid_generator)"
      ],
      "execution_count": null,
      "outputs": []
    },
    {
      "cell_type": "code",
      "metadata": {
        "colab": {
          "base_uri": "https://localhost:8080/",
          "height": 34
        },
        "id": "iLWA4M7_CdD0",
        "outputId": "1b1aaed4-ecae-4730-dd38-f2a41835d597"
      },
      "source": [
        "len(prediction)"
      ],
      "execution_count": null,
      "outputs": [
        {
          "output_type": "execute_result",
          "data": {
            "text/plain": [
              "731"
            ]
          },
          "metadata": {
            "tags": []
          },
          "execution_count": 17
        }
      ]
    },
    {
      "cell_type": "code",
      "metadata": {
        "colab": {
          "base_uri": "https://localhost:8080/",
          "height": 238
        },
        "id": "9vxnJPAm6DhO",
        "outputId": "e2e02830-9c8b-4186-e5c5-25e726cfef56"
      },
      "source": [
        "prediction"
      ],
      "execution_count": null,
      "outputs": [
        {
          "output_type": "execute_result",
          "data": {
            "text/plain": [
              "array([[9.85499024e-01, 1.88068618e-04, 1.49480900e-10, 1.43129453e-02,\n",
              "        5.68702276e-08],\n",
              "       [9.98949230e-01, 1.33055210e-05, 2.35849057e-12, 1.03748892e-03,\n",
              "        9.11507136e-09],\n",
              "       [9.82492685e-01, 1.48683535e-02, 2.36548458e-05, 2.59268004e-03,\n",
              "        2.26959637e-05],\n",
              "       ...,\n",
              "       [6.02934379e-05, 1.69046167e-02, 2.88234860e-01, 4.45079943e-03,\n",
              "        6.90349400e-01],\n",
              "       [2.47006869e-06, 2.84596535e-05, 8.25712868e-06, 1.88458387e-07,\n",
              "        9.99960661e-01],\n",
              "       [5.68267074e-04, 2.16917172e-02, 1.91001443e-03, 7.87149533e-04,\n",
              "        9.75042880e-01]], dtype=float32)"
            ]
          },
          "metadata": {
            "tags": []
          },
          "execution_count": 18
        }
      ]
    },
    {
      "cell_type": "code",
      "metadata": {
        "id": "NEzvciJQ6FRN"
      },
      "source": [
        "labelings = tf.math.argmax(prediction, axis = -1)"
      ],
      "execution_count": null,
      "outputs": []
    },
    {
      "cell_type": "code",
      "metadata": {
        "id": "kvN0Ql6-8eQN"
      },
      "source": [
        "predicted_idx = tf.math.argmax(prediction, axis = -1)"
      ],
      "execution_count": null,
      "outputs": []
    },
    {
      "cell_type": "code",
      "metadata": {
        "colab": {
          "base_uri": "https://localhost:8080/",
          "height": 612
        },
        "id": "Ajyd7Xlw8hZw",
        "outputId": "e772ff02-8dd5-4751-8b62-2c8c86fcbfb5"
      },
      "source": [
        "predicted_idx"
      ],
      "execution_count": null,
      "outputs": [
        {
          "output_type": "execute_result",
          "data": {
            "text/plain": [
              "<tf.Tensor: shape=(731,), dtype=int64, numpy=\n",
              "array([0, 0, 0, 0, 0, 0, 0, 0, 0, 0, 0, 1, 0, 0, 0, 0, 0, 0, 0, 0, 0, 0,\n",
              "       0, 0, 1, 0, 0, 0, 0, 0, 0, 0, 0, 0, 0, 0, 0, 0, 0, 0, 0, 0, 0, 0,\n",
              "       1, 0, 0, 0, 0, 0, 0, 0, 0, 0, 0, 0, 0, 0, 0, 0, 1, 0, 1, 0, 0, 0,\n",
              "       0, 1, 0, 0, 0, 0, 0, 0, 0, 2, 0, 0, 0, 0, 0, 0, 0, 0, 3, 0, 0, 0,\n",
              "       0, 0, 0, 0, 0, 0, 0, 0, 0, 0, 0, 0, 0, 0, 0, 0, 0, 0, 0, 0, 0, 0,\n",
              "       0, 0, 0, 0, 0, 0, 0, 0, 0, 0, 0, 1, 0, 2, 0, 0, 1, 1, 1, 1, 1, 1,\n",
              "       1, 1, 3, 1, 1, 1, 1, 1, 3, 1, 1, 1, 1, 1, 1, 1, 1, 1, 1, 1, 1, 1,\n",
              "       1, 1, 1, 1, 1, 3, 1, 1, 1, 1, 1, 0, 3, 1, 1, 1, 4, 1, 1, 1, 1, 1,\n",
              "       1, 1, 1, 1, 1, 2, 1, 1, 1, 1, 1, 1, 1, 1, 1, 1, 1, 1, 1, 0, 1, 1,\n",
              "       1, 1, 1, 1, 1, 3, 4, 1, 1, 1, 1, 4, 1, 1, 1, 1, 1, 1, 1, 1, 1, 1,\n",
              "       1, 1, 1, 1, 1, 1, 1, 1, 1, 1, 1, 3, 1, 1, 1, 1, 1, 1, 1, 1, 1, 1,\n",
              "       1, 1, 1, 1, 1, 3, 1, 1, 1, 1, 1, 3, 4, 1, 1, 1, 1, 1, 1, 1, 1, 1,\n",
              "       1, 1, 1, 1, 1, 1, 1, 1, 1, 1, 1, 1, 1, 2, 1, 1, 1, 1, 1, 1, 1, 1,\n",
              "       1, 1, 1, 1, 1, 1, 1, 1, 1, 1, 2, 1, 1, 1, 1, 1, 1, 1, 1, 2, 2, 2,\n",
              "       2, 2, 4, 2, 2, 2, 2, 4, 2, 2, 4, 2, 2, 2, 2, 2, 2, 4, 2, 2, 2, 2,\n",
              "       2, 2, 4, 4, 2, 4, 4, 2, 2, 2, 4, 2, 2, 2, 2, 2, 2, 2, 2, 2, 2, 2,\n",
              "       2, 2, 2, 4, 2, 2, 2, 1, 2, 2, 2, 2, 2, 2, 2, 2, 2, 2, 2, 2, 2, 2,\n",
              "       2, 2, 2, 2, 4, 2, 2, 2, 2, 2, 2, 2, 2, 0, 2, 2, 2, 2, 2, 2, 2, 2,\n",
              "       3, 2, 2, 2, 3, 2, 0, 2, 2, 2, 2, 2, 4, 2, 2, 2, 2, 2, 2, 4, 4, 2,\n",
              "       2, 2, 2, 2, 0, 3, 4, 2, 2, 2, 2, 2, 3, 3, 2, 3, 3, 3, 3, 3, 3, 3,\n",
              "       3, 3, 3, 3, 3, 3, 3, 3, 3, 3, 3, 3, 4, 3, 3, 3, 3, 3, 2, 3, 3, 3,\n",
              "       3, 3, 3, 3, 2, 3, 3, 3, 3, 3, 3, 3, 3, 3, 3, 3, 3, 3, 3, 3, 3, 3,\n",
              "       3, 3, 3, 3, 1, 3, 3, 3, 3, 3, 3, 2, 3, 1, 1, 3, 3, 3, 3, 3, 3, 3,\n",
              "       3, 3, 3, 3, 3, 3, 3, 3, 3, 1, 3, 1, 1, 3, 3, 3, 3, 3, 3, 3, 3, 3,\n",
              "       3, 3, 3, 3, 3, 3, 4, 3, 3, 3, 3, 3, 3, 3, 3, 3, 3, 4, 4, 3, 3, 3,\n",
              "       3, 3, 3, 3, 3, 3, 3, 3, 3, 4, 3, 2, 3, 3, 1, 1, 1, 3, 3, 3, 3, 3,\n",
              "       4, 4, 4, 4, 3, 3, 4, 4, 4, 4, 2, 1, 4, 4, 4, 4, 4, 4, 4, 4, 4, 4,\n",
              "       4, 4, 4, 4, 0, 4, 4, 4, 4, 4, 4, 4, 4, 4, 4, 4, 4, 0, 4, 4, 4, 4,\n",
              "       4, 2, 4, 2, 4, 4, 4, 4, 4, 4, 4, 4, 4, 4, 4, 4, 4, 4, 4, 4, 4, 4,\n",
              "       4, 4, 3, 3, 4, 4, 3, 4, 4, 4, 4, 4, 4, 4, 4, 4, 4, 4, 0, 4, 4, 4,\n",
              "       2, 4, 4, 4, 4, 4, 4, 4, 1, 4, 4, 2, 4, 4, 4, 4, 3, 4, 4, 4, 4, 4,\n",
              "       4, 4, 4, 4, 4, 4, 4, 4, 4, 4, 3, 4, 4, 4, 4, 4, 4, 3, 4, 4, 4, 3,\n",
              "       2, 4, 3, 4, 4, 4, 2, 4, 4, 4, 4, 4, 4, 4, 4, 4, 4, 4, 4, 4, 4, 2,\n",
              "       4, 4, 4, 4, 4])>"
            ]
          },
          "metadata": {
            "tags": []
          },
          "execution_count": 21
        }
      ]
    },
    {
      "cell_type": "code",
      "metadata": {
        "colab": {
          "base_uri": "https://localhost:8080/",
          "height": 35
        },
        "id": "HF2iBI5R8iem",
        "outputId": "4a1c4519-1df0-40d2-b29c-d96aed374e0b"
      },
      "source": [
        "idx_labels[0]"
      ],
      "execution_count": null,
      "outputs": [
        {
          "output_type": "execute_result",
          "data": {
            "application/vnd.google.colaboratory.intrinsic+json": {
              "type": "string"
            },
            "text/plain": [
              "'daisy'"
            ]
          },
          "metadata": {
            "tags": []
          },
          "execution_count": 22
        }
      ]
    },
    {
      "cell_type": "code",
      "metadata": {
        "colab": {
          "base_uri": "https://localhost:8080/",
          "height": 51
        },
        "id": "dDZp5e__AonE",
        "outputId": "9c588ec4-c67d-485d-9104-d5c1b5badfe9"
      },
      "source": [
        "label_reference = np.asarray(list(labels_idx))\n",
        "label_reference"
      ],
      "execution_count": null,
      "outputs": [
        {
          "output_type": "execute_result",
          "data": {
            "text/plain": [
              "array(['daisy', 'dandelion', 'roses', 'sunflowers', 'tulips'],\n",
              "      dtype='<U10')"
            ]
          },
          "metadata": {
            "tags": []
          },
          "execution_count": 23
        }
      ]
    },
    {
      "cell_type": "code",
      "metadata": {
        "id": "AQm_PURL_KDW"
      },
      "source": [
        "def find_label(idx):\n",
        "    return idx_labels[idx]"
      ],
      "execution_count": null,
      "outputs": []
    },
    {
      "cell_type": "code",
      "metadata": {
        "id": "P92Ej8vR_06Q"
      },
      "source": [
        "find_label_batch = np.vectorize(find_label)\n",
        "result_class = find_label_batch(predicted_idx)"
      ],
      "execution_count": null,
      "outputs": []
    },
    {
      "cell_type": "code",
      "metadata": {
        "colab": {
          "base_uri": "https://localhost:8080/",
          "height": 419
        },
        "id": "g6BDMhTw_TuK",
        "outputId": "3bca4bc4-8a94-40b4-cfbc-aab46b771133"
      },
      "source": [
        "import pandas as pd\n",
        "predicted_label = result_class.tolist()\n",
        "file_name = valid_generator.filenames\n",
        "\n",
        "results=pd.DataFrame({\"File\":file_name,\n",
        "                      \"Prediction\":predicted_label})\n",
        "results"
      ],
      "execution_count": null,
      "outputs": [
        {
          "output_type": "execute_result",
          "data": {
            "text/html": [
              "<div>\n",
              "<style scoped>\n",
              "    .dataframe tbody tr th:only-of-type {\n",
              "        vertical-align: middle;\n",
              "    }\n",
              "\n",
              "    .dataframe tbody tr th {\n",
              "        vertical-align: top;\n",
              "    }\n",
              "\n",
              "    .dataframe thead th {\n",
              "        text-align: right;\n",
              "    }\n",
              "</style>\n",
              "<table border=\"1\" class=\"dataframe\">\n",
              "  <thead>\n",
              "    <tr style=\"text-align: right;\">\n",
              "      <th></th>\n",
              "      <th>File</th>\n",
              "      <th>Prediction</th>\n",
              "    </tr>\n",
              "  </thead>\n",
              "  <tbody>\n",
              "    <tr>\n",
              "      <th>0</th>\n",
              "      <td>daisy/100080576_f52e8ee070_n.jpg</td>\n",
              "      <td>daisy</td>\n",
              "    </tr>\n",
              "    <tr>\n",
              "      <th>1</th>\n",
              "      <td>daisy/10140303196_b88d3d6cec.jpg</td>\n",
              "      <td>daisy</td>\n",
              "    </tr>\n",
              "    <tr>\n",
              "      <th>2</th>\n",
              "      <td>daisy/10172379554_b296050f82_n.jpg</td>\n",
              "      <td>daisy</td>\n",
              "    </tr>\n",
              "    <tr>\n",
              "      <th>3</th>\n",
              "      <td>daisy/10172567486_2748826a8b.jpg</td>\n",
              "      <td>daisy</td>\n",
              "    </tr>\n",
              "    <tr>\n",
              "      <th>4</th>\n",
              "      <td>daisy/10172636503_21bededa75_n.jpg</td>\n",
              "      <td>daisy</td>\n",
              "    </tr>\n",
              "    <tr>\n",
              "      <th>...</th>\n",
              "      <td>...</td>\n",
              "      <td>...</td>\n",
              "    </tr>\n",
              "    <tr>\n",
              "      <th>726</th>\n",
              "      <td>tulips/14068200854_5c13668df9_m.jpg</td>\n",
              "      <td>tulips</td>\n",
              "    </tr>\n",
              "    <tr>\n",
              "      <th>727</th>\n",
              "      <td>tulips/14068295074_cd8b85bffa.jpg</td>\n",
              "      <td>tulips</td>\n",
              "    </tr>\n",
              "    <tr>\n",
              "      <th>728</th>\n",
              "      <td>tulips/14068348874_7b36c99f6a.jpg</td>\n",
              "      <td>tulips</td>\n",
              "    </tr>\n",
              "    <tr>\n",
              "      <th>729</th>\n",
              "      <td>tulips/14068378204_7b26baa30d_n.jpg</td>\n",
              "      <td>tulips</td>\n",
              "    </tr>\n",
              "    <tr>\n",
              "      <th>730</th>\n",
              "      <td>tulips/14071516088_b526946e17_n.jpg</td>\n",
              "      <td>tulips</td>\n",
              "    </tr>\n",
              "  </tbody>\n",
              "</table>\n",
              "<p>731 rows × 2 columns</p>\n",
              "</div>"
            ],
            "text/plain": [
              "                                    File Prediction\n",
              "0       daisy/100080576_f52e8ee070_n.jpg      daisy\n",
              "1       daisy/10140303196_b88d3d6cec.jpg      daisy\n",
              "2     daisy/10172379554_b296050f82_n.jpg      daisy\n",
              "3       daisy/10172567486_2748826a8b.jpg      daisy\n",
              "4     daisy/10172636503_21bededa75_n.jpg      daisy\n",
              "..                                   ...        ...\n",
              "726  tulips/14068200854_5c13668df9_m.jpg     tulips\n",
              "727    tulips/14068295074_cd8b85bffa.jpg     tulips\n",
              "728    tulips/14068348874_7b36c99f6a.jpg     tulips\n",
              "729  tulips/14068378204_7b26baa30d_n.jpg     tulips\n",
              "730  tulips/14071516088_b526946e17_n.jpg     tulips\n",
              "\n",
              "[731 rows x 2 columns]"
            ]
          },
          "metadata": {
            "tags": []
          },
          "execution_count": 26
        }
      ]
    },
    {
      "cell_type": "code",
      "metadata": {
        "id": "Mp-6liBKGNif"
      },
      "source": [
        "y_actual = pd.Series(valid_generator.classes)\n",
        "y_predicted = pd.Series(predicted_idx)"
      ],
      "execution_count": null,
      "outputs": []
    },
    {
      "cell_type": "code",
      "metadata": {
        "colab": {
          "base_uri": "https://localhost:8080/",
          "height": 266
        },
        "id": "vefQhRRaGlPt",
        "outputId": "a8771d5d-2d29-4a40-9d89-0ba966b6ca21"
      },
      "source": [
        "pd.crosstab(y_actual, y_predicted, rownames = ['Actual'], colnames=['Predicted'], margins=True)"
      ],
      "execution_count": null,
      "outputs": [
        {
          "output_type": "execute_result",
          "data": {
            "text/html": [
              "<div>\n",
              "<style scoped>\n",
              "    .dataframe tbody tr th:only-of-type {\n",
              "        vertical-align: middle;\n",
              "    }\n",
              "\n",
              "    .dataframe tbody tr th {\n",
              "        vertical-align: top;\n",
              "    }\n",
              "\n",
              "    .dataframe thead th {\n",
              "        text-align: right;\n",
              "    }\n",
              "</style>\n",
              "<table border=\"1\" class=\"dataframe\">\n",
              "  <thead>\n",
              "    <tr style=\"text-align: right;\">\n",
              "      <th>Predicted</th>\n",
              "      <th>0</th>\n",
              "      <th>1</th>\n",
              "      <th>2</th>\n",
              "      <th>3</th>\n",
              "      <th>4</th>\n",
              "      <th>All</th>\n",
              "    </tr>\n",
              "    <tr>\n",
              "      <th>Actual</th>\n",
              "      <th></th>\n",
              "      <th></th>\n",
              "      <th></th>\n",
              "      <th></th>\n",
              "      <th></th>\n",
              "      <th></th>\n",
              "    </tr>\n",
              "  </thead>\n",
              "  <tbody>\n",
              "    <tr>\n",
              "      <th>0</th>\n",
              "      <td>116</td>\n",
              "      <td>7</td>\n",
              "      <td>2</td>\n",
              "      <td>1</td>\n",
              "      <td>0</td>\n",
              "      <td>126</td>\n",
              "    </tr>\n",
              "    <tr>\n",
              "      <th>1</th>\n",
              "      <td>2</td>\n",
              "      <td>162</td>\n",
              "      <td>3</td>\n",
              "      <td>8</td>\n",
              "      <td>4</td>\n",
              "      <td>179</td>\n",
              "    </tr>\n",
              "    <tr>\n",
              "      <th>2</th>\n",
              "      <td>3</td>\n",
              "      <td>1</td>\n",
              "      <td>104</td>\n",
              "      <td>5</td>\n",
              "      <td>15</td>\n",
              "      <td>128</td>\n",
              "    </tr>\n",
              "    <tr>\n",
              "      <th>3</th>\n",
              "      <td>0</td>\n",
              "      <td>9</td>\n",
              "      <td>4</td>\n",
              "      <td>121</td>\n",
              "      <td>5</td>\n",
              "      <td>139</td>\n",
              "    </tr>\n",
              "    <tr>\n",
              "      <th>4</th>\n",
              "      <td>3</td>\n",
              "      <td>2</td>\n",
              "      <td>8</td>\n",
              "      <td>10</td>\n",
              "      <td>136</td>\n",
              "      <td>159</td>\n",
              "    </tr>\n",
              "    <tr>\n",
              "      <th>All</th>\n",
              "      <td>124</td>\n",
              "      <td>181</td>\n",
              "      <td>121</td>\n",
              "      <td>145</td>\n",
              "      <td>160</td>\n",
              "      <td>731</td>\n",
              "    </tr>\n",
              "  </tbody>\n",
              "</table>\n",
              "</div>"
            ],
            "text/plain": [
              "Predicted    0    1    2    3    4  All\n",
              "Actual                                 \n",
              "0          116    7    2    1    0  126\n",
              "1            2  162    3    8    4  179\n",
              "2            3    1  104    5   15  128\n",
              "3            0    9    4  121    5  139\n",
              "4            3    2    8   10  136  159\n",
              "All        124  181  121  145  160  731"
            ]
          },
          "metadata": {
            "tags": []
          },
          "execution_count": 28
        }
      ]
    },
    {
      "cell_type": "code",
      "metadata": {
        "id": "gGaYy4kwG4qR"
      },
      "source": [
        "predicted_results = y_predicted\n",
        "truth = y_actual"
      ],
      "execution_count": null,
      "outputs": []
    },
    {
      "cell_type": "code",
      "metadata": {
        "colab": {
          "base_uri": "https://localhost:8080/",
          "height": 34
        },
        "id": "hMX1lcWkIYQB",
        "outputId": "df3d58f5-1aa3-48cc-d387-a1811e8323ba"
      },
      "source": [
        "type(predicted_results[0])"
      ],
      "execution_count": null,
      "outputs": [
        {
          "output_type": "execute_result",
          "data": {
            "text/plain": [
              "numpy.int64"
            ]
          },
          "metadata": {
            "tags": []
          },
          "execution_count": 30
        }
      ]
    },
    {
      "cell_type": "code",
      "metadata": {
        "id": "yD7zlLsrIAoH"
      },
      "source": [
        "from sklearn.metrics import classification_report\n",
        "report = classification_report(truth, predicted_results)\n"
      ],
      "execution_count": null,
      "outputs": []
    },
    {
      "cell_type": "code",
      "metadata": {
        "colab": {
          "base_uri": "https://localhost:8080/",
          "height": 221
        },
        "id": "7a0_ij9tBcyE",
        "outputId": "209c12c3-ce35-47ad-a9f2-fc36e52a85e1"
      },
      "source": [
        "print(report)"
      ],
      "execution_count": null,
      "outputs": [
        {
          "output_type": "stream",
          "text": [
            "              precision    recall  f1-score   support\n",
            "\n",
            "           0       0.94      0.92      0.93       126\n",
            "           1       0.90      0.91      0.90       179\n",
            "           2       0.86      0.81      0.84       128\n",
            "           3       0.83      0.87      0.85       139\n",
            "           4       0.85      0.86      0.85       159\n",
            "\n",
            "    accuracy                           0.87       731\n",
            "   macro avg       0.87      0.87      0.87       731\n",
            "weighted avg       0.87      0.87      0.87       731\n",
            "\n"
          ],
          "name": "stdout"
        }
      ]
    },
    {
      "cell_type": "markdown",
      "metadata": {
        "id": "Hp0c2REEyF_B"
      },
      "source": [
        "## tf.keras.applications module "
      ]
    },
    {
      "cell_type": "code",
      "metadata": {
        "colab": {
          "base_uri": "https://localhost:8080/",
          "height": 51
        },
        "id": "WW3y3URlFzuO",
        "outputId": "49333cf0-97c5-4eaa-daf7-66a69014a2e6"
      },
      "source": [
        "base_model = tf.keras.applications.ResNet101V2(input_shape = (224, 224, 3), include_top = False, weights = 'imagenet')"
      ],
      "execution_count": null,
      "outputs": [
        {
          "output_type": "stream",
          "text": [
            "Downloading data from https://storage.googleapis.com/tensorflow/keras-applications/resnet/resnet101v2_weights_tf_dim_ordering_tf_kernels_notop.h5\n",
            "171319296/171317808 [==============================] - 3s 0us/step\n"
          ],
          "name": "stdout"
        }
      ]
    },
    {
      "cell_type": "code",
      "metadata": {
        "id": "80wR6nWLxdcH"
      },
      "source": [
        "model2 = tf.keras.Sequential([\n",
        "  base_model,\n",
        "  tf.keras.layers.GlobalAveragePooling2D(),\n",
        "  tf.keras.layers.Dense(NUM_CLASSES, activation = 'softmax', name = 'flower_class')\n",
        "])"
      ],
      "execution_count": null,
      "outputs": []
    },
    {
      "cell_type": "code",
      "metadata": {
        "id": "XLGtq6A0zCVB"
      },
      "source": [
        "model2.compile(\n",
        "  optimizer=tf.keras.optimizers.SGD(lr=0.005, momentum=0.9), \n",
        "  loss=tf.keras.losses.CategoricalCrossentropy(from_logits=True, label_smoothing=0.1),\n",
        "  metrics=['accuracy']\n",
        ")"
      ],
      "execution_count": null,
      "outputs": []
    },
    {
      "cell_type": "code",
      "metadata": {
        "colab": {
          "base_uri": "https://localhost:8080/",
          "height": 204
        },
        "id": "cuOzcRxcy0PW",
        "outputId": "417952dc-a691-4d30-d923-7e5f6ca7f2f8"
      },
      "source": [
        "model2.fit(\n",
        "    train_generator,\n",
        "    epochs=5, steps_per_epoch=steps_per_epoch,\n",
        "    validation_data=valid_generator,\n",
        "    validation_steps=validation_steps)"
      ],
      "execution_count": null,
      "outputs": [
        {
          "output_type": "stream",
          "text": [
            "Epoch 1/5\n",
            "91/91 [==============================] - 30s 333ms/step - loss: 1.2304 - accuracy: 0.7496 - val_loss: 1.1409 - val_accuracy: 0.8281\n",
            "Epoch 2/5\n",
            "91/91 [==============================] - 29s 315ms/step - loss: 1.0469 - accuracy: 0.9415 - val_loss: 1.0886 - val_accuracy: 0.8849\n",
            "Epoch 3/5\n",
            "91/91 [==============================] - 29s 316ms/step - loss: 1.0161 - accuracy: 0.9711 - val_loss: 1.0670 - val_accuracy: 0.9148\n",
            "Epoch 4/5\n",
            "91/91 [==============================] - 29s 317ms/step - loss: 1.0018 - accuracy: 0.9866 - val_loss: 1.0694 - val_accuracy: 0.9105\n",
            "Epoch 5/5\n",
            "91/91 [==============================] - 29s 317ms/step - loss: 0.9958 - accuracy: 0.9907 - val_loss: 1.0713 - val_accuracy: 0.9006\n"
          ],
          "name": "stdout"
        },
        {
          "output_type": "execute_result",
          "data": {
            "text/plain": [
              "<tensorflow.python.keras.callbacks.History at 0x7fabc7e13438>"
            ]
          },
          "metadata": {
            "tags": []
          },
          "execution_count": 36
        }
      ]
    },
    {
      "cell_type": "markdown",
      "metadata": {
        "id": "6gryNRV31J4C"
      },
      "source": [
        "## Fine tuning\n"
      ]
    },
    {
      "cell_type": "code",
      "metadata": {
        "colab": {
          "base_uri": "https://localhost:8080/",
          "height": 34
        },
        "id": "IJuYLSPFzApB",
        "outputId": "0933993b-3c8a-4656-d1e5-579ed770c135"
      },
      "source": [
        "base_model.trainable = True\n",
        "print(\"Number of layers in the base model: \", len(base_model.layers))"
      ],
      "execution_count": null,
      "outputs": [
        {
          "output_type": "stream",
          "text": [
            "Number of layers in the base model:  377\n"
          ],
          "name": "stdout"
        }
      ]
    },
    {
      "cell_type": "code",
      "metadata": {
        "id": "mmkRP8b81V3R"
      },
      "source": [
        "# Fine tune from this layer and onwards\n",
        "fine_tune_at = 300"
      ],
      "execution_count": null,
      "outputs": []
    },
    {
      "cell_type": "code",
      "metadata": {
        "id": "pt7g4vYU1hVa"
      },
      "source": [
        "# Freeze all the layers before the 'fine_tune_at' layer\n",
        "for layer in base_model.layers[: fine_tune_at]:\n",
        "  layer.trainable = False"
      ],
      "execution_count": null,
      "outputs": []
    },
    {
      "cell_type": "code",
      "metadata": {
        "id": "d5n-Pg40Jtc9"
      },
      "source": [
        "model3 = tf.keras.Sequential([\n",
        "  base_model,\n",
        "  tf.keras.layers.GlobalAveragePooling2D(),\n",
        "  tf.keras.layers.Dense(NUM_CLASSES, activation = 'softmax', name = 'flower_class')\n",
        "])"
      ],
      "execution_count": null,
      "outputs": []
    },
    {
      "cell_type": "code",
      "metadata": {
        "id": "r34UHGyQ1wJI"
      },
      "source": [
        "model3.compile(\n",
        "  optimizer=tf.keras.optimizers.SGD(lr=0.005, momentum=0.9), \n",
        "  loss=tf.keras.losses.CategoricalCrossentropy(from_logits=True, label_smoothing=0.1),\n",
        "  metrics=['accuracy']\n",
        ")"
      ],
      "execution_count": null,
      "outputs": []
    },
    {
      "cell_type": "code",
      "metadata": {
        "colab": {
          "base_uri": "https://localhost:8080/",
          "height": 102
        },
        "id": "_Mi7nuxt110J",
        "outputId": "11aafdc6-6b9d-49fd-a686-e3f31b6e1f21"
      },
      "source": [
        "fine_tune_epochs = 2\n",
        "steps_per_epoch = train_generator.samples // train_generator.batch_size\n",
        "validation_steps = valid_generator.samples // valid_generator.batch_size\n",
        "model3.fit(\n",
        "    train_generator,\n",
        "    epochs=fine_tune_epochs, steps_per_epoch=steps_per_epoch,\n",
        "    validation_data=valid_generator,\n",
        "    validation_steps=validation_steps)"
      ],
      "execution_count": null,
      "outputs": [
        {
          "output_type": "stream",
          "text": [
            "Epoch 1/2\n",
            "91/91 [==============================] - 21s 226ms/step - loss: 1.0729 - accuracy: 0.9202 - val_loss: 1.0658 - val_accuracy: 0.9062\n",
            "Epoch 2/2\n",
            "91/91 [==============================] - 19s 208ms/step - loss: 0.9946 - accuracy: 0.9924 - val_loss: 1.0619 - val_accuracy: 0.9105\n"
          ],
          "name": "stdout"
        },
        {
          "output_type": "execute_result",
          "data": {
            "text/plain": [
              "<tensorflow.python.keras.callbacks.History at 0x7fabc189df60>"
            ]
          },
          "metadata": {
            "tags": []
          },
          "execution_count": 42
        }
      ]
    },
    {
      "cell_type": "code",
      "metadata": {
        "id": "t7DCUgEc2ZZ9"
      },
      "source": [
        "model3 = tf.keras.Sequential([\n",
        "  base_model,\n",
        "  tf.keras.layers.Flatten(),\n",
        "  tf.keras.layers.Dense(NUM_CLASSES, activation = 'softmax', name = 'flower_class')\n",
        "])"
      ],
      "execution_count": null,
      "outputs": []
    },
    {
      "cell_type": "code",
      "metadata": {
        "id": "xT9wk07s6A_B"
      },
      "source": [
        "model3.compile(\n",
        "  optimizer=tf.keras.optimizers.SGD(lr=0.005, momentum=0.9), \n",
        "  loss=tf.keras.losses.CategoricalCrossentropy(from_logits=True, label_smoothing=0.1),\n",
        "  metrics=['accuracy']\n",
        ")"
      ],
      "execution_count": null,
      "outputs": []
    },
    {
      "cell_type": "code",
      "metadata": {
        "colab": {
          "base_uri": "https://localhost:8080/",
          "height": 255
        },
        "id": "5KCb_n4Y6NQW",
        "outputId": "5f813e2b-84ef-4c01-edf5-6dfc80658cfa"
      },
      "source": [
        "model3.summary()"
      ],
      "execution_count": null,
      "outputs": [
        {
          "output_type": "stream",
          "text": [
            "Model: \"sequential_3\"\n",
            "_________________________________________________________________\n",
            "Layer (type)                 Output Shape              Param #   \n",
            "=================================================================\n",
            "resnet101v2 (Functional)     (None, 7, 7, 2048)        42626560  \n",
            "_________________________________________________________________\n",
            "flatten (Flatten)            (None, 100352)            0         \n",
            "_________________________________________________________________\n",
            "flower_class (Dense)         (None, 5)                 501765    \n",
            "=================================================================\n",
            "Total params: 43,128,325\n",
            "Trainable params: 19,680,773\n",
            "Non-trainable params: 23,447,552\n",
            "_________________________________________________________________\n"
          ],
          "name": "stdout"
        }
      ]
    },
    {
      "cell_type": "code",
      "metadata": {
        "colab": {
          "base_uri": "https://localhost:8080/",
          "height": 204
        },
        "id": "LiN_qwTF6FEl",
        "outputId": "445297d7-e1ab-4078-b58e-318c1b1efe2e"
      },
      "source": [
        "model3.fit(\n",
        "    train_generator,\n",
        "    epochs=5, steps_per_epoch=steps_per_epoch,\n",
        "    validation_data=valid_generator,\n",
        "    validation_steps=validation_steps)"
      ],
      "execution_count": null,
      "outputs": [
        {
          "output_type": "stream",
          "text": [
            "Epoch 1/5\n",
            "91/91 [==============================] - 20s 220ms/step - loss: 1.0464 - accuracy: 0.9288 - val_loss: 1.1455 - val_accuracy: 0.8224\n",
            "Epoch 2/5\n",
            "91/91 [==============================] - 19s 207ms/step - loss: 1.0276 - accuracy: 0.9518 - val_loss: 1.1408 - val_accuracy: 0.8239\n",
            "Epoch 3/5\n",
            "91/91 [==============================] - 19s 207ms/step - loss: 1.0297 - accuracy: 0.9498 - val_loss: 1.0794 - val_accuracy: 0.8977\n",
            "Epoch 4/5\n",
            "91/91 [==============================] - 19s 206ms/step - loss: 1.0343 - accuracy: 0.9450 - val_loss: 1.1502 - val_accuracy: 0.8125\n",
            "Epoch 5/5\n",
            "91/91 [==============================] - 19s 205ms/step - loss: 1.0651 - accuracy: 0.9099 - val_loss: 1.2058 - val_accuracy: 0.7543\n"
          ],
          "name": "stdout"
        },
        {
          "output_type": "execute_result",
          "data": {
            "text/plain": [
              "<tensorflow.python.keras.callbacks.History at 0x7fabbf269400>"
            ]
          },
          "metadata": {
            "tags": []
          },
          "execution_count": 46
        }
      ]
    },
    {
      "cell_type": "code",
      "metadata": {
        "id": "fB2vepgG6Imp"
      },
      "source": [
        ""
      ],
      "execution_count": null,
      "outputs": []
    }
  ]
}