{
  "nbformat": 4,
  "nbformat_minor": 0,
  "metadata": {
    "colab": {
      "name": "OReilly_C4_hub_intro_embedding.ipynb",
      "provenance": [],
      "authorship_tag": "ABX9TyMdcRVrSLn0SJQO9nI28Zdm",
      "include_colab_link": true
    },
    "kernelspec": {
      "name": "python3",
      "display_name": "Python 3"
    },
    "language_info": {
      "name": "python"
    }
  },
  "cells": [
    {
      "cell_type": "markdown",
      "metadata": {
        "id": "view-in-github",
        "colab_type": "text"
      },
      "source": [
        "<a href=\"https://colab.research.google.com/github/shinchan75034/tensorflow-pocket-ref/blob/main/chapter04/OReilly_C4_hub_intro_embedding.ipynb\" target=\"_parent\"><img src=\"https://colab.research.google.com/assets/colab-badge.svg\" alt=\"Open In Colab\"/></a>"
      ]
    },
    {
      "cell_type": "code",
      "metadata": {
        "colab": {
          "base_uri": "https://localhost:8080/"
        },
        "id": "r5mtX8jhMpeK",
        "outputId": "39147e4a-577e-4527-894f-bc2960da360c"
      },
      "source": [
        "  !pip install --upgrade tensorflow_hub"
      ],
      "execution_count": 1,
      "outputs": [
        {
          "output_type": "stream",
          "text": [
            "Requirement already satisfied: tensorflow_hub in /usr/local/lib/python3.7/dist-packages (0.12.0)\n",
            "Requirement already satisfied: protobuf>=3.8.0 in /usr/local/lib/python3.7/dist-packages (from tensorflow_hub) (3.17.3)\n",
            "Requirement already satisfied: numpy>=1.12.0 in /usr/local/lib/python3.7/dist-packages (from tensorflow_hub) (1.19.5)\n",
            "Requirement already satisfied: six>=1.9 in /usr/local/lib/python3.7/dist-packages (from protobuf>=3.8.0->tensorflow_hub) (1.15.0)\n"
          ],
          "name": "stdout"
        }
      ]
    },
    {
      "cell_type": "code",
      "metadata": {
        "colab": {
          "base_uri": "https://localhost:8080/"
        },
        "id": "HR5GBK44MsrF",
        "outputId": "19753416-ff78-42b0-f301-7a7a92d8a12c"
      },
      "source": [
        "  import tensorflow_hub as hub\n",
        "  print(hub.__version__)\n",
        "  model = hub.KerasLayer(\"https://tfhub.dev/google/nnlm-en-dim128/2\")\n",
        "  embeddings = model([\"The rain in Spain.\", \"falls\",\n",
        "                      \"mainly\", \"In the plain!\"])\n",
        "\n",
        "  print(embeddings.shape)  #(4,128)"
      ],
      "execution_count": 2,
      "outputs": [
        {
          "output_type": "stream",
          "text": [
            "0.12.0\n",
            "(4, 128)\n"
          ],
          "name": "stdout"
        }
      ]
    },
    {
      "cell_type": "code",
      "metadata": {
        "colab": {
          "base_uri": "https://localhost:8080/"
        },
        "id": "FBNiTm1CM0O2",
        "outputId": "69c7ef9e-d9c3-4ba5-cfe6-906274ca3a7a"
      },
      "source": [
        "len(embeddings[0])"
      ],
      "execution_count": 3,
      "outputs": [
        {
          "output_type": "execute_result",
          "data": {
            "text/plain": [
              "128"
            ]
          },
          "metadata": {
            "tags": []
          },
          "execution_count": 3
        }
      ]
    },
    {
      "cell_type": "code",
      "metadata": {
        "colab": {
          "base_uri": "https://localhost:8080/"
        },
        "id": "3mEpOdkWNJoR",
        "outputId": "063f4201-fefd-476b-d36e-ae8e18c14bff"
      },
      "source": [
        "print(embeddings[0])"
      ],
      "execution_count": 4,
      "outputs": [
        {
          "output_type": "stream",
          "text": [
            "tf.Tensor(\n",
            "[ 1.59735829e-01 -1.29867658e-01 -1.35819957e-01 -9.24930871e-02\n",
            "  2.10374016e-02 -7.29679167e-02 -1.11245513e-01 -9.90176424e-02\n",
            "  1.71865672e-02 -7.84225911e-02  3.15940194e-02  6.22844100e-02\n",
            " -8.64286795e-02 -7.39999115e-02  4.68084142e-02  2.64361743e-02\n",
            " -1.51468843e-01  8.37246105e-02 -4.84693572e-02  3.62105906e-01\n",
            " -4.43154667e-03  8.15866888e-02 -4.09569405e-02 -1.05201520e-01\n",
            " -1.68916266e-02  2.99027748e-02  8.40939730e-02  4.29377109e-02\n",
            " -3.50504890e-02 -9.36504006e-02 -3.67183425e-02  3.71749699e-02\n",
            "  2.95477919e-02  1.72754392e-01  1.08686648e-02 -1.57570407e-01\n",
            " -3.82928923e-02 -4.58077006e-02 -9.41693187e-02 -2.65682978e-03\n",
            " -5.25422022e-03 -3.45592424e-02 -1.69853773e-02  1.99845843e-02\n",
            "  2.64117979e-02  1.15411691e-02  3.72448415e-02  6.33172691e-02\n",
            "  5.32621630e-02  1.91026106e-02  6.38045296e-02  5.82209881e-03\n",
            " -1.88273005e-03  1.63987540e-02  1.42705105e-02 -4.10080254e-02\n",
            "  6.77466765e-02 -5.85823879e-02  3.11339628e-02 -4.20597643e-02\n",
            " -6.45544473e-03  3.64223719e-02  6.28872663e-02  6.90744817e-03\n",
            "  9.09396559e-02 -9.11951065e-06 -3.28868106e-02 -1.33488700e-02\n",
            "  5.82060106e-02 -1.18812937e-02 -4.62300964e-02  3.13238539e-02\n",
            " -5.73746674e-02  1.17937967e-01 -2.24236436e-02 -7.00195804e-02\n",
            " -1.50378808e-01 -3.55751067e-03 -1.21659540e-01  1.49155945e-01\n",
            "  6.68335930e-02 -8.45783874e-02 -4.99900915e-02 -1.23323306e-01\n",
            " -9.72058177e-02  2.34775878e-02 -8.11939389e-02 -1.21891469e-01\n",
            " -1.04129739e-01 -1.12477146e-01  5.28658256e-02  2.75909528e-03\n",
            " -1.19978651e-01 -1.63873881e-01 -1.46854967e-02  4.54718731e-02\n",
            "  1.23541318e-01 -7.64916986e-02  2.16103956e-01 -1.42051399e-01\n",
            "  3.95136364e-02  1.21098757e-02 -1.42837271e-01 -7.10892025e-03\n",
            "  6.83816895e-03 -2.80113220e-02 -3.36971357e-02 -1.60303190e-02\n",
            "  7.51627758e-02 -2.00884849e-01 -5.17385006e-02  7.98245817e-02\n",
            "  1.49128556e-01  2.33411700e-01  4.77640852e-02 -2.76381411e-02\n",
            "  1.69027522e-02  6.41705990e-02 -1.05072603e-01  4.28162888e-03\n",
            "  5.64674214e-02  8.22738558e-03 -6.20092526e-02  7.22365454e-03\n",
            "  9.19964239e-02  3.05843651e-02  1.27910644e-01  3.83963063e-02], shape=(128,), dtype=float32)\n"
          ],
          "name": "stdout"
        }
      ]
    },
    {
      "cell_type": "code",
      "metadata": {
        "colab": {
          "base_uri": "https://localhost:8080/"
        },
        "id": "HgDPMzOtNLTP",
        "outputId": "77b6ee04-51f0-465d-f843-616fb955e4e4"
      },
      "source": [
        "import tensorflow as tf\n",
        "print(tf.__version__)"
      ],
      "execution_count": 5,
      "outputs": [
        {
          "output_type": "stream",
          "text": [
            "2.5.0\n"
          ],
          "name": "stdout"
        }
      ]
    },
    {
      "cell_type": "code",
      "metadata": {
        "id": "NRpamG7_OAsV"
      },
      "source": [
        ""
      ],
      "execution_count": null,
      "outputs": []
    }
  ]
}