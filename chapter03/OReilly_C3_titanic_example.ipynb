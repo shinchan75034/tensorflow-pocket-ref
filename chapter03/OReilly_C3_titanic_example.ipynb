{
  "nbformat": 4,
  "nbformat_minor": 0,
  "metadata": {
    "colab": {
      "name": "OReilly_C3_titanic_example.ipynb",
      "provenance": [],
      "authorship_tag": "ABX9TyOVSxpIthn9Bp+/hmIDZTvZ",
      "include_colab_link": true
    },
    "kernelspec": {
      "name": "python3",
      "display_name": "Python 3"
    },
    "accelerator": "TPU"
  },
  "cells": [
    {
      "cell_type": "markdown",
      "metadata": {
        "id": "view-in-github",
        "colab_type": "text"
      },
      "source": [
        "<a href=\"https://colab.research.google.com/github/shinchan75034/tensorflow-pocket-ref/blob/main/chapter03/OReilly_C3_titanic_example.ipynb\" target=\"_parent\"><img src=\"https://colab.research.google.com/assets/colab-badge.svg\" alt=\"Open In Colab\"/></a>"
      ]
    },
    {
      "cell_type": "code",
      "metadata": {
        "id": "q4TSFfeDEUhs"
      },
      "source": [
        "import functools\n",
        "import numpy as np\n",
        "import tensorflow as tf\n",
        "import pandas as pd\n",
        "from tensorflow import feature_column\n",
        "from tensorflow.keras import layers\n",
        "from sklearn.model_selection import train_test_split"
      ],
      "execution_count": null,
      "outputs": []
    },
    {
      "cell_type": "code",
      "metadata": {
        "id": "26BrsMaPEbdQ",
        "colab": {
          "base_uri": "https://localhost:8080/",
          "height": 85
        },
        "outputId": "be58dacc-1d9c-4f60-f8da-501c53d4d8e4"
      },
      "source": [
        "TRAIN_DATA_URL = \"https://storage.googleapis.com/tf-datasets/titanic/train.csv\"\n",
        "TEST_DATA_URL = \"https://storage.googleapis.com/tf-datasets/titanic/eval.csv\"\n",
        "\n",
        "train_file_path = tf.keras.utils.get_file(\"train.csv\", TRAIN_DATA_URL)\n",
        "test_file_path = tf.keras.utils.get_file(\"eval.csv\", TEST_DATA_URL)"
      ],
      "execution_count": null,
      "outputs": [
        {
          "output_type": "stream",
          "text": [
            "Downloading data from https://storage.googleapis.com/tf-datasets/titanic/train.csv\n",
            "32768/30874 [===============================] - 0s 0us/step\n",
            "Downloading data from https://storage.googleapis.com/tf-datasets/titanic/eval.csv\n",
            "16384/13049 [=====================================] - 0s 0us/step\n"
          ],
          "name": "stdout"
        }
      ]
    },
    {
      "cell_type": "code",
      "metadata": {
        "id": "-W8FbkLNEw8-",
        "colab": {
          "base_uri": "https://localhost:8080/",
          "height": 187
        },
        "outputId": "62dff824-dee9-4bb3-9149-4a06376550d2"
      },
      "source": [
        "!head {train_file_path}"
      ],
      "execution_count": null,
      "outputs": [
        {
          "output_type": "stream",
          "text": [
            "survived,sex,age,n_siblings_spouses,parch,fare,class,deck,embark_town,alone\n",
            "0,male,22.0,1,0,7.25,Third,unknown,Southampton,n\n",
            "1,female,38.0,1,0,71.2833,First,C,Cherbourg,n\n",
            "1,female,26.0,0,0,7.925,Third,unknown,Southampton,y\n",
            "1,female,35.0,1,0,53.1,First,C,Southampton,n\n",
            "0,male,28.0,0,0,8.4583,Third,unknown,Queenstown,y\n",
            "0,male,2.0,3,1,21.075,Third,unknown,Southampton,n\n",
            "1,female,27.0,0,2,11.1333,Third,unknown,Southampton,n\n",
            "1,female,14.0,1,0,30.0708,Second,unknown,Cherbourg,n\n",
            "1,female,4.0,1,1,16.7,Third,G,Southampton,n\n"
          ],
          "name": "stdout"
        }
      ]
    },
    {
      "cell_type": "code",
      "metadata": {
        "id": "doSO6pCAFQ7a"
      },
      "source": [
        "train_df = pd.read_csv(train_file_path, header='infer')\n",
        "test_df = pd.read_csv(test_file_path, header='infer')\n"
      ],
      "execution_count": null,
      "outputs": []
    },
    {
      "cell_type": "code",
      "metadata": {
        "id": "Es3KDyFJFXLi",
        "colab": {
          "base_uri": "https://localhost:8080/",
          "height": 419
        },
        "outputId": "9769504b-2268-4a0f-d6bc-8ef34d52ec20"
      },
      "source": [
        "train_df"
      ],
      "execution_count": null,
      "outputs": [
        {
          "output_type": "execute_result",
          "data": {
            "text/html": [
              "<div>\n",
              "<style scoped>\n",
              "    .dataframe tbody tr th:only-of-type {\n",
              "        vertical-align: middle;\n",
              "    }\n",
              "\n",
              "    .dataframe tbody tr th {\n",
              "        vertical-align: top;\n",
              "    }\n",
              "\n",
              "    .dataframe thead th {\n",
              "        text-align: right;\n",
              "    }\n",
              "</style>\n",
              "<table border=\"1\" class=\"dataframe\">\n",
              "  <thead>\n",
              "    <tr style=\"text-align: right;\">\n",
              "      <th></th>\n",
              "      <th>survived</th>\n",
              "      <th>sex</th>\n",
              "      <th>age</th>\n",
              "      <th>n_siblings_spouses</th>\n",
              "      <th>parch</th>\n",
              "      <th>fare</th>\n",
              "      <th>class</th>\n",
              "      <th>deck</th>\n",
              "      <th>embark_town</th>\n",
              "      <th>alone</th>\n",
              "    </tr>\n",
              "  </thead>\n",
              "  <tbody>\n",
              "    <tr>\n",
              "      <th>0</th>\n",
              "      <td>0</td>\n",
              "      <td>male</td>\n",
              "      <td>22.0</td>\n",
              "      <td>1</td>\n",
              "      <td>0</td>\n",
              "      <td>7.2500</td>\n",
              "      <td>Third</td>\n",
              "      <td>unknown</td>\n",
              "      <td>Southampton</td>\n",
              "      <td>n</td>\n",
              "    </tr>\n",
              "    <tr>\n",
              "      <th>1</th>\n",
              "      <td>1</td>\n",
              "      <td>female</td>\n",
              "      <td>38.0</td>\n",
              "      <td>1</td>\n",
              "      <td>0</td>\n",
              "      <td>71.2833</td>\n",
              "      <td>First</td>\n",
              "      <td>C</td>\n",
              "      <td>Cherbourg</td>\n",
              "      <td>n</td>\n",
              "    </tr>\n",
              "    <tr>\n",
              "      <th>2</th>\n",
              "      <td>1</td>\n",
              "      <td>female</td>\n",
              "      <td>26.0</td>\n",
              "      <td>0</td>\n",
              "      <td>0</td>\n",
              "      <td>7.9250</td>\n",
              "      <td>Third</td>\n",
              "      <td>unknown</td>\n",
              "      <td>Southampton</td>\n",
              "      <td>y</td>\n",
              "    </tr>\n",
              "    <tr>\n",
              "      <th>3</th>\n",
              "      <td>1</td>\n",
              "      <td>female</td>\n",
              "      <td>35.0</td>\n",
              "      <td>1</td>\n",
              "      <td>0</td>\n",
              "      <td>53.1000</td>\n",
              "      <td>First</td>\n",
              "      <td>C</td>\n",
              "      <td>Southampton</td>\n",
              "      <td>n</td>\n",
              "    </tr>\n",
              "    <tr>\n",
              "      <th>4</th>\n",
              "      <td>0</td>\n",
              "      <td>male</td>\n",
              "      <td>28.0</td>\n",
              "      <td>0</td>\n",
              "      <td>0</td>\n",
              "      <td>8.4583</td>\n",
              "      <td>Third</td>\n",
              "      <td>unknown</td>\n",
              "      <td>Queenstown</td>\n",
              "      <td>y</td>\n",
              "    </tr>\n",
              "    <tr>\n",
              "      <th>...</th>\n",
              "      <td>...</td>\n",
              "      <td>...</td>\n",
              "      <td>...</td>\n",
              "      <td>...</td>\n",
              "      <td>...</td>\n",
              "      <td>...</td>\n",
              "      <td>...</td>\n",
              "      <td>...</td>\n",
              "      <td>...</td>\n",
              "      <td>...</td>\n",
              "    </tr>\n",
              "    <tr>\n",
              "      <th>622</th>\n",
              "      <td>0</td>\n",
              "      <td>male</td>\n",
              "      <td>28.0</td>\n",
              "      <td>0</td>\n",
              "      <td>0</td>\n",
              "      <td>10.5000</td>\n",
              "      <td>Second</td>\n",
              "      <td>unknown</td>\n",
              "      <td>Southampton</td>\n",
              "      <td>y</td>\n",
              "    </tr>\n",
              "    <tr>\n",
              "      <th>623</th>\n",
              "      <td>0</td>\n",
              "      <td>male</td>\n",
              "      <td>25.0</td>\n",
              "      <td>0</td>\n",
              "      <td>0</td>\n",
              "      <td>7.0500</td>\n",
              "      <td>Third</td>\n",
              "      <td>unknown</td>\n",
              "      <td>Southampton</td>\n",
              "      <td>y</td>\n",
              "    </tr>\n",
              "    <tr>\n",
              "      <th>624</th>\n",
              "      <td>1</td>\n",
              "      <td>female</td>\n",
              "      <td>19.0</td>\n",
              "      <td>0</td>\n",
              "      <td>0</td>\n",
              "      <td>30.0000</td>\n",
              "      <td>First</td>\n",
              "      <td>B</td>\n",
              "      <td>Southampton</td>\n",
              "      <td>y</td>\n",
              "    </tr>\n",
              "    <tr>\n",
              "      <th>625</th>\n",
              "      <td>0</td>\n",
              "      <td>female</td>\n",
              "      <td>28.0</td>\n",
              "      <td>1</td>\n",
              "      <td>2</td>\n",
              "      <td>23.4500</td>\n",
              "      <td>Third</td>\n",
              "      <td>unknown</td>\n",
              "      <td>Southampton</td>\n",
              "      <td>n</td>\n",
              "    </tr>\n",
              "    <tr>\n",
              "      <th>626</th>\n",
              "      <td>0</td>\n",
              "      <td>male</td>\n",
              "      <td>32.0</td>\n",
              "      <td>0</td>\n",
              "      <td>0</td>\n",
              "      <td>7.7500</td>\n",
              "      <td>Third</td>\n",
              "      <td>unknown</td>\n",
              "      <td>Queenstown</td>\n",
              "      <td>y</td>\n",
              "    </tr>\n",
              "  </tbody>\n",
              "</table>\n",
              "<p>627 rows × 10 columns</p>\n",
              "</div>"
            ],
            "text/plain": [
              "     survived     sex   age  ...     deck  embark_town  alone\n",
              "0           0    male  22.0  ...  unknown  Southampton      n\n",
              "1           1  female  38.0  ...        C    Cherbourg      n\n",
              "2           1  female  26.0  ...  unknown  Southampton      y\n",
              "3           1  female  35.0  ...        C  Southampton      n\n",
              "4           0    male  28.0  ...  unknown   Queenstown      y\n",
              "..        ...     ...   ...  ...      ...          ...    ...\n",
              "622         0    male  28.0  ...  unknown  Southampton      y\n",
              "623         0    male  25.0  ...  unknown  Southampton      y\n",
              "624         1  female  19.0  ...        B  Southampton      y\n",
              "625         0  female  28.0  ...  unknown  Southampton      n\n",
              "626         0    male  32.0  ...  unknown   Queenstown      y\n",
              "\n",
              "[627 rows x 10 columns]"
            ]
          },
          "metadata": {
            "tags": []
          },
          "execution_count": 115
        }
      ]
    },
    {
      "cell_type": "code",
      "metadata": {
        "id": "V_mX_KLBGAtI"
      },
      "source": [
        "LABEL_COLUMN = 'survived'\n",
        "LABELS = [0, 1]\n",
        "\n",
        "train_ds = tf.data.experimental.make_csv_dataset(\n",
        "      train_file_path,\n",
        "      batch_size=3,\n",
        "      label_name=LABEL_COLUMN,\n",
        "      na_value=\"?\",\n",
        "      num_epochs=1,\n",
        "      ignore_errors=True)"
      ],
      "execution_count": null,
      "outputs": []
    },
    {
      "cell_type": "code",
      "metadata": {
        "id": "ZCYDxtfWGEQf"
      },
      "source": [
        "test_ds = tf.data.experimental.make_csv_dataset(\n",
        "      test_file_path,\n",
        "      batch_size=3,\n",
        "      label_name=LABEL_COLUMN,\n",
        "      na_value=\"?\",\n",
        "      num_epochs=1,\n",
        "      ignore_errors=True)"
      ],
      "execution_count": null,
      "outputs": []
    },
    {
      "cell_type": "code",
      "metadata": {
        "id": "DaPvRQxAGHI6",
        "colab": {
          "base_uri": "https://localhost:8080/",
          "height": 187
        },
        "outputId": "da8e6be0-2af0-4709-f327-e60b076cbae2"
      },
      "source": [
        "for batch, label in train_ds.take(1):\n",
        "  print(label)\n",
        "  for key, value in batch.items():\n",
        "    print(\"{}: {}\".format(key,value.numpy()))\n"
      ],
      "execution_count": null,
      "outputs": [
        {
          "output_type": "stream",
          "text": [
            "tf.Tensor([1 1 1], shape=(3,), dtype=int32)\n",
            "sex: [b'female' b'female' b'male']\n",
            "age: [23. 47. 20.]\n",
            "n_siblings_spouses: [0 1 0]\n",
            "parch: [0 1 0]\n",
            "fare: [ 7.55   52.5542  7.2292]\n",
            "class: [b'Third' b'First' b'Third']\n",
            "deck: [b'unknown' b'D' b'unknown']\n",
            "embark_town: [b'Southampton' b'Southampton' b'Cherbourg']\n",
            "alone: [b'y' b'n' b'y']\n"
          ],
          "name": "stdout"
        }
      ]
    },
    {
      "cell_type": "code",
      "metadata": {
        "id": "Fa72YSSWGJDl"
      },
      "source": [
        "feature_columns = []\n",
        "\n",
        "# numeric cols\n",
        "for header in ['age', 'n_siblings_spouses', 'parch', 'fare']:\n",
        "  feature_columns.append(feature_column.numeric_column(header))"
      ],
      "execution_count": null,
      "outputs": []
    },
    {
      "cell_type": "code",
      "metadata": {
        "id": "8jv56DWLGM3K",
        "colab": {
          "base_uri": "https://localhost:8080/",
          "height": 297
        },
        "outputId": "ccfa1280-aa4b-4c74-dd31-51bc87528993"
      },
      "source": [
        "train_df.describe()"
      ],
      "execution_count": null,
      "outputs": [
        {
          "output_type": "execute_result",
          "data": {
            "text/html": [
              "<div>\n",
              "<style scoped>\n",
              "    .dataframe tbody tr th:only-of-type {\n",
              "        vertical-align: middle;\n",
              "    }\n",
              "\n",
              "    .dataframe tbody tr th {\n",
              "        vertical-align: top;\n",
              "    }\n",
              "\n",
              "    .dataframe thead th {\n",
              "        text-align: right;\n",
              "    }\n",
              "</style>\n",
              "<table border=\"1\" class=\"dataframe\">\n",
              "  <thead>\n",
              "    <tr style=\"text-align: right;\">\n",
              "      <th></th>\n",
              "      <th>survived</th>\n",
              "      <th>age</th>\n",
              "      <th>n_siblings_spouses</th>\n",
              "      <th>parch</th>\n",
              "      <th>fare</th>\n",
              "    </tr>\n",
              "  </thead>\n",
              "  <tbody>\n",
              "    <tr>\n",
              "      <th>count</th>\n",
              "      <td>627.000000</td>\n",
              "      <td>627.000000</td>\n",
              "      <td>627.000000</td>\n",
              "      <td>627.000000</td>\n",
              "      <td>627.000000</td>\n",
              "    </tr>\n",
              "    <tr>\n",
              "      <th>mean</th>\n",
              "      <td>0.387560</td>\n",
              "      <td>29.631308</td>\n",
              "      <td>0.545455</td>\n",
              "      <td>0.379585</td>\n",
              "      <td>34.385399</td>\n",
              "    </tr>\n",
              "    <tr>\n",
              "      <th>std</th>\n",
              "      <td>0.487582</td>\n",
              "      <td>12.511818</td>\n",
              "      <td>1.151090</td>\n",
              "      <td>0.792999</td>\n",
              "      <td>54.597730</td>\n",
              "    </tr>\n",
              "    <tr>\n",
              "      <th>min</th>\n",
              "      <td>0.000000</td>\n",
              "      <td>0.750000</td>\n",
              "      <td>0.000000</td>\n",
              "      <td>0.000000</td>\n",
              "      <td>0.000000</td>\n",
              "    </tr>\n",
              "    <tr>\n",
              "      <th>25%</th>\n",
              "      <td>0.000000</td>\n",
              "      <td>23.000000</td>\n",
              "      <td>0.000000</td>\n",
              "      <td>0.000000</td>\n",
              "      <td>7.895800</td>\n",
              "    </tr>\n",
              "    <tr>\n",
              "      <th>50%</th>\n",
              "      <td>0.000000</td>\n",
              "      <td>28.000000</td>\n",
              "      <td>0.000000</td>\n",
              "      <td>0.000000</td>\n",
              "      <td>15.045800</td>\n",
              "    </tr>\n",
              "    <tr>\n",
              "      <th>75%</th>\n",
              "      <td>1.000000</td>\n",
              "      <td>35.000000</td>\n",
              "      <td>1.000000</td>\n",
              "      <td>0.000000</td>\n",
              "      <td>31.387500</td>\n",
              "    </tr>\n",
              "    <tr>\n",
              "      <th>max</th>\n",
              "      <td>1.000000</td>\n",
              "      <td>80.000000</td>\n",
              "      <td>8.000000</td>\n",
              "      <td>5.000000</td>\n",
              "      <td>512.329200</td>\n",
              "    </tr>\n",
              "  </tbody>\n",
              "</table>\n",
              "</div>"
            ],
            "text/plain": [
              "         survived         age  n_siblings_spouses       parch        fare\n",
              "count  627.000000  627.000000          627.000000  627.000000  627.000000\n",
              "mean     0.387560   29.631308            0.545455    0.379585   34.385399\n",
              "std      0.487582   12.511818            1.151090    0.792999   54.597730\n",
              "min      0.000000    0.750000            0.000000    0.000000    0.000000\n",
              "25%      0.000000   23.000000            0.000000    0.000000    7.895800\n",
              "50%      0.000000   28.000000            0.000000    0.000000   15.045800\n",
              "75%      1.000000   35.000000            1.000000    0.000000   31.387500\n",
              "max      1.000000   80.000000            8.000000    5.000000  512.329200"
            ]
          },
          "metadata": {
            "tags": []
          },
          "execution_count": 120
        }
      ]
    },
    {
      "cell_type": "code",
      "metadata": {
        "id": "3VnRrKfnGOux"
      },
      "source": [
        "# We will use this batch to demonstrate several types of feature columns\n",
        "example_batch = next(iter(train_ds))[0]\n",
        "# A utility method to create a feature column\n",
        "# and to transform a batch of data\n",
        "def demo(feature_column):\n",
        "  feature_layer = layers.DenseFeatures(feature_column)\n",
        "  print(feature_layer(example_batch).numpy())"
      ],
      "execution_count": null,
      "outputs": []
    },
    {
      "cell_type": "code",
      "metadata": {
        "id": "YmBDHVN8GQ7t",
        "colab": {
          "base_uri": "https://localhost:8080/",
          "height": 68
        },
        "outputId": "f1b1b4e5-2c7a-4eb8-d013-7c85aec86490"
      },
      "source": [
        "age = feature_column.numeric_column('age')\n",
        "age_buckets = feature_column.bucketized_column(age, boundaries=[23, 28, 35])\n",
        "demo(age_buckets)"
      ],
      "execution_count": null,
      "outputs": [
        {
          "output_type": "stream",
          "text": [
            "[[0. 0. 0. 1.]\n",
            " [1. 0. 0. 0.]\n",
            " [0. 0. 0. 1.]]\n"
          ],
          "name": "stdout"
        }
      ]
    },
    {
      "cell_type": "code",
      "metadata": {
        "id": "qxgj-eXIGYuM",
        "colab": {
          "base_uri": "https://localhost:8080/",
          "height": 102
        },
        "outputId": "15423605-f23e-40f6-f67d-20b6b0c33c08"
      },
      "source": [
        "h = {}\n",
        "for col in train_df:\n",
        "  if col in ['sex', 'class', 'deck', 'embark_town', 'alone']:\n",
        "    print(col, ':', train_df[col].unique())\n",
        "    h[col] = train_df[col].unique()"
      ],
      "execution_count": null,
      "outputs": [
        {
          "output_type": "stream",
          "text": [
            "sex : ['male' 'female']\n",
            "class : ['Third' 'First' 'Second']\n",
            "deck : ['unknown' 'C' 'G' 'A' 'B' 'D' 'F' 'E']\n",
            "embark_town : ['Southampton' 'Cherbourg' 'Queenstown' 'unknown']\n",
            "alone : ['n' 'y']\n"
          ],
          "name": "stdout"
        }
      ]
    },
    {
      "cell_type": "code",
      "metadata": {
        "id": "lQSdxca9Gark",
        "colab": {
          "base_uri": "https://localhost:8080/",
          "height": 34
        },
        "outputId": "4719cc33-c785-46ed-c8d5-d3d3814bf948"
      },
      "source": [
        "type(h.get('sex').tolist())"
      ],
      "execution_count": null,
      "outputs": [
        {
          "output_type": "execute_result",
          "data": {
            "text/plain": [
              "list"
            ]
          },
          "metadata": {
            "tags": []
          },
          "execution_count": 124
        }
      ]
    },
    {
      "cell_type": "code",
      "metadata": {
        "id": "DzvoWAZuGdAW"
      },
      "source": [
        "sex_type = feature_column.categorical_column_with_vocabulary_list(\n",
        "      'sex', ['male' 'female'])\n",
        "sex_type_one_hot = feature_column.indicator_column(sex_type)\n",
        "\n",
        "## use key to lookup value and pass the value to one-hot encoding.\n",
        "sex_type = feature_column.categorical_column_with_vocabulary_list(\n",
        "      'sex', h.get('sex').tolist())\n",
        "sex_type_one_hot = feature_column.indicator_column(sex_type)\n",
        "\n",
        "class_type = feature_column.categorical_column_with_vocabulary_list(\n",
        "      'class', ['Third' 'First' 'Second'])\n",
        "class_type_one_hot = feature_column.indicator_column(class_type)\n",
        "\n",
        "deck_type = feature_column.categorical_column_with_vocabulary_list(\n",
        "      'deck', h.get('deck').tolist())\n",
        "deck_type_one_hot = feature_column.indicator_column(deck_type)\n",
        "\n",
        "embark_town_type = feature_column.categorical_column_with_vocabulary_list(\n",
        "      'embark_town', h.get('embark_town').tolist())\n",
        "embark_town_type_one_hot = feature_column.indicator_column(embark_town_type)\n",
        "\n",
        "alone_type = feature_column.categorical_column_with_vocabulary_list(\n",
        "      'alone', h.get('alone').tolist())\n",
        "alone_one_hot = feature_column.indicator_column(alone_type)"
      ],
      "execution_count": null,
      "outputs": []
    },
    {
      "cell_type": "code",
      "metadata": {
        "id": "baZyLSU8GfSE"
      },
      "source": [
        "deck = feature_column.categorical_column_with_vocabulary_list(\n",
        "      'deck', train_df.deck.unique())\n",
        "deck_embedding = feature_column.embedding_column(deck, dimension=3)"
      ],
      "execution_count": null,
      "outputs": []
    },
    {
      "cell_type": "code",
      "metadata": {
        "id": "e1ivH1GdGkBr",
        "colab": {
          "base_uri": "https://localhost:8080/",
          "height": 68
        },
        "outputId": "3737542d-d870-4e75-8f02-88a111b65786"
      },
      "source": [
        "class_hashed = feature_column.categorical_column_with_hash_bucket(\n",
        "      'class', hash_bucket_size=4)\n",
        "demo(feature_column.indicator_column(class_hashed))"
      ],
      "execution_count": null,
      "outputs": [
        {
          "output_type": "stream",
          "text": [
            "[[0. 0. 0. 1.]\n",
            " [0. 1. 0. 0.]\n",
            " [0. 0. 1. 0.]]\n"
          ],
          "name": "stdout"
        }
      ]
    },
    {
      "cell_type": "code",
      "metadata": {
        "id": "LFUme6boGmZ-",
        "colab": {
          "base_uri": "https://localhost:8080/",
          "height": 34
        },
        "outputId": "624b0490-66fd-4729-b0bb-1bb60b528bfa"
      },
      "source": [
        "feature_column"
      ],
      "execution_count": null,
      "outputs": [
        {
          "output_type": "execute_result",
          "data": {
            "text/plain": [
              "<module 'tensorflow._api.v2.feature_column' from '/usr/local/lib/python3.6/dist-packages/tensorflow/_api/v2/feature_column/__init__.py'>"
            ]
          },
          "metadata": {
            "tags": []
          },
          "execution_count": 128
        }
      ]
    },
    {
      "cell_type": "code",
      "metadata": {
        "id": "Kun92IczGokp",
        "colab": {
          "base_uri": "https://localhost:8080/",
          "height": 68
        },
        "outputId": "9b162458-ac8e-4bd3-a1d7-c508093f365e"
      },
      "source": [
        "crossed_feature = feature_column.crossed_column([sex_type, class_type], hash_bucket_size=5)\n",
        "demo(feature_column.indicator_column(crossed_feature))"
      ],
      "execution_count": null,
      "outputs": [
        {
          "output_type": "stream",
          "text": [
            "[[0. 1. 0. 0. 0.]\n",
            " [0. 0. 0. 0. 1.]\n",
            " [0. 1. 0. 0. 0.]]\n"
          ],
          "name": "stdout"
        }
      ]
    },
    {
      "cell_type": "code",
      "metadata": {
        "id": "t3whV2EEGqfs",
        "colab": {
          "base_uri": "https://localhost:8080/",
          "height": 54
        },
        "outputId": "5d228097-06a1-4713-c6da-77cb0a5ea210"
      },
      "source": [
        "crossed_feature"
      ],
      "execution_count": null,
      "outputs": [
        {
          "output_type": "execute_result",
          "data": {
            "text/plain": [
              "CrossedColumn(keys=(VocabularyListCategoricalColumn(key='sex', vocabulary_list=('male', 'female'), dtype=tf.string, default_value=-1, num_oov_buckets=0), VocabularyListCategoricalColumn(key='class', vocabulary_list=('ThirdFirstSecond',), dtype=tf.string, default_value=-1, num_oov_buckets=0)), hash_bucket_size=5, hash_key=None)"
            ]
          },
          "metadata": {
            "tags": []
          },
          "execution_count": 130
        }
      ]
    },
    {
      "cell_type": "code",
      "metadata": {
        "id": "UgWi2cMoGsmq"
      },
      "source": [
        "feature_columns = []\n",
        "\n",
        "# numeric cols\n",
        "for header in ['age', 'n_siblings_spouses', 'parch', 'fare']:\n",
        "  feature_columns.append(feature_column.numeric_column(header))"
      ],
      "execution_count": null,
      "outputs": []
    },
    {
      "cell_type": "code",
      "metadata": {
        "id": "D-C-89fxGvVp"
      },
      "source": [
        "# bucketized cols\n",
        "age = feature_column.numeric_column('age')\n",
        "age_buckets = feature_column.bucketized_column(age, boundaries=[23, 28, 35])"
      ],
      "execution_count": null,
      "outputs": []
    },
    {
      "cell_type": "code",
      "metadata": {
        "id": "yqap3-vCGx8y"
      },
      "source": [
        "feature_columns.append(age_buckets)"
      ],
      "execution_count": null,
      "outputs": []
    },
    {
      "cell_type": "code",
      "metadata": {
        "id": "-P72xq2BGz--"
      },
      "source": [
        "# indicator_columns\n",
        "indicator_column_names = ['sex', 'class', 'deck', 'embark_town', 'alone']\n",
        "for col_name in indicator_column_names:\n",
        "  categorical_column = feature_column.categorical_column_with_vocabulary_list(\n",
        "      col_name, train_df[col_name].unique())\n",
        "  indicator_column = feature_column.indicator_column(categorical_column)\n",
        "  feature_columns.append(indicator_column)"
      ],
      "execution_count": null,
      "outputs": []
    },
    {
      "cell_type": "code",
      "metadata": {
        "id": "Tc4XwBPLG2Nt"
      },
      "source": [
        "# append embedding columns\n",
        "deck = feature_column.categorical_column_with_vocabulary_list(\n",
        "      'deck', train_df.deck.unique())\n",
        "deck_embedding = feature_column.embedding_column(deck, dimension=3)\n",
        "feature_columns.append(deck_embedding)"
      ],
      "execution_count": null,
      "outputs": []
    },
    {
      "cell_type": "code",
      "metadata": {
        "id": "khafGhzsG4NO"
      },
      "source": [
        "# append crossed columns\n",
        "cross_type_feature = feature_column.crossed_column(['sex', 'class'], hash_bucket_size=5)\n",
        "feature_columns.append(feature_column.indicator_column(cross_type_feature))"
      ],
      "execution_count": null,
      "outputs": []
    },
    {
      "cell_type": "code",
      "metadata": {
        "id": "2baSjZ8eG8L-"
      },
      "source": [
        "feature_layer = tf.keras.layers.DenseFeatures(feature_columns)"
      ],
      "execution_count": null,
      "outputs": []
    },
    {
      "cell_type": "code",
      "metadata": {
        "id": "v14W3-U7G-C2"
      },
      "source": [
        "# A utility method to create a tf.data dataset from a Pandas Dataframe\n",
        "def pandas_to_dataset(dataframe, shuffle=True, batch_size=32):\n",
        "  dataframe = dataframe.copy()\n",
        "  labels = dataframe.pop('survived')\n",
        "  ds = tf.data.Dataset.from_tensor_slices((dict(dataframe), labels))\n",
        "  if shuffle:\n",
        "    ds = ds.shuffle(buffer_size=len(dataframe))\n",
        "  ds = ds.batch(batch_size)\n",
        "  return ds"
      ],
      "execution_count": null,
      "outputs": []
    },
    {
      "cell_type": "code",
      "metadata": {
        "id": "KJDjIMwsHAhS"
      },
      "source": [
        "val_df, test_df = train_test_split(test_df, test_size=0.4)"
      ],
      "execution_count": null,
      "outputs": []
    },
    {
      "cell_type": "code",
      "metadata": {
        "id": "x3g8wqfnIYeb",
        "colab": {
          "base_uri": "https://localhost:8080/",
          "height": 68
        },
        "outputId": "5db0aff3-e7aa-4959-872f-078ea425722d"
      },
      "source": [
        "print(len(train_df), 'train examples')\n",
        "print(len(val_df), 'validation examples')\n",
        "print(len(test_df), 'test examples')"
      ],
      "execution_count": null,
      "outputs": [
        {
          "output_type": "stream",
          "text": [
            "627 train examples\n",
            "158 validation examples\n",
            "106 test examples\n"
          ],
          "name": "stdout"
        }
      ]
    },
    {
      "cell_type": "code",
      "metadata": {
        "id": "ET2vdDSJTQbH",
        "colab": {
          "base_uri": "https://localhost:8080/",
          "height": 419
        },
        "outputId": "e0accc66-da1e-432d-ad0f-e14e964339cb"
      },
      "source": [
        "train_df"
      ],
      "execution_count": null,
      "outputs": [
        {
          "output_type": "execute_result",
          "data": {
            "text/html": [
              "<div>\n",
              "<style scoped>\n",
              "    .dataframe tbody tr th:only-of-type {\n",
              "        vertical-align: middle;\n",
              "    }\n",
              "\n",
              "    .dataframe tbody tr th {\n",
              "        vertical-align: top;\n",
              "    }\n",
              "\n",
              "    .dataframe thead th {\n",
              "        text-align: right;\n",
              "    }\n",
              "</style>\n",
              "<table border=\"1\" class=\"dataframe\">\n",
              "  <thead>\n",
              "    <tr style=\"text-align: right;\">\n",
              "      <th></th>\n",
              "      <th>survived</th>\n",
              "      <th>sex</th>\n",
              "      <th>age</th>\n",
              "      <th>n_siblings_spouses</th>\n",
              "      <th>parch</th>\n",
              "      <th>fare</th>\n",
              "      <th>class</th>\n",
              "      <th>deck</th>\n",
              "      <th>embark_town</th>\n",
              "      <th>alone</th>\n",
              "    </tr>\n",
              "  </thead>\n",
              "  <tbody>\n",
              "    <tr>\n",
              "      <th>0</th>\n",
              "      <td>0</td>\n",
              "      <td>male</td>\n",
              "      <td>22.0</td>\n",
              "      <td>1</td>\n",
              "      <td>0</td>\n",
              "      <td>7.2500</td>\n",
              "      <td>Third</td>\n",
              "      <td>unknown</td>\n",
              "      <td>Southampton</td>\n",
              "      <td>n</td>\n",
              "    </tr>\n",
              "    <tr>\n",
              "      <th>1</th>\n",
              "      <td>1</td>\n",
              "      <td>female</td>\n",
              "      <td>38.0</td>\n",
              "      <td>1</td>\n",
              "      <td>0</td>\n",
              "      <td>71.2833</td>\n",
              "      <td>First</td>\n",
              "      <td>C</td>\n",
              "      <td>Cherbourg</td>\n",
              "      <td>n</td>\n",
              "    </tr>\n",
              "    <tr>\n",
              "      <th>2</th>\n",
              "      <td>1</td>\n",
              "      <td>female</td>\n",
              "      <td>26.0</td>\n",
              "      <td>0</td>\n",
              "      <td>0</td>\n",
              "      <td>7.9250</td>\n",
              "      <td>Third</td>\n",
              "      <td>unknown</td>\n",
              "      <td>Southampton</td>\n",
              "      <td>y</td>\n",
              "    </tr>\n",
              "    <tr>\n",
              "      <th>3</th>\n",
              "      <td>1</td>\n",
              "      <td>female</td>\n",
              "      <td>35.0</td>\n",
              "      <td>1</td>\n",
              "      <td>0</td>\n",
              "      <td>53.1000</td>\n",
              "      <td>First</td>\n",
              "      <td>C</td>\n",
              "      <td>Southampton</td>\n",
              "      <td>n</td>\n",
              "    </tr>\n",
              "    <tr>\n",
              "      <th>4</th>\n",
              "      <td>0</td>\n",
              "      <td>male</td>\n",
              "      <td>28.0</td>\n",
              "      <td>0</td>\n",
              "      <td>0</td>\n",
              "      <td>8.4583</td>\n",
              "      <td>Third</td>\n",
              "      <td>unknown</td>\n",
              "      <td>Queenstown</td>\n",
              "      <td>y</td>\n",
              "    </tr>\n",
              "    <tr>\n",
              "      <th>...</th>\n",
              "      <td>...</td>\n",
              "      <td>...</td>\n",
              "      <td>...</td>\n",
              "      <td>...</td>\n",
              "      <td>...</td>\n",
              "      <td>...</td>\n",
              "      <td>...</td>\n",
              "      <td>...</td>\n",
              "      <td>...</td>\n",
              "      <td>...</td>\n",
              "    </tr>\n",
              "    <tr>\n",
              "      <th>622</th>\n",
              "      <td>0</td>\n",
              "      <td>male</td>\n",
              "      <td>28.0</td>\n",
              "      <td>0</td>\n",
              "      <td>0</td>\n",
              "      <td>10.5000</td>\n",
              "      <td>Second</td>\n",
              "      <td>unknown</td>\n",
              "      <td>Southampton</td>\n",
              "      <td>y</td>\n",
              "    </tr>\n",
              "    <tr>\n",
              "      <th>623</th>\n",
              "      <td>0</td>\n",
              "      <td>male</td>\n",
              "      <td>25.0</td>\n",
              "      <td>0</td>\n",
              "      <td>0</td>\n",
              "      <td>7.0500</td>\n",
              "      <td>Third</td>\n",
              "      <td>unknown</td>\n",
              "      <td>Southampton</td>\n",
              "      <td>y</td>\n",
              "    </tr>\n",
              "    <tr>\n",
              "      <th>624</th>\n",
              "      <td>1</td>\n",
              "      <td>female</td>\n",
              "      <td>19.0</td>\n",
              "      <td>0</td>\n",
              "      <td>0</td>\n",
              "      <td>30.0000</td>\n",
              "      <td>First</td>\n",
              "      <td>B</td>\n",
              "      <td>Southampton</td>\n",
              "      <td>y</td>\n",
              "    </tr>\n",
              "    <tr>\n",
              "      <th>625</th>\n",
              "      <td>0</td>\n",
              "      <td>female</td>\n",
              "      <td>28.0</td>\n",
              "      <td>1</td>\n",
              "      <td>2</td>\n",
              "      <td>23.4500</td>\n",
              "      <td>Third</td>\n",
              "      <td>unknown</td>\n",
              "      <td>Southampton</td>\n",
              "      <td>n</td>\n",
              "    </tr>\n",
              "    <tr>\n",
              "      <th>626</th>\n",
              "      <td>0</td>\n",
              "      <td>male</td>\n",
              "      <td>32.0</td>\n",
              "      <td>0</td>\n",
              "      <td>0</td>\n",
              "      <td>7.7500</td>\n",
              "      <td>Third</td>\n",
              "      <td>unknown</td>\n",
              "      <td>Queenstown</td>\n",
              "      <td>y</td>\n",
              "    </tr>\n",
              "  </tbody>\n",
              "</table>\n",
              "<p>627 rows × 10 columns</p>\n",
              "</div>"
            ],
            "text/plain": [
              "     survived     sex   age  ...     deck  embark_town  alone\n",
              "0           0    male  22.0  ...  unknown  Southampton      n\n",
              "1           1  female  38.0  ...        C    Cherbourg      n\n",
              "2           1  female  26.0  ...  unknown  Southampton      y\n",
              "3           1  female  35.0  ...        C  Southampton      n\n",
              "4           0    male  28.0  ...  unknown   Queenstown      y\n",
              "..        ...     ...   ...  ...      ...          ...    ...\n",
              "622         0    male  28.0  ...  unknown  Southampton      y\n",
              "623         0    male  25.0  ...  unknown  Southampton      y\n",
              "624         1  female  19.0  ...        B  Southampton      y\n",
              "625         0  female  28.0  ...  unknown  Southampton      n\n",
              "626         0    male  32.0  ...  unknown   Queenstown      y\n",
              "\n",
              "[627 rows x 10 columns]"
            ]
          },
          "metadata": {
            "tags": []
          },
          "execution_count": 141
        }
      ]
    },
    {
      "cell_type": "code",
      "metadata": {
        "id": "toPgz-44Ic2r",
        "colab": {
          "base_uri": "https://localhost:8080/",
          "height": 35
        },
        "outputId": "cb95baa9-effc-4479-dba2-3a521dea9634"
      },
      "source": [
        "'''\n",
        "batch_size = 33\n",
        "train_ds = df_to_dataset(train_df, batch_size=batch_size)\n",
        "'''"
      ],
      "execution_count": null,
      "outputs": [
        {
          "output_type": "execute_result",
          "data": {
            "application/vnd.google.colaboratory.intrinsic+json": {
              "type": "string"
            },
            "text/plain": [
              "'\\nbatch_size = 33\\ntrain_ds = df_to_dataset(train_df, batch_size=batch_size)\\n'"
            ]
          },
          "metadata": {
            "tags": []
          },
          "execution_count": 142
        }
      ]
    },
    {
      "cell_type": "code",
      "metadata": {
        "id": "7U8s2GxpZS5T"
      },
      "source": [
        "batch_size = 33\n",
        "labels = train_df.pop('survived')\n",
        "working_ds = tf.data.Dataset.from_tensor_slices((dict(train_df), labels))\n",
        "working_ds = working_ds.shuffle(buffer_size=len(train_df))\n",
        "train_ds = working_ds.batch(batch_size)"
      ],
      "execution_count": null,
      "outputs": []
    },
    {
      "cell_type": "code",
      "metadata": {
        "id": "gQrxGz0HcV9H",
        "colab": {
          "base_uri": "https://localhost:8080/",
          "height": 1000
        },
        "outputId": "b15ac828-d897-40aa-d1c2-f95086ecac8c"
      },
      "source": [
        "dict(train_df)"
      ],
      "execution_count": null,
      "outputs": [
        {
          "output_type": "execute_result",
          "data": {
            "text/plain": [
              "{'age': 0      22.0\n",
              " 1      38.0\n",
              " 2      26.0\n",
              " 3      35.0\n",
              " 4      28.0\n",
              "        ... \n",
              " 622    28.0\n",
              " 623    25.0\n",
              " 624    19.0\n",
              " 625    28.0\n",
              " 626    32.0\n",
              " Name: age, Length: 627, dtype: float64, 'alone': 0      n\n",
              " 1      n\n",
              " 2      y\n",
              " 3      n\n",
              " 4      y\n",
              "       ..\n",
              " 622    y\n",
              " 623    y\n",
              " 624    y\n",
              " 625    n\n",
              " 626    y\n",
              " Name: alone, Length: 627, dtype: object, 'class': 0       Third\n",
              " 1       First\n",
              " 2       Third\n",
              " 3       First\n",
              " 4       Third\n",
              "         ...  \n",
              " 622    Second\n",
              " 623     Third\n",
              " 624     First\n",
              " 625     Third\n",
              " 626     Third\n",
              " Name: class, Length: 627, dtype: object, 'deck': 0      unknown\n",
              " 1            C\n",
              " 2      unknown\n",
              " 3            C\n",
              " 4      unknown\n",
              "         ...   \n",
              " 622    unknown\n",
              " 623    unknown\n",
              " 624          B\n",
              " 625    unknown\n",
              " 626    unknown\n",
              " Name: deck, Length: 627, dtype: object, 'embark_town': 0      Southampton\n",
              " 1        Cherbourg\n",
              " 2      Southampton\n",
              " 3      Southampton\n",
              " 4       Queenstown\n",
              "           ...     \n",
              " 622    Southampton\n",
              " 623    Southampton\n",
              " 624    Southampton\n",
              " 625    Southampton\n",
              " 626     Queenstown\n",
              " Name: embark_town, Length: 627, dtype: object, 'fare': 0       7.2500\n",
              " 1      71.2833\n",
              " 2       7.9250\n",
              " 3      53.1000\n",
              " 4       8.4583\n",
              "         ...   \n",
              " 622    10.5000\n",
              " 623     7.0500\n",
              " 624    30.0000\n",
              " 625    23.4500\n",
              " 626     7.7500\n",
              " Name: fare, Length: 627, dtype: float64, 'n_siblings_spouses': 0      1\n",
              " 1      1\n",
              " 2      0\n",
              " 3      1\n",
              " 4      0\n",
              "       ..\n",
              " 622    0\n",
              " 623    0\n",
              " 624    0\n",
              " 625    1\n",
              " 626    0\n",
              " Name: n_siblings_spouses, Length: 627, dtype: int64, 'parch': 0      0\n",
              " 1      0\n",
              " 2      0\n",
              " 3      0\n",
              " 4      0\n",
              "       ..\n",
              " 622    0\n",
              " 623    0\n",
              " 624    0\n",
              " 625    2\n",
              " 626    0\n",
              " Name: parch, Length: 627, dtype: int64, 'sex': 0        male\n",
              " 1      female\n",
              " 2      female\n",
              " 3      female\n",
              " 4        male\n",
              "         ...  \n",
              " 622      male\n",
              " 623      male\n",
              " 624    female\n",
              " 625    female\n",
              " 626      male\n",
              " Name: sex, Length: 627, dtype: object}"
            ]
          },
          "metadata": {
            "tags": []
          },
          "execution_count": 144
        }
      ]
    },
    {
      "cell_type": "code",
      "metadata": {
        "id": "JAvcOVm6alXn"
      },
      "source": [
        "val_ds = pandas_to_dataset(val_df, shuffle=False, batch_size=batch_size)\n",
        "test_ds = pandas_to_dataset(test_df, shuffle=False, batch_size=batch_size)"
      ],
      "execution_count": null,
      "outputs": []
    },
    {
      "cell_type": "code",
      "metadata": {
        "id": "PJGrbcWXJalU",
        "colab": {
          "base_uri": "https://localhost:8080/",
          "height": 598
        },
        "outputId": "e14613d6-c167-4895-870f-e3fa70b442d1"
      },
      "source": [
        "model = tf.keras.Sequential([\n",
        "  feature_layer,\n",
        "  layers.Dense(128, activation='relu'),\n",
        "  layers.Dense(128, activation='relu'),\n",
        "  layers.Dropout(.1),\n",
        "  layers.Dense(1)\n",
        "])\n",
        "\n",
        "model.compile(optimizer='adam',\n",
        "              loss=tf.keras.losses.BinaryCrossentropy(from_logits=True),\n",
        "              metrics=['accuracy'])\n",
        "\n",
        "model.fit(train_ds,\n",
        "          validation_data=val_ds,\n",
        "          epochs=10)"
      ],
      "execution_count": null,
      "outputs": [
        {
          "output_type": "stream",
          "text": [
            "Epoch 1/10\n",
            "WARNING:tensorflow:Layers in a Sequential model should only have a single input tensor, but we receive a <class 'dict'> input: {'sex': <tf.Tensor 'ExpandDims_8:0' shape=(None, 1) dtype=string>, 'age': <tf.Tensor 'ExpandDims:0' shape=(None, 1) dtype=float64>, 'n_siblings_spouses': <tf.Tensor 'ExpandDims_6:0' shape=(None, 1) dtype=int64>, 'parch': <tf.Tensor 'ExpandDims_7:0' shape=(None, 1) dtype=int64>, 'fare': <tf.Tensor 'ExpandDims_5:0' shape=(None, 1) dtype=float64>, 'class': <tf.Tensor 'ExpandDims_2:0' shape=(None, 1) dtype=string>, 'deck': <tf.Tensor 'ExpandDims_3:0' shape=(None, 1) dtype=string>, 'embark_town': <tf.Tensor 'ExpandDims_4:0' shape=(None, 1) dtype=string>, 'alone': <tf.Tensor 'ExpandDims_1:0' shape=(None, 1) dtype=string>}\n",
            "Consider rewriting this model with the Functional API.\n",
            "WARNING:tensorflow:Layer dense_features_12 is casting an input tensor from dtype float64 to the layer's dtype of float32, which is new behavior in TensorFlow 2.  The layer has dtype float32 because its dtype defaults to floatx.\n",
            "\n",
            "If you intended to run this layer in float32, you can safely ignore this warning. If in doubt, this warning is likely only an issue if you are porting a TensorFlow 1.X model to TensorFlow 2.\n",
            "\n",
            "To change all layers to have dtype float64 by default, call `tf.keras.backend.set_floatx('float64')`. To change just this layer, pass dtype='float64' to the layer constructor. If you are the author of this layer, you can disable autocasting by passing autocast=False to the base Layer constructor.\n",
            "\n",
            "WARNING:tensorflow:Layers in a Sequential model should only have a single input tensor, but we receive a <class 'dict'> input: {'sex': <tf.Tensor 'ExpandDims_8:0' shape=(None, 1) dtype=string>, 'age': <tf.Tensor 'ExpandDims:0' shape=(None, 1) dtype=float64>, 'n_siblings_spouses': <tf.Tensor 'ExpandDims_6:0' shape=(None, 1) dtype=int64>, 'parch': <tf.Tensor 'ExpandDims_7:0' shape=(None, 1) dtype=int64>, 'fare': <tf.Tensor 'ExpandDims_5:0' shape=(None, 1) dtype=float64>, 'class': <tf.Tensor 'ExpandDims_2:0' shape=(None, 1) dtype=string>, 'deck': <tf.Tensor 'ExpandDims_3:0' shape=(None, 1) dtype=string>, 'embark_town': <tf.Tensor 'ExpandDims_4:0' shape=(None, 1) dtype=string>, 'alone': <tf.Tensor 'ExpandDims_1:0' shape=(None, 1) dtype=string>}\n",
            "Consider rewriting this model with the Functional API.\n",
            " 1/19 [>.............................] - ETA: 0s - loss: 0.7839 - accuracy: 0.6667WARNING:tensorflow:Layers in a Sequential model should only have a single input tensor, but we receive a <class 'dict'> input: {'sex': <tf.Tensor 'ExpandDims_8:0' shape=(None, 1) dtype=string>, 'age': <tf.Tensor 'ExpandDims:0' shape=(None, 1) dtype=float64>, 'n_siblings_spouses': <tf.Tensor 'ExpandDims_6:0' shape=(None, 1) dtype=int64>, 'parch': <tf.Tensor 'ExpandDims_7:0' shape=(None, 1) dtype=int64>, 'fare': <tf.Tensor 'ExpandDims_5:0' shape=(None, 1) dtype=float64>, 'class': <tf.Tensor 'ExpandDims_2:0' shape=(None, 1) dtype=string>, 'deck': <tf.Tensor 'ExpandDims_3:0' shape=(None, 1) dtype=string>, 'embark_town': <tf.Tensor 'ExpandDims_4:0' shape=(None, 1) dtype=string>, 'alone': <tf.Tensor 'ExpandDims_1:0' shape=(None, 1) dtype=string>}\n",
            "Consider rewriting this model with the Functional API.\n",
            "19/19 [==============================] - 0s 19ms/step - loss: 0.9453 - accuracy: 0.6443 - val_loss: 0.6556 - val_accuracy: 0.6899\n",
            "Epoch 2/10\n",
            "19/19 [==============================] - 0s 3ms/step - loss: 0.7851 - accuracy: 0.6635 - val_loss: 0.5554 - val_accuracy: 0.7025\n",
            "Epoch 3/10\n",
            "19/19 [==============================] - 0s 3ms/step - loss: 0.6639 - accuracy: 0.6778 - val_loss: 0.5228 - val_accuracy: 0.7025\n",
            "Epoch 4/10\n",
            "19/19 [==============================] - 0s 3ms/step - loss: 0.6729 - accuracy: 0.6938 - val_loss: 0.5335 - val_accuracy: 0.7215\n",
            "Epoch 5/10\n",
            "19/19 [==============================] - 0s 3ms/step - loss: 0.7238 - accuracy: 0.6890 - val_loss: 0.5231 - val_accuracy: 0.7089\n",
            "Epoch 6/10\n",
            "19/19 [==============================] - 0s 3ms/step - loss: 0.5716 - accuracy: 0.7081 - val_loss: 0.4547 - val_accuracy: 0.7215\n",
            "Epoch 7/10\n",
            "19/19 [==============================] - 0s 3ms/step - loss: 0.6149 - accuracy: 0.7209 - val_loss: 0.6169 - val_accuracy: 0.7468\n",
            "Epoch 8/10\n",
            "19/19 [==============================] - 0s 3ms/step - loss: 0.5942 - accuracy: 0.7352 - val_loss: 0.4939 - val_accuracy: 0.7848\n",
            "Epoch 9/10\n",
            "19/19 [==============================] - 0s 3ms/step - loss: 0.5961 - accuracy: 0.7400 - val_loss: 0.6102 - val_accuracy: 0.7785\n",
            "Epoch 10/10\n",
            "19/19 [==============================] - 0s 3ms/step - loss: 0.5616 - accuracy: 0.7384 - val_loss: 0.4472 - val_accuracy: 0.8101\n"
          ],
          "name": "stdout"
        },
        {
          "output_type": "execute_result",
          "data": {
            "text/plain": [
              "<tensorflow.python.keras.callbacks.History at 0x7f934feb16d8>"
            ]
          },
          "metadata": {
            "tags": []
          },
          "execution_count": 146
        }
      ]
    },
    {
      "cell_type": "code",
      "metadata": {
        "id": "kHA28nH6JgQ8",
        "colab": {
          "base_uri": "https://localhost:8080/",
          "height": 323
        },
        "outputId": "4d98c13b-80ba-404d-a2c2-2a832fe881b4"
      },
      "source": [
        "model.summary()"
      ],
      "execution_count": null,
      "outputs": [
        {
          "output_type": "stream",
          "text": [
            "Model: \"sequential_3\"\n",
            "_________________________________________________________________\n",
            "Layer (type)                 Output Shape              Param #   \n",
            "=================================================================\n",
            "dense_features_7 (DenseFeatu multiple                  24        \n",
            "_________________________________________________________________\n",
            "dense_9 (Dense)              multiple                  4608      \n",
            "_________________________________________________________________\n",
            "dense_10 (Dense)             multiple                  16512     \n",
            "_________________________________________________________________\n",
            "dropout_3 (Dropout)          multiple                  0         \n",
            "_________________________________________________________________\n",
            "dense_11 (Dense)             multiple                  129       \n",
            "=================================================================\n",
            "Total params: 21,273\n",
            "Trainable params: 21,273\n",
            "Non-trainable params: 0\n",
            "_________________________________________________________________\n"
          ],
          "name": "stdout"
        }
      ]
    },
    {
      "cell_type": "code",
      "metadata": {
        "id": "uZpFhxD4T2zv"
      },
      "source": [
        ""
      ],
      "execution_count": null,
      "outputs": []
    }
  ]
}