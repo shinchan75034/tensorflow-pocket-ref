{
  "nbformat": 4,
  "nbformat_minor": 0,
  "metadata": {
    "colab": {
      "name": "Oreilly_C5_flow_numpy.ipynb",
      "provenance": [],
      "collapsed_sections": []
    },
    "kernelspec": {
      "name": "python3",
      "display_name": "Python 3"
    },
    "accelerator": "GPU"
  },
  "cells": [
    {
      "cell_type": "markdown",
      "metadata": {
        "id": "5-PPVtXwmICr"
      },
      "source": [
        "## Reference\n",
        "https://www.tensorflow.org/tutorials/keras/classification\n",
        "https://www.tensorflow.org/tutorials/load_data/numpy#load_numpy_arrays_with_tfdatadataset"
      ]
    },
    {
      "cell_type": "code",
      "metadata": {
        "id": "mgR9pJQLl5ED",
        "colab": {
          "base_uri": "https://localhost:8080/"
        },
        "outputId": "a150fac0-0cbf-425f-c77b-723b252cb29d"
      },
      "source": [
        "# TensorFlow and tf.keras\n",
        "import tensorflow as tf\n",
        "import numpy as np\n",
        "import matplotlib.pyplot as plt\n",
        "\n",
        "print(tf.__version__)"
      ],
      "execution_count": null,
      "outputs": [
        {
          "output_type": "stream",
          "text": [
            "2.3.0\n"
          ],
          "name": "stdout"
        }
      ]
    },
    {
      "cell_type": "code",
      "metadata": {
        "id": "Ee1qQhjol_bl"
      },
      "source": [
        "fashion_mnist = tf.keras.datasets.fashion_mnist\n",
        "(train_images, train_labels), (test_images, test_labels) = fashion_mnist.load_data()"
      ],
      "execution_count": null,
      "outputs": []
    },
    {
      "cell_type": "code",
      "metadata": {
        "id": "Ds2nDvnUmRaV",
        "colab": {
          "base_uri": "https://localhost:8080/"
        },
        "outputId": "3fead462-a7fa-47b3-d2a6-55741cf709eb"
      },
      "source": [
        "print(type(train_images), type(train_labels))"
      ],
      "execution_count": null,
      "outputs": [
        {
          "output_type": "stream",
          "text": [
            "<class 'numpy.ndarray'> <class 'numpy.ndarray'>\n"
          ],
          "name": "stdout"
        }
      ]
    },
    {
      "cell_type": "code",
      "metadata": {
        "id": "6kmwhYwgtNPs",
        "colab": {
          "base_uri": "https://localhost:8080/"
        },
        "outputId": "a6bfc9c7-ac5e-4e5c-cd18-0c90d0c6e7f5"
      },
      "source": [
        "print(train_images.shape, train_labels.shape)"
      ],
      "execution_count": null,
      "outputs": [
        {
          "output_type": "stream",
          "text": [
            "(60000, 28, 28) (60000,)\n"
          ],
          "name": "stdout"
        }
      ]
    },
    {
      "cell_type": "code",
      "metadata": {
        "id": "vevLylBfmVG1",
        "colab": {
          "base_uri": "https://localhost:8080/",
          "height": 265
        },
        "outputId": "b29a186f-6f38-4b14-9f84-fd2b5a4be268"
      },
      "source": [
        "plt.figure()\n",
        "plt.imshow(train_images[5])\n",
        "plt.colorbar()\n",
        "plt.grid(False)\n",
        "plt.show()"
      ],
      "execution_count": null,
      "outputs": [
        {
          "output_type": "display_data",
          "data": {
            "image/png": "[encoded data removed]",
            "text/plain": [
              "<Figure size 432x288 with 2 Axes>"
            ]
          },
          "metadata": {
            "tags": [],
            "needs_background": "light"
          }
        }
      ]
    },
    {
      "cell_type": "code",
      "metadata": {
        "id": "9UD5V_7lm1pI"
      },
      "source": [
        "train_images = train_images/255"
      ],
      "execution_count": null,
      "outputs": []
    },
    {
      "cell_type": "code",
      "metadata": {
        "id": "WKSXPGQgnm20",
        "colab": {
          "base_uri": "https://localhost:8080/"
        },
        "outputId": "bbfce46f-6bcd-456c-d627-a35ad68c9bf6"
      },
      "source": [
        "train_dataset = tf.data.Dataset.from_tensor_slices((train_images, train_labels))\n",
        "dataset"
      ],
      "execution_count": null,
      "outputs": [
        {
          "output_type": "execute_result",
          "data": {
            "text/plain": [
              "<TensorSliceDataset shapes: ((28, 28), ()), types: (tf.float64, tf.uint8)>"
            ]
          },
          "metadata": {
            "tags": []
          },
          "execution_count": 36
        }
      ]
    },
    {
      "cell_type": "code",
      "metadata": {
        "id": "ig_W8cEpoMHx",
        "colab": {
          "base_uri": "https://localhost:8080/"
        },
        "outputId": "60977128-872c-4498-bc2b-3cf77310e014"
      },
      "source": [
        "train_images.shape"
      ],
      "execution_count": null,
      "outputs": [
        {
          "output_type": "execute_result",
          "data": {
            "text/plain": [
              "(60000, 28, 28)"
            ]
          },
          "metadata": {
            "tags": []
          },
          "execution_count": 37
        }
      ]
    },
    {
      "cell_type": "code",
      "metadata": {
        "id": "g-CGlRoJHcW0"
      },
      "source": [
        "SHUFFLE_BUFFER_SIZE = 10000\n",
        "TRAIN_BATCH_SIZE = 50\n",
        "VALIDATION_BATCH_SIZE = 10000\n",
        "\n",
        "validation_ds = train_dataset.shuffle(SHUFFLE_BUFFER_SIZE).take(VALIDATION_SAMPLE_SIZE).batch(VALIDATION_BATCH_SIZE)\n",
        "train_ds = train_dataset.skip(VALIDATION_BATCH_SIZE).batch(TRAIN_BATCH_SIZE).repeat()"
      ],
      "execution_count": null,
      "outputs": []
    },
    {
      "cell_type": "code",
      "metadata": {
        "id": "3Ya_rI93JXWE",
        "colab": {
          "base_uri": "https://localhost:8080/"
        },
        "outputId": "49e53221-5e3f-4f86-8655-e6bcf8bb219e"
      },
      "source": [
        "50000/50"
      ],
      "execution_count": null,
      "outputs": [
        {
          "output_type": "execute_result",
          "data": {
            "text/plain": [
              "1000.0"
            ]
          },
          "metadata": {
            "tags": []
          },
          "execution_count": 49
        }
      ]
    },
    {
      "cell_type": "code",
      "metadata": {
        "id": "byWDwt_9IyDU"
      },
      "source": [
        "steps_per_epoch = 50000 // BATCH_SIZE\n",
        "validation_steps = 10000 // VALIDATION_BATCH_SIZE\n"
      ],
      "execution_count": null,
      "outputs": []
    },
    {
      "cell_type": "code",
      "metadata": {
        "id": "WJ8t2CS-IgaH"
      },
      "source": [
        "model = tf.keras.Sequential([\n",
        "    tf.keras.layers.Flatten(input_shape=(28, 28)),\n",
        "    tf.keras.layers.Dense(30, activation='relu'),\n",
        "    tf.keras.layers.Dense(10)\n",
        "])\n",
        "\n",
        "model.compile(optimizer=tf.keras.optimizers.RMSprop(),\n",
        "              loss=tf.keras.losses.SparseCategoricalCrossentropy(from_logits=True),\n",
        "              metrics=['sparse_categorical_accuracy'])"
      ],
      "execution_count": null,
      "outputs": []
    },
    {
      "cell_type": "code",
      "metadata": {
        "id": "dpJsP7HFIyuN",
        "colab": {
          "base_uri": "https://localhost:8080/"
        },
        "outputId": "53253014-da08-4095-c00d-cab2762216d6"
      },
      "source": [
        "model.fit(\n",
        "    train_ds,\n",
        "    epochs=13, steps_per_epoch=steps_per_epoch,\n",
        "    validation_data=validation_ds,\n",
        "    validation_steps=validation_steps)"
      ],
      "execution_count": null,
      "outputs": [
        {
          "output_type": "stream",
          "text": [
            "Epoch 1/13\n",
            "1562/1562 [==============================] - 4s 3ms/step - loss: 0.5442 - sparse_categorical_accuracy: 0.8134 - val_loss: 0.4159 - val_sparse_categorical_accuracy: 0.8524\n",
            "Epoch 2/13\n",
            "1562/1562 [==============================] - 4s 3ms/step - loss: 0.4135 - sparse_categorical_accuracy: 0.8538 - val_loss: 0.3828 - val_sparse_categorical_accuracy: 0.8632\n",
            "Epoch 3/13\n",
            "1562/1562 [==============================] - 4s 3ms/step - loss: 0.3801 - sparse_categorical_accuracy: 0.8651 - val_loss: 0.3775 - val_sparse_categorical_accuracy: 0.8669\n",
            "Epoch 4/13\n",
            "1562/1562 [==============================] - 4s 3ms/step - loss: 0.3592 - sparse_categorical_accuracy: 0.8713 - val_loss: 0.3682 - val_sparse_categorical_accuracy: 0.8688\n",
            "Epoch 5/13\n",
            "1562/1562 [==============================] - 4s 3ms/step - loss: 0.3405 - sparse_categorical_accuracy: 0.8791 - val_loss: 0.3452 - val_sparse_categorical_accuracy: 0.8745\n",
            "Epoch 6/13\n",
            "1562/1562 [==============================] - 4s 3ms/step - loss: 0.3290 - sparse_categorical_accuracy: 0.8811 - val_loss: 0.3304 - val_sparse_categorical_accuracy: 0.8813\n",
            "Epoch 7/13\n",
            "1562/1562 [==============================] - 4s 3ms/step - loss: 0.3201 - sparse_categorical_accuracy: 0.8848 - val_loss: 0.3521 - val_sparse_categorical_accuracy: 0.8738\n",
            "Epoch 8/13\n",
            "1562/1562 [==============================] - 4s 3ms/step - loss: 0.3096 - sparse_categorical_accuracy: 0.8880 - val_loss: 0.3441 - val_sparse_categorical_accuracy: 0.8819\n",
            "Epoch 9/13\n",
            "1562/1562 [==============================] - 4s 3ms/step - loss: 0.3039 - sparse_categorical_accuracy: 0.8904 - val_loss: 0.3327 - val_sparse_categorical_accuracy: 0.8843\n",
            "Epoch 10/13\n",
            "1562/1562 [==============================] - 4s 3ms/step - loss: 0.2982 - sparse_categorical_accuracy: 0.8931 - val_loss: 0.3476 - val_sparse_categorical_accuracy: 0.8778\n",
            "Epoch 11/13\n",
            "1562/1562 [==============================] - 4s 3ms/step - loss: 0.2923 - sparse_categorical_accuracy: 0.8954 - val_loss: 0.3431 - val_sparse_categorical_accuracy: 0.8831\n",
            "Epoch 12/13\n",
            "1562/1562 [==============================] - 4s 3ms/step - loss: 0.2867 - sparse_categorical_accuracy: 0.8990 - val_loss: 0.3385 - val_sparse_categorical_accuracy: 0.8854\n",
            "Epoch 13/13\n",
            "1562/1562 [==============================] - 4s 3ms/step - loss: 0.2826 - sparse_categorical_accuracy: 0.8997 - val_loss: 0.3553 - val_sparse_categorical_accuracy: 0.8811\n"
          ],
          "name": "stdout"
        },
        {
          "output_type": "execute_result",
          "data": {
            "text/plain": [
              "<tensorflow.python.keras.callbacks.History at 0x7fd82b2147f0>"
            ]
          },
          "metadata": {
            "tags": []
          },
          "execution_count": 54
        }
      ]
    },
    {
      "cell_type": "code",
      "metadata": {
        "id": "sSizZ9JwoURM"
      },
      "source": [
        "for i in train_dataset.take(1):\n",
        "  print(i)"
      ],
      "execution_count": null,
      "outputs": []
    },
    {
      "cell_type": "code",
      "metadata": {
        "id": "loc1qhOEqBip"
      },
      "source": [
        "BATCH_SIZE = 32\n",
        "\n",
        "\n",
        "train_dataset = train_dataset.shuffle(SHUFFLE_BUFFER_SIZE).batch(BATCH_SIZE).take()\n"
      ],
      "execution_count": null,
      "outputs": []
    },
    {
      "cell_type": "code",
      "metadata": {
        "id": "K8jZj4iMGOVL",
        "colab": {
          "base_uri": "https://localhost:8080/"
        },
        "outputId": "13aa0384-dfe9-47ce-9a92-6dc15dbeb4e8"
      },
      "source": [
        "train_dataset"
      ],
      "execution_count": null,
      "outputs": [
        {
          "output_type": "execute_result",
          "data": {
            "text/plain": [
              "<BatchDataset shapes: ((None, None, 28, 28), (None, None)), types: (tf.float64, tf.uint8)>"
            ]
          },
          "metadata": {
            "tags": []
          },
          "execution_count": 26
        }
      ]
    },
    {
      "cell_type": "code",
      "metadata": {
        "id": "uBAguyLQG74T"
      },
      "source": [
        "train"
      ],
      "execution_count": null,
      "outputs": []
    }
  ]
}