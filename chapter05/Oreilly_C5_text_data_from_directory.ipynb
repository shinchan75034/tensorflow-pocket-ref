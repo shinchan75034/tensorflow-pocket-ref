{
  "nbformat": 4,
  "nbformat_minor": 0,
  "metadata": {
    "colab": {
      "name": "Oreilly_C5_text_data_from_directory.ipynb",
      "provenance": [],
      "collapsed_sections": []
    },
    "kernelspec": {
      "name": "python3",
      "display_name": "Python 3"
    },
    "accelerator": "GPU"
  },
  "cells": [
    {
      "cell_type": "markdown",
      "metadata": {
        "id": "LdIQFHzSVKRM"
      },
      "source": [
        "## Reference\n",
        "https://www.tensorflow.org/tutorials/text/word_embeddings"
      ]
    },
    {
      "cell_type": "code",
      "metadata": {
        "id": "SGe0Z2OiUTEi"
      },
      "source": [
        "import io\n",
        "import os\n",
        "import re\n",
        "import shutil\n",
        "import string\n",
        "import tensorflow as tf\n",
        "\n",
        "from datetime import datetime\n",
        "from tensorflow.keras import Model, Sequential\n",
        "from tensorflow.keras.layers import Activation, Dense, Embedding, GlobalAveragePooling1D\n",
        "from tensorflow.keras.layers.experimental.preprocessing import TextVectorization"
      ],
      "execution_count": null,
      "outputs": []
    },
    {
      "cell_type": "code",
      "metadata": {
        "id": "rkTnFKQ8VP97",
        "colab": {
          "base_uri": "https://localhost:8080/"
        },
        "outputId": "5a0302a9-1c06-44c3-b243-c2de14aa6840"
      },
      "source": [
        "url = \"https://ai.stanford.edu/~amaas/data/sentiment/aclImdb_v1.tar.gz\"\n",
        "\n",
        "dataset = tf.keras.utils.get_file(\"aclImdb_v1.tar.gz\", url,\n",
        "                                    untar=True, cache_dir='.',\n",
        "                                    cache_subdir='')\n",
        "\n",
        "dataset_dir = os.path.join(os.path.dirname(dataset), 'aclImdb')\n",
        "os.listdir(dataset_dir)"
      ],
      "execution_count": null,
      "outputs": [
        {
          "output_type": "stream",
          "text": [
            "Downloading data from https://ai.stanford.edu/~amaas/data/sentiment/aclImdb_v1.tar.gz\n",
            "84131840/84125825 [==============================] - 1s 0us/step\n"
          ],
          "name": "stdout"
        },
        {
          "output_type": "execute_result",
          "data": {
            "text/plain": [
              "['imdb.vocab', 'test', 'imdbEr.txt', 'README', 'train']"
            ]
          },
          "metadata": {
            "tags": []
          },
          "execution_count": 2
        }
      ]
    },
    {
      "cell_type": "code",
      "metadata": {
        "id": "zd-yc9Ehjyat",
        "colab": {
          "base_uri": "https://localhost:8080/",
          "height": 35
        },
        "outputId": "8e384611-1b49-4e91-8907-ab1008023dd4"
      },
      "source": [
        "dataset_dir"
      ],
      "execution_count": null,
      "outputs": [
        {
          "output_type": "execute_result",
          "data": {
            "application/vnd.google.colaboratory.intrinsic+json": {
              "type": "string"
            },
            "text/plain": [
              "'./aclImdb'"
            ]
          },
          "metadata": {
            "tags": []
          },
          "execution_count": 3
        }
      ]
    },
    {
      "cell_type": "code",
      "metadata": {
        "id": "Ept3aTb5jHVO",
        "colab": {
          "base_uri": "https://localhost:8080/",
          "height": 35
        },
        "outputId": "adc457b3-0573-4ead-fef3-bd9008959caa"
      },
      "source": [
        "dataset"
      ],
      "execution_count": null,
      "outputs": [
        {
          "output_type": "execute_result",
          "data": {
            "application/vnd.google.colaboratory.intrinsic+json": {
              "type": "string"
            },
            "text/plain": [
              "'./aclImdb_v1.tar.gz'"
            ]
          },
          "metadata": {
            "tags": []
          },
          "execution_count": 4
        }
      ]
    },
    {
      "cell_type": "code",
      "metadata": {
        "id": "gGfyjEq6jROO",
        "colab": {
          "base_uri": "https://localhost:8080/"
        },
        "outputId": "65028b20-cc95-4605-8fea-59e8ee5536d5"
      },
      "source": [
        "!ls -lrt"
      ],
      "execution_count": null,
      "outputs": [
        {
          "output_type": "stream",
          "text": [
            "total 82168\n",
            "drwxr-xr-x 4 7297 1000     4096 Jun 26  2011 aclImdb\n",
            "drwxr-xr-x 1 root root     4096 Jan 20 17:27 sample_data\n",
            "-rw-r--r-- 1 root root 84125825 Jan 26 01:52 aclImdb_v1.tar.gz.tar.gz\n"
          ],
          "name": "stdout"
        }
      ]
    },
    {
      "cell_type": "code",
      "metadata": {
        "id": "I94cLAG8iRbF",
        "colab": {
          "base_uri": "https://localhost:8080/",
          "height": 35
        },
        "outputId": "3037ed02-2faa-43fd-d66f-88ff55ad2626"
      },
      "source": [
        "dataset_dir"
      ],
      "execution_count": null,
      "outputs": [
        {
          "output_type": "execute_result",
          "data": {
            "application/vnd.google.colaboratory.intrinsic+json": {
              "type": "string"
            },
            "text/plain": [
              "'./aclImdb'"
            ]
          },
          "metadata": {
            "tags": []
          },
          "execution_count": 6
        }
      ]
    },
    {
      "cell_type": "code",
      "metadata": {
        "id": "gmhyc_RiVZyT",
        "colab": {
          "base_uri": "https://localhost:8080/"
        },
        "outputId": "87ed3cae-1d15-4244-94cd-82a838080824"
      },
      "source": [
        "train_dir = os.path.join(dataset_dir, 'train')\n",
        "os.listdir(train_dir)"
      ],
      "execution_count": null,
      "outputs": [
        {
          "output_type": "execute_result",
          "data": {
            "text/plain": [
              "['unsupBow.feat',\n",
              " 'neg',\n",
              " 'pos',\n",
              " 'unsup',\n",
              " 'urls_pos.txt',\n",
              " 'urls_neg.txt',\n",
              " 'urls_unsup.txt',\n",
              " 'labeledBow.feat']"
            ]
          },
          "metadata": {
            "tags": []
          },
          "execution_count": 7
        }
      ]
    },
    {
      "cell_type": "code",
      "metadata": {
        "id": "tzRGokaLWFF2",
        "colab": {
          "base_uri": "https://localhost:8080/",
          "height": 35
        },
        "outputId": "640f28c7-8bb4-44c6-be44-fa2a1cc2d8e1"
      },
      "source": [
        "dataset_dir"
      ],
      "execution_count": null,
      "outputs": [
        {
          "output_type": "execute_result",
          "data": {
            "application/vnd.google.colaboratory.intrinsic+json": {
              "type": "string"
            },
            "text/plain": [
              "'./aclImdb'"
            ]
          },
          "metadata": {
            "tags": []
          },
          "execution_count": 8
        }
      ]
    },
    {
      "cell_type": "code",
      "metadata": {
        "id": "xrQ_zkyCWHZK",
        "colab": {
          "base_uri": "https://localhost:8080/"
        },
        "outputId": "2e57b288-395f-4c1b-8a62-a022fb581c17"
      },
      "source": [
        "!ls -lrt ./aclImdb/train/pos | head -3"
      ],
      "execution_count": null,
      "outputs": [
        {
          "output_type": "stream",
          "text": [
            "total 51624\n",
            "-rw-r--r-- 1 7297 1000   975 Apr 12  2011 99_8.txt\n",
            "-rw-r--r-- 1 7297 1000   638 Apr 12  2011 98_10.txt\n"
          ],
          "name": "stdout"
        }
      ]
    },
    {
      "cell_type": "code",
      "metadata": {
        "id": "IOKPICjEWnAl",
        "colab": {
          "base_uri": "https://localhost:8080/"
        },
        "outputId": "355a7633-08d6-4b04-8827-a08da19d6f52"
      },
      "source": [
        "!cat ./aclImdb/train/pos/99_8.txt "
      ],
      "execution_count": null,
      "outputs": [
        {
          "output_type": "stream",
          "text": [
            "A Christmas Together actually came before my time, but I've been raised on John Denver and the songs from this special were always my family's Christmas music. For years we had a crackling cassette made from a record that meant it was Christmas. A few years ago, I was finally able to track down a video of it on Ebay, so after listening to all the music for some 21 years, I got to see John and the Muppets in action for myself. If you ever get the chance, it's a lot of fun--great music, heart-warming and cheesy. It's also interesting to see the 70's versions of the Muppets and compare them to their newer versions today. I believe Denver actually took some heat for doing a show like this--I guess normally performers don't compromise their images by doing sing-a-longs with the Muppets, but I'm glad he did. Even if you can't track down the video, the soundtrack is worth it too. It has some Muppified traditional favorites, but also some original Denver tunes as well."
          ],
          "name": "stdout"
        }
      ]
    },
    {
      "cell_type": "code",
      "metadata": {
        "id": "3eRYIB0PVjUc"
      },
      "source": [
        "remove_dir = os.path.join(train_dir, 'unsup')\n",
        "shutil.rmtree(remove_dir)"
      ],
      "execution_count": null,
      "outputs": []
    },
    {
      "cell_type": "code",
      "metadata": {
        "id": "6GO14bPXXhh8",
        "colab": {
          "base_uri": "https://localhost:8080/"
        },
        "outputId": "1a346fc1-5377-44e0-920e-6eb9d8d99cf6"
      },
      "source": [
        "!ls -lrt ./aclImdb/train"
      ],
      "execution_count": null,
      "outputs": [
        {
          "output_type": "stream",
          "text": [
            "total 65200\n",
            "-rw-r--r-- 1 7297 1000  2450000 Apr 12  2011 urls_unsup.txt\n",
            "drwxr-xr-x 2 7297 1000   348160 Apr 12  2011 pos\n",
            "drwxr-xr-x 2 7297 1000   356352 Apr 12  2011 neg\n",
            "-rw-r--r-- 1 7297 1000   612500 Apr 12  2011 urls_pos.txt\n",
            "-rw-r--r-- 1 7297 1000   612500 Apr 12  2011 urls_neg.txt\n",
            "-rw-r--r-- 1 7297 1000 21021197 Apr 12  2011 labeledBow.feat\n",
            "-rw-r--r-- 1 7297 1000 41348699 Apr 12  2011 unsupBow.feat\n"
          ],
          "name": "stdout"
        }
      ]
    },
    {
      "cell_type": "code",
      "metadata": {
        "id": "pQph5yFtVxnb",
        "colab": {
          "base_uri": "https://localhost:8080/"
        },
        "outputId": "49299c2d-b412-4f10-e390-99afb8f9643d"
      },
      "source": [
        "batch_size = 1024\n",
        "seed = 123\n",
        "train_ds = tf.keras.preprocessing.text_dataset_from_directory(\n",
        "    'aclImdb/train', batch_size=batch_size, validation_split=0.2, \n",
        "    subset='training', seed=seed)\n",
        "val_ds = tf.keras.preprocessing.text_dataset_from_directory(\n",
        "    'aclImdb/train', batch_size=batch_size, validation_split=0.2, \n",
        "    subset='validation', seed=seed)"
      ],
      "execution_count": null,
      "outputs": [
        {
          "output_type": "stream",
          "text": [
            "Found 25000 files belonging to 2 classes.\n",
            "Using 20000 files for training.\n",
            "Found 25000 files belonging to 2 classes.\n",
            "Using 5000 files for validation.\n"
          ],
          "name": "stdout"
        }
      ]
    },
    {
      "cell_type": "code",
      "metadata": {
        "id": "txq9_uC5Vz9s",
        "colab": {
          "base_uri": "https://localhost:8080/"
        },
        "outputId": "b1fcecca-9ccb-4a27-ca35-db3e6ccc80a9"
      },
      "source": [
        "import random\n",
        "idx = random.sample(range(1, batch_size), 5)\n",
        "for text_batch, label_batch in train_ds.take(1):\n",
        "  for i in idx:\n",
        "    print(i, label_batch[i].numpy(), text_batch.numpy()[i])"
      ],
      "execution_count": null,
      "outputs": [
        {
          "output_type": "stream",
          "text": [
            "974 0 b'Bloodsuckers has the potential to be a somewhat decent movie, the concept of military types tracking down and battling vampires in space is one with some potential in the cheesier realm of things. Even the idea of the universe being full of various different breeds of vampire, all with different attributes, many of which the characters have yet to find out about, is kind of cool as well. As to how most of the life in the galaxy outside of earth is vampire, I\\'m not sure how the makers meant for that to work, given the nature of vampires. Who the hell they are meant to be feeding on if almost everyone is a vampire I don\\'t know. As it is the movie comes across a low budget mix of Firefly/Serenity and vampires movies with a dash of Aliens.<br /><br />The action parts of the movie are pretty average and derivative (Particularly of Serenity) but passable- they are reasonably well executed and there is enough gore for a vampire flick, including some of the comical blood-spurting variety. There is a lot of character stuff, most of which is tedious, coming from conflicts between characters who mostly seem like whiny, immature arseholes- primarily cowboy dude and Asian woman. There are a few character scenes that actually kind of work and the actors don\\'t play it too badly but it mostly slows things down. A nice try at fleshing the characters out but people don\\'t watch a movie called Bloodsuckers for character development and drama. The acting is actually okay. Michael Ironside hams it up and is as fun to watch as ever and at least of a couple of the women are hot. The space SFX aren\\'t too bad for what is clearly a low budget work. The story is again pretty average and derivative but as I said the world created has a little bit of potential. The way things are set up Bloodsuckers really does seem like the pilot for a TV series- character dynamics introduced, the world introduced but not explored, etc. <br /><br />The film does have a some highlights and head scratching moments- the kind of stuff that actually makes these dodgy productions watchable. -The scene where our heroes interrogate a talking sock puppet chestburster type creature. Hilarious. - The \"sex scene.\" WTF indeed. -The credit \"And Michael Ironside as Muco.\" The most annoying aspect of it all though is the really awful and usually inappropriate pop music they have playing very loud over half the scenes of the movie. It is painful to listen to and only detracts from what is only average at best.<br /><br />Basically an okay watch is you\\'re up for something cheesy, even if it is just for the \"chestburster\" scene.'\n",
            "921 0 b\"This movie . . . I don't know. Why they would take such an indellible character as Pippi Longstocking and cast the singularly charmless Tami Erin, I will never know. Why they would spend money on art direction and some not-all-that-bad special effects, then not bother to edit it properly, I will never know. Why the sets and costumes are sometimes in period, and sometimes bizarrely not, why they commissioned SUCH bad songs, why the script doesn't make any sense whatsoever (not even on a silly, children's film level) . . . . what were they thinking?? Nothing about this movie is quite as it should be. Every single part is dubbed (and always poorly,) every sound effect is slightly wrong, every edit is in the wrong place, every performance is bad in some way. It does manage to create an appropriate atmosphere, despite all the problems, but it NEVER captures the magic that is Astrid Lindgren's creation.\"\n",
            "54 0 b\"Killer Tomatoes movies have this special kind of humor - you either love it or hate it. I personally like it, but in this fourth movie the feeling is gone. The tomatoes aren't the same, jokes are lame, even the actors aren't as funny. Because that's the only thing this kind of movies are supposed to be - funny.<br /><br />So now following the plot made to laugh, is annoying. They really shouldn't have done the fourth part to the Killer Tomatoes trilogy.\"\n",
            "1003 0 b'Right up until the end the bad guys have the upper-hand - always - which kind of put into question the competence of the good guys. A couple of innocent-man-accused-of-a-crime plots are irritating. Some unnecessary dialogue in which various dull legal issues get debated. This is just a mediocre dumb old western, so what\\'s this nonsense about trying to keep things \"realistic\"? Cagney\\'s atypical presence in a western is one of the few - if not the only - entertaining thing about the movie. Somewhere around the middle there is a ridiculously-timed marriage proposal; sort of like \"Where is the Kid hiding??!! Where is he?!... Oh, and by the way, will you marry me?\"'\n",
            "839 1 b'Other commentators have detailed the plot and the social parables and commentary as well (or better) that I could, but I would like to join in my admiration for this little jewel of a film. It holds up very well indeed more that 50 years later in every category - screenplay, acting, photography, set design, sound design...it really is a classic of sorts. This was my first exposure to the \"young\" Alec Guinness, and it\\'s obvious from the first frames what made him so special as to eventually receive a knighthood. <br /><br />I only rate it an \"8\" because it\\'s essentially a rather lightweight parable that examines human nature but doesn\\'t really skewer it; and because the plot takes the easy way out at the end, rather than actually resolving conflict between the inventor and the mill workers and industrialists who are chasing him all over town. Also, a couple minutes of thought reveals the basic flaw in the logic of the screenplay - wear and tear is hardly ever the determining factor in buying new clothes (especially dress clothes); children grow up, people change sizes, gain and lose weight, and go with the latest fashions all the time, and have as long as looms have woven cloth. And if nothing else, the manufacturer would make a fortune providing indestructible material for military uniforms (especially BDUs). <br /><br />Still, this is a great film. If you get a chance to see it on a classic movie channel, you should.'\n"
          ],
          "name": "stdout"
        }
      ]
    },
    {
      "cell_type": "code",
      "metadata": {
        "id": "UXpkVYbJX3fx",
        "colab": {
          "base_uri": "https://localhost:8080/"
        },
        "outputId": "e78135cc-7708-45f0-a803-0665636faf13"
      },
      "source": [
        "type(train_ds)"
      ],
      "execution_count": null,
      "outputs": [
        {
          "output_type": "execute_result",
          "data": {
            "text/plain": [
              "tensorflow.python.data.ops.dataset_ops.BatchDataset"
            ]
          },
          "metadata": {
            "tags": []
          },
          "execution_count": 15
        }
      ]
    },
    {
      "cell_type": "code",
      "metadata": {
        "id": "IhyZRxhHY1Th"
      },
      "source": [
        ""
      ],
      "execution_count": null,
      "outputs": []
    }
  ]
}