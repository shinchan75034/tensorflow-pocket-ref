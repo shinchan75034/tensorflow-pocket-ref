{
 "cells": [
  {
   "cell_type": "code",
   "execution_count": null,
   "metadata": {
    "id": "eq7sBQbN6Oot"
   },
   "outputs": [],
   "source": [
    "!wget https://data.mendeley.com/public-files/datasets/jxmfrvhpyz/files/283004ff-e529-4c3c-a1ee-4fb90024dc94/file_downloaded --output-document flower_photos.zip"
   ]
  },
  {
   "cell_type": "code",
   "execution_count": null,
   "metadata": {
    "id": "oXqg2EiP6hXQ"
   },
   "outputs": [],
   "source": [
    "!unzip -q flower_photos.zip"
   ]
  },
  {
   "cell_type": "code",
   "execution_count": null,
   "metadata": {
    "id": "kk6YNiRX6YRo"
   },
   "outputs": [],
   "source": [
    "!ls -lrt\n"
   ]
  },
  {
   "cell_type": "code",
   "execution_count": null,
   "metadata": {
    "id": "cNfClmj_PXvJ"
   },
   "outputs": [],
   "source": [
    "\n",
    "!ls -alt flower_photos"
   ]
  },
  {
   "cell_type": "code",
   "execution_count": null,
   "metadata": {
    "id": "pVw9QC9fW50z"
   },
   "outputs": [],
   "source": [
    "!ls -lrt"
   ]
  },
  {
   "cell_type": "code",
   "execution_count": null,
   "metadata": {
    "id": "v4OZ_zt07MsQ"
   },
   "outputs": [],
   "source": [
    "!ls"
   ]
  },
  {
   "cell_type": "code",
   "execution_count": null,
   "metadata": {
    "id": "kGPECDScIlTT"
   },
   "outputs": [],
   "source": [
    "import tensorflow as tf\n",
    "import tensorflow_hub as hub\n",
    "import pandas as pd\n",
    "import numpy as np\n",
    "import matplotlib.pyplot as plt"
   ]
  },
  {
   "cell_type": "code",
   "execution_count": null,
   "metadata": {
    "id": "B8UlYVp_I01B"
   },
   "outputs": [],
   "source": [
    "print(tf.__version__)"
   ]
  },
  {
   "cell_type": "code",
   "execution_count": null,
   "metadata": {
    "id": "-oKF6-uGJODs"
   },
   "outputs": [],
   "source": [
    "traindf=pd.read_csv('flower_photos/all_labels.csv',dtype=str)"
   ]
  },
  {
   "cell_type": "code",
   "execution_count": null,
   "metadata": {
    "id": "sCm7J7-6JtDb"
   },
   "outputs": [],
   "source": [
    "traindf"
   ]
  },
  {
   "cell_type": "code",
   "execution_count": null,
   "metadata": {
    "id": "QmSeCn7bJuAy"
   },
   "outputs": [],
   "source": [
    "# Create data generator for training and validation\n",
    "data_root = 'flower_photos/flowers'\n",
    "IMAGE_SIZE = (224, 224)\n",
    "TRAINING_DATA_DIR = str(data_root)\n",
    "BATCH_SIZE = 32"
   ]
  },
  {
   "cell_type": "code",
   "execution_count": null,
   "metadata": {
    "id": "qbJXgWlALMiR"
   },
   "outputs": [],
   "source": [
    "datagen_kwargs = dict(rescale=1./255, validation_split=.20)\n",
    "dataflow_kwargs = dict(target_size=IMAGE_SIZE, batch_size=BATCH_SIZE,\n",
    "                interpolation=\"bilinear\")"
   ]
  },
  {
   "cell_type": "code",
   "execution_count": null,
   "metadata": {
    "id": "OSdPb0N3LSer"
   },
   "outputs": [],
   "source": [
    "valid_datagen = tf.keras.preprocessing.image.ImageDataGenerator(**datagen_kwargs)\n",
    "\n",
    "valid_generator=valid_datagen.flow_from_dataframe(\n",
    "dataframe=traindf,\n",
    "directory=data_root,\n",
    "x_col=\"file_name\",\n",
    "y_col=\"label\",\n",
    "subset=\"validation\",\n",
    "seed=10,\n",
    "shuffle=True,\n",
    "class_mode=\"categorical\",\n",
    "**dataflow_kwargs)"
   ]
  },
  {
   "cell_type": "code",
   "execution_count": null,
   "metadata": {
    "id": "ZX0JOE4RL2ss"
   },
   "outputs": [],
   "source": [
    "train_datagen = tf.keras.preprocessing.image.ImageDataGenerator(**datagen_kwargs)\n",
    "train_generator=train_datagen.flow_from_dataframe(\n",
    "dataframe=traindf,\n",
    "directory=data_root,\n",
    "x_col=\"file_name\",\n",
    "y_col=\"label\",\n",
    "subset=\"training\",\n",
    "seed=10,\n",
    "shuffle=True,\n",
    "class_mode=\"categorical\",\n",
    "**dataflow_kwargs)"
   ]
  },
  {
   "cell_type": "code",
   "execution_count": null,
   "metadata": {
    "id": "iwyxWMf3MSJz"
   },
   "outputs": [],
   "source": [
    "image_batch_train, label_batch_train = next(iter(train_generator))\n",
    "print(\"Image batch shape: \", image_batch_train.shape)\n",
    "print(\"Label batch shape: \", label_batch_train.shape)"
   ]
  },
  {
   "cell_type": "code",
   "execution_count": null,
   "metadata": {
    "id": "etxrSUMfYkcr"
   },
   "outputs": [],
   "source": [
    "labels_idx = (train_generator.class_indices)\n",
    "idx_labels = dict((v,k) for k,v in labels_idx.items())"
   ]
  },
  {
   "cell_type": "code",
   "execution_count": null,
   "metadata": {
    "id": "Yf5AMGavYnr_"
   },
   "outputs": [],
   "source": [
    "idx_labels"
   ]
  },
  {
   "cell_type": "code",
   "execution_count": null,
   "metadata": {
    "id": "SlDaXzP6ObqA"
   },
   "outputs": [],
   "source": [
    "dataset_labels = sorted(train_generator.class_indices.items(), key=lambda pair:pair[1])\n",
    "dataset_labels = np.array([key.title() for key, value in dataset_labels])\n",
    "print(dataset_labels)"
   ]
  },
  {
   "cell_type": "markdown",
   "metadata": {
    "id": "z78n_YF_QPFJ"
   },
   "source": [
    "Find label index and order of classes."
   ]
  },
  {
   "cell_type": "code",
   "execution_count": null,
   "metadata": {
    "id": "424TXHuIOfa4"
   },
   "outputs": [],
   "source": [
    "labels_idx = (train_generator.class_indices)\n",
    "idx_labels = dict((v,k) for k,v in labels_idx.items())"
   ]
  },
  {
   "cell_type": "code",
   "execution_count": null,
   "metadata": {
    "id": "0XHZ6vlsOuDe"
   },
   "outputs": [],
   "source": [
    "idx_labels"
   ]
  },
  {
   "cell_type": "code",
   "execution_count": null,
   "metadata": {
    "id": "dzF4n7MUQ7nO"
   },
   "outputs": [],
   "source": [
    "NUM_CLASSES = len(idx_labels)"
   ]
  },
  {
   "cell_type": "code",
   "execution_count": null,
   "metadata": {
    "id": "_QFefeTNQU7Y"
   },
   "outputs": [],
   "source": [
    "\n",
    "image_batch, label_batch = next(iter(train_generator))\n",
    "\n",
    "fig, axes = plt.subplots(8, 4, figsize=(20, 40))\n",
    "axes = axes.flatten()\n",
    "for img, lbl, ax in zip(image_batch, label_batch, axes):\n",
    "    ax.imshow(img)\n",
    "    label_ = np.argmax(lbl)\n",
    "    label = idx_labels[label_]\n",
    "    ax.set_title(label)\n",
    "    ax.axis('off')\n",
    "#plt.tight_layout(h_pad=0.01, w_pad=1)\n",
    "plt.show()\n",
    "\n"
   ]
  },
  {
   "cell_type": "code",
   "execution_count": null,
   "metadata": {
    "id": "s4UvabXtQc9G"
   },
   "outputs": [],
   "source": [
    "'''\n",
    "# build a custom model\n",
    "mdl = tf.keras.Sequential([\n",
    "    #tf.keras.layers.InputLayer(input_shape=IMAGE_SIZE + (3,)),\n",
    "    tf.keras.layers.Conv2D(32, kernel_size=(3, 3), activation='relu', \n",
    "                           kernel_initializer='glorot_uniform', padding='same', input_shape =IMAGE_SIZE + (3,)),\n",
    "    tf.keras.layers.MaxPooling2D(pool_size=(2, 2)),\n",
    "    tf.keras.layers.Conv2D(64, kernel_size=(3, 3), activation='relu', \n",
    "                           kernel_initializer='glorot_uniform', padding='same'),\n",
    "    tf.keras.layers.MaxPooling2D(pool_size=(2, 2)),\n",
    "    tf.keras.layers.Flatten(),\n",
    "    tf.keras.layers.Dense(256, activation='relu', kernel_initializer='glorot_uniform'),\n",
    "    tf.keras.layers.Dense(NUM_CLASSES, activation='softmax', name = 'custom_class')\n",
    "])\n",
    "mdl.build([None, 224, 224, 3])\n",
    "'''\n"
   ]
  },
  {
   "cell_type": "code",
   "execution_count": null,
   "metadata": {
    "id": "y4GHpu7Z3GxM"
   },
   "outputs": [],
   "source": [
    "mdl = tf.keras.Sequential([\n",
    "    tf.keras.layers.InputLayer(input_shape=IMAGE_SIZE + (3,)),\n",
    "    hub.KerasLayer(\"https://tfhub.dev/tensorflow/resnet_50/feature_vector/1\", trainable=False), \n",
    "    tf.keras.layers.Dense(NUM_CLASSES, activation='softmax', name = 'custom_class')\n",
    "])\n",
    "mdl.build([None, 224, 224, 3])"
   ]
  },
  {
   "cell_type": "code",
   "execution_count": null,
   "metadata": {
    "id": "5qc4KMO0RAUL"
   },
   "outputs": [],
   "source": [
    "mdl.summary()"
   ]
  },
  {
   "cell_type": "code",
   "execution_count": null,
   "metadata": {
    "id": "UaNs24AuaugP"
   },
   "outputs": [],
   "source": [
    "mdl.compile(\n",
    "  optimizer=tf.keras.optimizers.SGD(lr=0.005, momentum=0.9), \n",
    "  loss=tf.keras.losses.CategoricalCrossentropy(from_logits=True, label_smoothing=0.1),\n",
    "  metrics=['accuracy'])"
   ]
  },
  {
   "cell_type": "code",
   "execution_count": null,
   "metadata": {
    "id": "I8mmakSQawne"
   },
   "outputs": [],
   "source": [
    "steps_per_epoch = train_generator.samples // train_generator.batch_size\n",
    "validation_steps = valid_generator.samples // valid_generator.batch_size\n",
    "hist = mdl.fit(\n",
    "    train_generator,\n",
    "    epochs=13, steps_per_epoch=steps_per_epoch,\n",
    "    validation_data=valid_generator,\n",
    "    validation_steps=validation_steps).history"
   ]
  },
  {
   "cell_type": "code",
   "execution_count": null,
   "metadata": {
    "id": "74jqWBhray74"
   },
   "outputs": [],
   "source": []
  }
 ],
 "metadata": {
  "accelerator": "GPU",
  "colab": {
   "collapsed_sections": [],
   "name": "Oreilly_C5_flow_from_dataframe.ipynb",
   "private_outputs": true,
   "provenance": []
  },
  "kernelspec": {
   "display_name": "Python 3",
   "language": "python",
   "name": "python3"
  },
  "language_info": {
   "codemirror_mode": {
    "name": "ipython",
    "version": 3
   },
   "file_extension": ".py",
   "mimetype": "text/x-python",
   "name": "python",
   "nbconvert_exporter": "python",
   "pygments_lexer": "ipython3",
   "version": "3.8.5"
  }
 },
 "nbformat": 4,
 "nbformat_minor": 1
}
