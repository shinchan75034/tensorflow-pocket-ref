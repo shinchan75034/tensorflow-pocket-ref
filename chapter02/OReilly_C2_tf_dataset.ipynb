{
 "cells": [
  {
   "cell_type": "code",
   "execution_count": 1,
   "metadata": {},
   "outputs": [],
   "source": [
    "import tensorflow as tf"
   ]
  },
  {
   "cell_type": "code",
   "execution_count": 2,
   "metadata": {},
   "outputs": [],
   "source": [
    "base_pattern = 'dataset'\n",
    "file_pattern = 'owid-covid-data-part*'\n"
   ]
  },
  {
   "cell_type": "code",
   "execution_count": null,
   "metadata": {},
   "outputs": [],
   "source": [
    "! ls {base_pattern}"
   ]
  },
  {
   "cell_type": "code",
   "execution_count": 23,
   "metadata": {},
   "outputs": [],
   "source": [
    "files = tf.io.gfile.glob(base_pattern + '/' + file_pattern)"
   ]
  },
  {
   "cell_type": "code",
   "execution_count": null,
   "metadata": {},
   "outputs": [],
   "source": [
    "files"
   ]
  },
  {
   "cell_type": "code",
   "execution_count": 41,
   "metadata": {},
   "outputs": [],
   "source": [
    "csv_dataset = tf.data.experimental.make_csv_dataset(files, \n",
    "              header = True,\n",
    "              batch_size = 5,\n",
    "              label_name = 'new_deaths',\n",
    "              num_epochs = 1,\n",
    "              ignore_errors = True)"
   ]
  },
  {
   "cell_type": "code",
   "execution_count": 45,
   "metadata": {},
   "outputs": [
    {
     "name": "stdout",
     "output_type": "stream",
     "text": [
      "'Target': [ 0.  0. 16.  0.  0.]\n",
      "'Features:'\n",
      "  'iso_code'          : [b'SWZ' b'ESP' b'ECU' b'ISL' b'FRO']\n",
      "  'continent'         : [b'Africa' b'Europe' b'South America' b'Europe' b'Europe']\n",
      "  'location'          : [b'Swaziland' b'Spain' b'Ecuador' b'Iceland' b'Faeroe Islands']\n",
      "  'date'              : [b'2020-04-04' b'2020-02-07' b'2020-07-13' b'2020-04-01' b'2020-06-11']\n",
      "  'total_cases'       : [9.000e+00 1.000e+00 6.787e+04 1.135e+03 1.870e+02]\n",
      "  'new_cases'         : [  0.   0. 661.  49.   0.]\n",
      "  'total_deaths'      : [0.000e+00 0.000e+00 5.047e+03 2.000e+00 0.000e+00]\n",
      "  'total_cases_per_million': [7.758000e+00 2.100000e-02 3.846838e+03 3.326007e+03 3.826870e+03]\n",
      "  'new_cases_per_million': [  0.      0.     37.465 143.59    0.   ]\n",
      "  'total_deaths_per_million': [  0.      0.    286.061   5.861   0.   ]\n",
      "  'new_deaths_per_million': [0.    0.    0.907 0.    0.   ]\n",
      "  'new_tests'         : [b'' b'' b'1331.0' b'1414.0' b'']\n",
      "  'total_tests'       : [b'' b'' b'140602.0' b'20889.0' b'']\n",
      "  'total_tests_per_thousand': [b'' b'' b'7.969' b'61.213' b'']\n",
      "  'new_tests_per_thousand': [b'' b'' b'0.075' b'4.144' b'']\n",
      "  'new_tests_smoothed': [b'' b'' b'1986.0' b'1188.0' b'']\n",
      "  'new_tests_smoothed_per_thousand': [b'' b'' b'0.113' b'3.481' b'']\n",
      "  'tests_units'       : [b'' b'' b'units unclear' b'tests performed' b'']\n",
      "  'stringency_index'  : [89.81 11.11 82.41 53.7   0.  ]\n",
      "  'population'        : [ 1160164. 46754784. 17643060.   341250.    48865.]\n",
      "  'population_density': [79.492 93.105 66.939  3.404 35.308]\n",
      "  'median_age'        : [21.5 45.5 28.1 37.3  0. ]\n",
      "  'aged_65_older'     : [ 3.163 19.436  7.104 14.431  0.   ]\n",
      "  'aged_70_older'     : [ 1.845 13.799  4.458  9.207  0.   ]\n",
      "  'gdp_per_capita'    : [ 7738.975 34272.36  10581.936 46482.957     0.   ]\n",
      "  'extreme_poverty'   : [b'' b'1.0' b'3.6' b'0.2' b'']\n",
      "  'cardiovasc_death_rate': [333.436  99.403 140.448 117.992   0.   ]\n",
      "  'diabetes_prevalence': [3.94 7.17 5.55 5.31 0.  ]\n",
      "  'female_smokers'    : [b'1.7' b'27.4' b'2.0' b'14.3' b'']\n",
      "  'male_smokers'      : [b'16.5' b'31.4' b'12.3' b'15.2' b'']\n",
      "  'handwashing_facilities': [24.097  0.    80.635  0.     0.   ]\n",
      "  'hospital_beds_per_thousand': [2.1  2.97 1.5  2.91 0.  ]\n",
      "  'life_expectancy'   : [60.19 83.56 77.01 82.99 80.67]\n"
     ]
    }
   ],
   "source": [
    "for features, target in csv_dataset.take(1):\n",
    "    print(\"'Target': {}\".format(target))\n",
    "    print(\"'Features:'\")\n",
    "    for k, v in features.items():\n",
    "        print(\"  {!r:20s}: {}\".format(k, v))"
   ]
  },
  {
   "cell_type": "code",
   "execution_count": 57,
   "metadata": {},
   "outputs": [],
   "source": [
    "features, label = next(iter(csv_dataset))"
   ]
  },
  {
   "cell_type": "code",
   "execution_count": 58,
   "metadata": {},
   "outputs": [
    {
     "data": {
      "text/plain": [
       "<tf.Tensor: shape=(5,), dtype=float32, numpy=array([2., 0., 1., 0., 0.], dtype=float32)>"
      ]
     },
     "execution_count": 58,
     "metadata": {},
     "output_type": "execute_result"
    }
   ],
   "source": [
    "label"
   ]
  },
  {
   "cell_type": "code",
   "execution_count": 61,
   "metadata": {},
   "outputs": [
    {
     "data": {
      "text/plain": [
       "OrderedDict([('iso_code',\n",
       "              <tf.Tensor: shape=(5,), dtype=string, numpy=array([b'OWID_KOS', b'IRQ', b'SVN', b'TZA', b'COM'], dtype=object)>),\n",
       "             ('continent',\n",
       "              <tf.Tensor: shape=(5,), dtype=string, numpy=array([b'Europe', b'Asia', b'Europe', b'Africa', b'Africa'], dtype=object)>),\n",
       "             ('location',\n",
       "              <tf.Tensor: shape=(5,), dtype=string, numpy=\n",
       "              array([b'Kosovo', b'Iraq', b'Slovenia', b'Tanzania', b'Comoros'],\n",
       "                    dtype=object)>),\n",
       "             ('date',\n",
       "              <tf.Tensor: shape=(5,), dtype=string, numpy=\n",
       "              array([b'2020-06-25', b'2020-02-16', b'2020-05-09', b'2020-04-12',\n",
       "                     b'2020-07-19'], dtype=object)>),\n",
       "             ('total_cases',\n",
       "              <tf.Tensor: shape=(5,), dtype=float32, numpy=array([2363.,    0., 1454.,   32.,  328.], dtype=float32)>),\n",
       "             ('new_cases',\n",
       "              <tf.Tensor: shape=(5,), dtype=float32, numpy=array([95.,  0.,  4.,  0.,  0.], dtype=float32)>),\n",
       "             ('total_deaths',\n",
       "              <tf.Tensor: shape=(5,), dtype=float32, numpy=array([ 40.,   0., 100.,   3.,   7.], dtype=float32)>),\n",
       "             ('total_cases_per_million',\n",
       "              <tf.Tensor: shape=(5,), dtype=float32, numpy=\n",
       "              array([1.222595e+03, 0.000000e+00, 6.993980e+02, 5.360000e-01,\n",
       "                     3.771870e+02], dtype=float32)>),\n",
       "             ('new_cases_per_million',\n",
       "              <tf.Tensor: shape=(5,), dtype=float32, numpy=array([49.152,  0.   ,  1.924,  0.   ,  0.   ], dtype=float32)>),\n",
       "             ('total_deaths_per_million',\n",
       "              <tf.Tensor: shape=(5,), dtype=float32, numpy=array([20.696,  0.   , 48.102,  0.05 ,  8.05 ], dtype=float32)>),\n",
       "             ('new_deaths_per_million',\n",
       "              <tf.Tensor: shape=(5,), dtype=float32, numpy=array([1.035, 0.   , 0.481, 0.   , 0.   ], dtype=float32)>),\n",
       "             ('new_tests',\n",
       "              <tf.Tensor: shape=(5,), dtype=string, numpy=array([b'', b'', b'625.0', b'', b''], dtype=object)>),\n",
       "             ('total_tests',\n",
       "              <tf.Tensor: shape=(5,), dtype=string, numpy=array([b'', b'', b'62828.0', b'', b''], dtype=object)>),\n",
       "             ('total_tests_per_thousand',\n",
       "              <tf.Tensor: shape=(5,), dtype=string, numpy=array([b'', b'', b'30.221', b'', b''], dtype=object)>),\n",
       "             ('new_tests_per_thousand',\n",
       "              <tf.Tensor: shape=(5,), dtype=string, numpy=array([b'', b'', b'0.301', b'', b''], dtype=object)>),\n",
       "             ('new_tests_smoothed',\n",
       "              <tf.Tensor: shape=(5,), dtype=string, numpy=array([b'', b'', b'1044.0', b'', b''], dtype=object)>),\n",
       "             ('new_tests_smoothed_per_thousand',\n",
       "              <tf.Tensor: shape=(5,), dtype=string, numpy=array([b'', b'', b'0.502', b'', b''], dtype=object)>),\n",
       "             ('tests_units',\n",
       "              <tf.Tensor: shape=(5,), dtype=string, numpy=array([b'', b'', b'tests performed', b'', b''], dtype=object)>),\n",
       "             ('stringency_index',\n",
       "              <tf.Tensor: shape=(5,), dtype=float32, numpy=array([59.26,  0.  , 75.  , 50.  ,  0.  ], dtype=float32)>),\n",
       "             ('population',\n",
       "              <tf.Tensor: shape=(5,), dtype=float32, numpy=\n",
       "              array([ 1932774., 40222504.,  2078932., 59734212.,   869595.],\n",
       "                    dtype=float32)>),\n",
       "             ('population_density',\n",
       "              <tf.Tensor: shape=(5,), dtype=float32, numpy=array([168.155,  88.125, 102.619,  64.699, 437.352], dtype=float32)>),\n",
       "             ('median_age',\n",
       "              <tf.Tensor: shape=(5,), dtype=float32, numpy=array([ 0. , 20. , 44.5, 17.7, 20.4], dtype=float32)>),\n",
       "             ('aged_65_older',\n",
       "              <tf.Tensor: shape=(5,), dtype=float32, numpy=array([ 0.   ,  3.186, 19.062,  3.108,  2.963], dtype=float32)>),\n",
       "             ('aged_70_older',\n",
       "              <tf.Tensor: shape=(5,), dtype=float32, numpy=array([ 0.   ,  1.957, 12.93 ,  1.874,  1.726], dtype=float32)>),\n",
       "             ('gdp_per_capita',\n",
       "              <tf.Tensor: shape=(5,), dtype=float32, numpy=\n",
       "              array([ 9795.834, 15663.986, 31400.84 ,  2683.304,  1413.89 ],\n",
       "                    dtype=float32)>),\n",
       "             ('extreme_poverty',\n",
       "              <tf.Tensor: shape=(5,), dtype=string, numpy=array([b'0.6', b'2.5', b'', b'49.1', b'18.1'], dtype=object)>),\n",
       "             ('cardiovasc_death_rate',\n",
       "              <tf.Tensor: shape=(5,), dtype=float32, numpy=array([  0.   , 218.612, 153.493, 217.288, 261.516], dtype=float32)>),\n",
       "             ('diabetes_prevalence',\n",
       "              <tf.Tensor: shape=(5,), dtype=float32, numpy=array([ 0.  ,  8.83,  7.25,  5.75, 11.88], dtype=float32)>),\n",
       "             ('female_smokers',\n",
       "              <tf.Tensor: shape=(5,), dtype=string, numpy=array([b'', b'', b'20.1', b'3.3', b'4.4'], dtype=object)>),\n",
       "             ('male_smokers',\n",
       "              <tf.Tensor: shape=(5,), dtype=string, numpy=array([b'', b'', b'25.0', b'26.7', b'23.6'], dtype=object)>),\n",
       "             ('handwashing_facilities',\n",
       "              <tf.Tensor: shape=(5,), dtype=float32, numpy=array([ 0.   , 94.576,  0.   , 47.953, 15.574], dtype=float32)>),\n",
       "             ('hospital_beds_per_thousand',\n",
       "              <tf.Tensor: shape=(5,), dtype=float32, numpy=array([0. , 1.4, 4.5, 0.7, 2.2], dtype=float32)>),\n",
       "             ('life_expectancy',\n",
       "              <tf.Tensor: shape=(5,), dtype=float32, numpy=array([ 0.  , 70.6 , 81.32, 65.46, 64.32], dtype=float32)>)])"
      ]
     },
     "execution_count": 61,
     "metadata": {},
     "output_type": "execute_result"
    }
   ],
   "source": [
    "features"
   ]
  },
  {
   "cell_type": "code",
   "execution_count": 54,
   "metadata": {},
   "outputs": [],
   "source": [
    "features, label = next(iter(csv_dataset))"
   ]
  },
  {
   "cell_type": "code",
   "execution_count": 55,
   "metadata": {},
   "outputs": [
    {
     "data": {
      "text/plain": [
       "<tf.Tensor: shape=(5,), dtype=float32, numpy=array([ 7., 15.,  1.,  0.,  6.], dtype=float32)>"
      ]
     },
     "execution_count": 55,
     "metadata": {},
     "output_type": "execute_result"
    }
   ],
   "source": [
    "label"
   ]
  },
  {
   "cell_type": "code",
   "execution_count": 56,
   "metadata": {},
   "outputs": [
    {
     "data": {
      "text/plain": [
       "tensorflow.python.data.ops.dataset_ops.PrefetchDataset"
      ]
     },
     "execution_count": 56,
     "metadata": {},
     "output_type": "execute_result"
    }
   ],
   "source": [
    "type(csv_dataset)"
   ]
  },
  {
   "cell_type": "code",
   "execution_count": null,
   "metadata": {},
   "outputs": [],
   "source": []
  }
 ],
 "metadata": {
  "kernelspec": {
   "display_name": "Python 3",
   "language": "python",
   "name": "python3"
  },
  "language_info": {
   "codemirror_mode": {
    "name": "ipython",
    "version": 3
   },
   "file_extension": ".py",
   "mimetype": "text/x-python",
   "name": "python",
   "nbconvert_exporter": "python",
   "pygments_lexer": "ipython3",
   "version": "3.8.5"
  }
 },
 "nbformat": 4,
 "nbformat_minor": 4
}
