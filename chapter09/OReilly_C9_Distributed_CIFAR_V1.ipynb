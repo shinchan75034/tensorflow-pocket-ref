{
 "cells": [
  {
   "cell_type": "code",
   "execution_count": 1,
   "metadata": {
    "id": "BtlfF21SiX1O"
   },
   "outputs": [],
   "source": [
    "import tensorflow as tf\n",
    "from tensorflow.keras import datasets, layers, models\n",
    "import numpy as np\n",
    "import matplotlib.pylab as plt\n",
    "import os\n",
    "from datetime import datetime"
   ]
  },
  {
   "cell_type": "code",
   "execution_count": 2,
   "metadata": {
    "colab": {
     "base_uri": "https://localhost:8080/"
    },
    "id": "GZtXcSGjiZss",
    "outputId": "5c0c78cb-f6fd-40e6-a2d4-ca89dc28763d"
   },
   "outputs": [],
   "source": [
    "(train_images, train_labels), (test_images, test_labels) = datasets.cifar10.load_data()\n",
    "\n",
    "# Normalize pixel values to be between 0 and 1\n",
    "train_images, test_images = train_images / 255.0, test_images / 255.0"
   ]
  },
  {
   "cell_type": "code",
   "execution_count": 3,
   "metadata": {
    "id": "FIYIA-7Yih0H"
   },
   "outputs": [],
   "source": [
    "# Plain text name in alphabetical order. https://www.cs.toronto.edu/~kriz/cifar.html\n",
    "CLASS_NAMES = ['airplane', 'automobile', 'bird', 'cat', \n",
    "               'deer','dog', 'frog', 'horse', 'ship', 'truck']"
   ]
  },
  {
   "cell_type": "code",
   "execution_count": 4,
   "metadata": {
    "id": "yuofRntzinKX"
   },
   "outputs": [],
   "source": [
    "validation_dataset = tf.data.Dataset.from_tensor_slices((test_images[:500], test_labels[:500]))\n",
    "test_dataset = tf.data.Dataset.from_tensor_slices((test_images[500:], test_labels[500:]))"
   ]
  },
  {
   "cell_type": "code",
   "execution_count": 5,
   "metadata": {
    "id": "yliUFXSLipPa"
   },
   "outputs": [],
   "source": [
    "# Create an instance of dataset from raw numpy images and labels.\n",
    "train_dataset = tf.data.Dataset.from_tensor_slices((train_images, train_labels))"
   ]
  },
  {
   "cell_type": "code",
   "execution_count": 6,
   "metadata": {
    "colab": {
     "base_uri": "https://localhost:8080/"
    },
    "id": "6Wz0ZhFZirsZ",
    "outputId": "868df843-ed86-42e5-8b91-4968cf348813"
   },
   "outputs": [
    {
     "name": "stdout",
     "output_type": "stream",
     "text": [
      "Training data sample size:  50000\n",
      "Validation data sample size:  500\n",
      "Test data sample size:  9500\n"
     ]
    }
   ],
   "source": [
    "# https://www.tensorflow.org/api_docs/python/tf/data/Dataset#transformations_2\n",
    "train_dataset_size = len(list(train_dataset.as_numpy_iterator()))\n",
    "print('Training data sample size: ', train_dataset_size)\n",
    "\n",
    "validation_dataset_size = len(list(validation_dataset.as_numpy_iterator()))\n",
    "print('Validation data sample size: ', validation_dataset_size)\n",
    "\n",
    "test_dataset_size = len(list(test_dataset.as_numpy_iterator()))\n",
    "print('Test data sample size: ', test_dataset_size)"
   ]
  },
  {
   "cell_type": "markdown",
   "metadata": {
    "id": "K5_xEeFkjDn-"
   },
   "source": [
    "## Define a distribution strategy\n",
    "Create a `MirroredStrategy` object to handle distributed training."
   ]
  },
  {
   "cell_type": "code",
   "execution_count": 7,
   "metadata": {
    "colab": {
     "base_uri": "https://localhost:8080/"
    },
    "id": "EsA6YlF2iwVG",
    "outputId": "e6d0b1ef-9ad3-49a0-b97c-6eb12db6febb"
   },
   "outputs": [
    {
     "name": "stdout",
     "output_type": "stream",
     "text": [
      "WARNING:tensorflow:There are non-GPU devices in `tf.distribute.Strategy`, not using nccl allreduce.\n",
      "INFO:tensorflow:Using MirroredStrategy with devices ('/job:localhost/replica:0/task:0/device:CPU:0',)\n"
     ]
    }
   ],
   "source": [
    "strategy = tf.distribute.MirroredStrategy()"
   ]
  },
  {
   "cell_type": "code",
   "execution_count": 8,
   "metadata": {
    "colab": {
     "base_uri": "https://localhost:8080/"
    },
    "id": "jfWLE4JejCVt",
    "outputId": "25e06233-d86b-42d7-f060-7905dc2e5002"
   },
   "outputs": [
    {
     "name": "stdout",
     "output_type": "stream",
     "text": [
      "Number of devices: 1\n"
     ]
    }
   ],
   "source": [
    "print('Number of devices: {}'.format(strategy.num_replicas_in_sync))"
   ]
  },
  {
   "cell_type": "code",
   "execution_count": 9,
   "metadata": {
    "id": "a--SNitwja25"
   },
   "outputs": [],
   "source": [
    "BUFFER_SIZE = 10000\n",
    "\n",
    "BATCH_SIZE_PER_REPLICA = 64\n",
    "BATCH_SIZE = BATCH_SIZE_PER_REPLICA * strategy.num_replicas_in_sync"
   ]
  },
  {
   "cell_type": "code",
   "execution_count": 10,
   "metadata": {
    "id": "TJBcjH9jkTm4"
   },
   "outputs": [],
   "source": [
    "train_dataset = train_dataset.repeat().shuffle(BUFFER_SIZE).batch(BATCH_SIZE)\n",
    "validation_dataset = validation_dataset.shuffle(BUFFER_SIZE).batch(validation_dataset_size)\n",
    "test_dataset = test_dataset.batch(test_dataset_size)\n"
   ]
  },
  {
   "cell_type": "code",
   "execution_count": 11,
   "metadata": {
    "id": "SOu7PMxTlKnk"
   },
   "outputs": [],
   "source": [
    "STEPS_PER_EPOCH = train_dataset_size // BATCH_SIZE_PER_REPLICA\n",
    "VALIDATION_STEPS = 1"
   ]
  },
  {
   "cell_type": "code",
   "execution_count": 12,
   "metadata": {
    "id": "OROoqydGlUm6"
   },
   "outputs": [],
   "source": [
    "def build_model():\n",
    "  #with strategy.scope():\n",
    "    model = tf.keras.Sequential([\n",
    "      tf.keras.layers.Conv2D(32, kernel_size=(3, 3), activation='relu', name = 'conv_1',\n",
    "        kernel_initializer='glorot_uniform', padding='same', input_shape = (32,32,3)),\n",
    "      tf.keras.layers.MaxPooling2D(pool_size=(2, 2)),\n",
    "      tf.keras.layers.Conv2D(64, kernel_size=(3, 3), activation='relu', name = 'conv_2',\n",
    "        kernel_initializer='glorot_uniform', padding='same'),\n",
    "      tf.keras.layers.MaxPooling2D(pool_size=(2, 2)),\n",
    "      tf.keras.layers.Flatten(name = 'flat_1'),\n",
    "      tf.keras.layers.Dense(256, activation='relu', kernel_initializer='glorot_uniform', name = 'dense_64'),\n",
    "      tf.keras.layers.Dense(10, activation='softmax', name = 'custom_class')\n",
    "    ])\n",
    "    model.build([None, 32, 32, 3])\n",
    "\n",
    "    model.compile(\n",
    "      loss=tf.keras.losses.SparseCategoricalCrossentropy(from_logits=True),\n",
    "      optimizer=tf.keras.optimizers.Adam(),\n",
    "      metrics=['accuracy'])\n",
    "    return model\n"
   ]
  },
  {
   "cell_type": "code",
   "execution_count": 13,
   "metadata": {
    "id": "C5aZlmM_YPgI"
   },
   "outputs": [],
   "source": [
    "model = build_model()"
   ]
  },
  {
   "cell_type": "markdown",
   "metadata": {
    "id": "8hNxr9OkmIkI"
   },
   "source": [
    "Let's define some alias for file path to save model checkpoints."
   ]
  },
  {
   "cell_type": "code",
   "execution_count": 14,
   "metadata": {
    "colab": {
     "base_uri": "https://localhost:8080/"
    },
    "id": "E8QsIECElya1",
    "outputId": "8535360f-b131-45d8-aa96-054319b187af"
   },
   "outputs": [
    {
     "name": "stdout",
     "output_type": "stream",
     "text": [
      "myCIFAR10-20210321-152856\n"
     ]
    }
   ],
   "source": [
    "MODEL_NAME = 'myCIFAR10-{}'.format(datetime.now().strftime(\"%Y%m%d-%H%M%S\"))\n",
    "print(MODEL_NAME)"
   ]
  },
  {
   "cell_type": "code",
   "execution_count": 15,
   "metadata": {
    "colab": {
     "base_uri": "https://localhost:8080/"
    },
    "id": "T21MEeFImLA9",
    "outputId": "c91e41a0-a5df-4cf1-a6e6-bf20a21ac6d3"
   },
   "outputs": [
    {
     "name": "stdout",
     "output_type": "stream",
     "text": [
      "./myCIFAR10-20210321-152856/ckpt-{epoch}\n"
     ]
    }
   ],
   "source": [
    "\n",
    "checkpoint_dir = './' + MODEL_NAME\n",
    "checkpoint_prefix = os.path.join(checkpoint_dir, \"ckpt-{epoch}\")\n",
    "print(checkpoint_prefix)\n"
   ]
  },
  {
   "cell_type": "code",
   "execution_count": 16,
   "metadata": {
    "id": "yGE3eCXymNFq"
   },
   "outputs": [],
   "source": [
    "myCheckPoint = tf.keras.callbacks.ModelCheckpoint(\n",
    "    filepath=checkpoint_prefix,\n",
    "    monitor='val_accuracy',\n",
    "    mode='max',\n",
    "    save_weights_only = True,\n",
    "    save_best_only = True\n",
    "    )\n",
    "\n",
    "\n",
    "#myEarlyStop = tf.keras.callbacks.EarlyStopping(monitor='val_accuracy', \n",
    "#                                               patience=4)\n",
    "myTensorBoard = tf.keras.callbacks.TensorBoard(log_dir='./tensorboardlogs/{}'.format(MODEL_NAME),\n",
    "                  write_graph=True, write_images=True, histogram_freq=1)\n"
   ]
  },
  {
   "cell_type": "code",
   "execution_count": 17,
   "metadata": {
    "id": "QKf_cHhCmR2T"
   },
   "outputs": [],
   "source": [
    "myCallbacks = [\n",
    "    myCheckPoint,\n",
    "    myTensorBoard\n",
    "]"
   ]
  },
  {
   "cell_type": "code",
   "execution_count": 18,
   "metadata": {
    "colab": {
     "base_uri": "https://localhost:8080/"
    },
    "id": "CQ7_cYoEmbfo",
    "outputId": "427773ab-5d9d-4942-ebcb-6b6ebd244b55"
   },
   "outputs": [
    {
     "name": "stdout",
     "output_type": "stream",
     "text": [
      "Epoch 1/30\n",
      "781/781 [==============================] - 22s 27ms/step - loss: 1.6353 - accuracy: 0.4104 - val_loss: 1.0932 - val_accuracy: 0.6160\n",
      "Epoch 2/30\n",
      "781/781 [==============================] - 21s 28ms/step - loss: 1.0759 - accuracy: 0.6262 - val_loss: 1.0140 - val_accuracy: 0.6560\n",
      "Epoch 3/30\n",
      "781/781 [==============================] - 23s 29ms/step - loss: 0.8957 - accuracy: 0.6868 - val_loss: 0.9256 - val_accuracy: 0.6680\n",
      "Epoch 4/30\n",
      "781/781 [==============================] - 24s 31ms/step - loss: 0.7957 - accuracy: 0.7204 - val_loss: 0.8923 - val_accuracy: 0.6840\n",
      "Epoch 5/30\n",
      "781/781 [==============================] - 27s 35ms/step - loss: 0.6983 - accuracy: 0.7554 - val_loss: 0.8882 - val_accuracy: 0.7000\n",
      "Epoch 6/30\n",
      "781/781 [==============================] - 26s 33ms/step - loss: 0.6041 - accuracy: 0.7888 - val_loss: 0.8536 - val_accuracy: 0.6980\n",
      "Epoch 7/30\n",
      "781/781 [==============================] - 27s 35ms/step - loss: 0.5129 - accuracy: 0.8219 - val_loss: 0.8643 - val_accuracy: 0.7140\n",
      "Epoch 8/30\n",
      "781/781 [==============================] - 27s 35ms/step - loss: 0.4338 - accuracy: 0.8490 - val_loss: 1.0581 - val_accuracy: 0.7040\n",
      "Epoch 9/30\n",
      "781/781 [==============================] - 28s 36ms/step - loss: 0.3522 - accuracy: 0.8764 - val_loss: 1.0135 - val_accuracy: 0.6980\n",
      "Epoch 10/30\n",
      "781/781 [==============================] - 29s 37ms/step - loss: 0.2876 - accuracy: 0.9009 - val_loss: 1.0709 - val_accuracy: 0.7220\n",
      "Epoch 11/30\n",
      "781/781 [==============================] - 29s 37ms/step - loss: 0.2170 - accuracy: 0.9250 - val_loss: 1.2645 - val_accuracy: 0.6940\n",
      "Epoch 12/30\n",
      "781/781 [==============================] - 29s 37ms/step - loss: 0.1701 - accuracy: 0.9415 - val_loss: 1.3014 - val_accuracy: 0.7260\n",
      "Epoch 13/30\n",
      "781/781 [==============================] - 29s 38ms/step - loss: 0.1367 - accuracy: 0.9531 - val_loss: 1.4291 - val_accuracy: 0.7140\n",
      "Epoch 14/30\n",
      "781/781 [==============================] - 31s 39ms/step - loss: 0.1211 - accuracy: 0.9591 - val_loss: 1.5740 - val_accuracy: 0.6900\n",
      "Epoch 15/30\n",
      "781/781 [==============================] - 31s 40ms/step - loss: 0.0822 - accuracy: 0.9727 - val_loss: 1.7911 - val_accuracy: 0.6720\n",
      "Epoch 16/30\n",
      "781/781 [==============================] - 31s 40ms/step - loss: 0.0856 - accuracy: 0.9716 - val_loss: 1.6356 - val_accuracy: 0.7100\n",
      "Epoch 17/30\n",
      "781/781 [==============================] - 31s 39ms/step - loss: 0.0837 - accuracy: 0.9715 - val_loss: 1.8831 - val_accuracy: 0.7060\n",
      "Epoch 18/30\n",
      "781/781 [==============================] - 31s 40ms/step - loss: 0.0834 - accuracy: 0.9715 - val_loss: 1.9077 - val_accuracy: 0.7040\n",
      "Epoch 19/30\n",
      "781/781 [==============================] - 31s 40ms/step - loss: 0.0725 - accuracy: 0.9744 - val_loss: 2.0453 - val_accuracy: 0.7020\n",
      "Epoch 20/30\n",
      "781/781 [==============================] - 31s 40ms/step - loss: 0.0588 - accuracy: 0.9801 - val_loss: 1.8801 - val_accuracy: 0.6920\n",
      "Epoch 21/30\n",
      "781/781 [==============================] - 31s 40ms/step - loss: 0.0575 - accuracy: 0.9800 - val_loss: 1.9872 - val_accuracy: 0.7020\n",
      "Epoch 22/30\n",
      "781/781 [==============================] - 32s 41ms/step - loss: 0.0579 - accuracy: 0.9802 - val_loss: 2.2585 - val_accuracy: 0.6640\n",
      "Epoch 23/30\n",
      "781/781 [==============================] - 31s 40ms/step - loss: 0.0625 - accuracy: 0.9786 - val_loss: 2.1393 - val_accuracy: 0.7000\n",
      "Epoch 24/30\n",
      "781/781 [==============================] - 31s 40ms/step - loss: 0.0479 - accuracy: 0.9835 - val_loss: 2.2525 - val_accuracy: 0.6980\n",
      "Epoch 25/30\n",
      "781/781 [==============================] - 31s 40ms/step - loss: 0.0537 - accuracy: 0.9820 - val_loss: 2.2030 - val_accuracy: 0.7120\n",
      "Epoch 26/30\n",
      "781/781 [==============================] - 31s 40ms/step - loss: 0.0536 - accuracy: 0.9823 - val_loss: 2.3600 - val_accuracy: 0.6860\n",
      "Epoch 27/30\n",
      "781/781 [==============================] - 32s 40ms/step - loss: 0.0511 - accuracy: 0.9833 - val_loss: 2.3607 - val_accuracy: 0.6800\n",
      "Epoch 28/30\n",
      "781/781 [==============================] - 32s 41ms/step - loss: 0.0431 - accuracy: 0.9856 - val_loss: 2.2485 - val_accuracy: 0.6960\n",
      "Epoch 29/30\n",
      "781/781 [==============================] - 32s 41ms/step - loss: 0.0450 - accuracy: 0.9853 - val_loss: 2.2753 - val_accuracy: 0.6980\n",
      "Epoch 30/30\n",
      "781/781 [==============================] - 31s 40ms/step - loss: 0.0394 - accuracy: 0.9867 - val_loss: 2.5013 - val_accuracy: 0.6920\n"
     ]
    },
    {
     "data": {
      "text/plain": [
       "<tensorflow.python.keras.callbacks.History at 0x7fbcc85560a0>"
      ]
     },
     "execution_count": 18,
     "metadata": {},
     "output_type": "execute_result"
    }
   ],
   "source": [
    "model.fit(\n",
    "    train_dataset,\n",
    "    epochs=30,\n",
    "    steps_per_epoch=STEPS_PER_EPOCH,\n",
    "    validation_data=validation_dataset,\n",
    "    validation_steps=VALIDATION_STEPS,\n",
    "    callbacks=myCallbacks)"
   ]
  },
  {
   "cell_type": "code",
   "execution_count": 19,
   "metadata": {
    "colab": {
     "base_uri": "https://localhost:8080/"
    },
    "id": "os7XPuIS7V2j",
    "outputId": "0b105fe0-768b-47bb-9fa6-7962b671d412"
   },
   "outputs": [
    {
     "name": "stdout",
     "output_type": "stream",
     "text": [
      "total 200904\r\n",
      "-rw-r--r--  1 mbp16  staff  12853230 Mar 21 15:29 ckpt-1.data-00000-of-00001\r\n",
      "-rw-r--r--  1 mbp16  staff      2086 Mar 21 15:29 ckpt-1.index\r\n",
      "-rw-r--r--  1 mbp16  staff  12853230 Mar 21 15:29 ckpt-2.data-00000-of-00001\r\n",
      "-rw-r--r--  1 mbp16  staff      2086 Mar 21 15:29 ckpt-2.index\r\n",
      "-rw-r--r--  1 mbp16  staff  12853230 Mar 21 15:30 ckpt-3.data-00000-of-00001\r\n",
      "-rw-r--r--  1 mbp16  staff      2086 Mar 21 15:30 ckpt-3.index\r\n",
      "-rw-r--r--  1 mbp16  staff  12853230 Mar 21 15:30 ckpt-4.data-00000-of-00001\r\n",
      "-rw-r--r--  1 mbp16  staff      2086 Mar 21 15:30 ckpt-4.index\r\n",
      "-rw-r--r--  1 mbp16  staff  12853230 Mar 21 15:31 ckpt-5.data-00000-of-00001\r\n",
      "-rw-r--r--  1 mbp16  staff      2086 Mar 21 15:31 ckpt-5.index\r\n",
      "-rw-r--r--  1 mbp16  staff  12853230 Mar 21 15:31 ckpt-7.data-00000-of-00001\r\n",
      "-rw-r--r--  1 mbp16  staff      2086 Mar 21 15:31 ckpt-7.index\r\n",
      "-rw-r--r--  1 mbp16  staff  12853230 Mar 21 15:33 ckpt-10.data-00000-of-00001\r\n",
      "-rw-r--r--  1 mbp16  staff      2086 Mar 21 15:33 ckpt-10.index\r\n",
      "-rw-r--r--  1 mbp16  staff  12853230 Mar 21 15:34 ckpt-12.data-00000-of-00001\r\n",
      "-rw-r--r--  1 mbp16  staff      2086 Mar 21 15:34 ckpt-12.index\r\n",
      "-rw-r--r--  1 mbp16  staff        71 Mar 21 15:34 checkpoint\r\n"
     ]
    }
   ],
   "source": [
    "# check the checkpoint directory\n",
    "\n",
    "!ls -lrt {checkpoint_dir}\n"
   ]
  },
  {
   "cell_type": "code",
   "execution_count": 20,
   "metadata": {
    "colab": {
     "base_uri": "https://localhost:8080/",
     "height": 35
    },
    "id": "Bb1rLfAfNhGo",
    "outputId": "f7d7ad00-8390-4a0a-db3f-bf52e9bfb391"
   },
   "outputs": [
    {
     "data": {
      "text/plain": [
       "'./myCIFAR10-20210321-152856/ckpt-12'"
      ]
     },
     "execution_count": 20,
     "metadata": {},
     "output_type": "execute_result"
    }
   ],
   "source": [
    "tf.train.latest_checkpoint(checkpoint_dir)"
   ]
  },
  {
   "cell_type": "code",
   "execution_count": 21,
   "metadata": {
    "colab": {
     "base_uri": "https://localhost:8080/"
    },
    "id": "iQcfp4sENj26",
    "outputId": "e9e51b43-b1f9-49a8-9d99-c417a29853c6"
   },
   "outputs": [
    {
     "data": {
      "text/plain": [
       "<tensorflow.python.training.tracking.util.CheckpointLoadStatus at 0x7fbcdbcb85b0>"
      ]
     },
     "execution_count": 21,
     "metadata": {},
     "output_type": "execute_result"
    }
   ],
   "source": [
    "model.load_weights(tf.train.latest_checkpoint(checkpoint_dir))"
   ]
  },
  {
   "cell_type": "code",
   "execution_count": 22,
   "metadata": {
    "colab": {
     "base_uri": "https://localhost:8080/"
    },
    "id": "LKHGmwL3Ov0m",
    "outputId": "aafd0fd2-c2f0-4393-f432-a0cbaa03d90a"
   },
   "outputs": [
    {
     "name": "stdout",
     "output_type": "stream",
     "text": [
      "total 160\r\n",
      "-rw-r--r--@  1 mbp16  staff    162 Mar 17 20:05 ~$apter 9 Serving TensorFlow model.docx\r\n",
      "-rw-r--r--   1 mbp16  staff    555 Mar 20 19:29 Untitled.ipynb\r\n",
      "drwxr-xr-x   3 mbp16  staff     96 Mar 21 15:29 \u001b[34mtensorboardlogs\u001b[m\u001b[m\r\n",
      "drwxr-xr-x  19 mbp16  staff    608 Mar 21 15:34 \u001b[34mmyCIFAR10-20210321-152856\u001b[m\u001b[m\r\n",
      "-rw-r--r--@  1 mbp16  staff  29112 Mar 21 15:43 OReilly_C9_Distributed_CIFAR_V1.ipynb\r\n",
      "-rw-r--r--@  1 mbp16  staff  39008 Mar 21 15:44 Chapter 9 Serving TensorFlow model.docx\r\n"
     ]
    }
   ],
   "source": [
    "!ls -lrt"
   ]
  },
  {
   "cell_type": "code",
   "execution_count": 23,
   "metadata": {
    "colab": {
     "base_uri": "https://localhost:8080/"
    },
    "id": "M2a_kTo-b5fE",
    "outputId": "c5be5c8d-67a7-4507-e3e2-ae484ef300d3"
   },
   "outputs": [
    {
     "data": {
      "text/plain": [
       "<tensorflow.python.training.tracking.util.CheckpointLoadStatus at 0x7fbcb013b280>"
      ]
     },
     "execution_count": 23,
     "metadata": {},
     "output_type": "execute_result"
    }
   ],
   "source": [
    "\n",
    "model.load_weights(tf.train.latest_checkpoint(checkpoint_dir))"
   ]
  },
  {
   "cell_type": "code",
   "execution_count": 25,
   "metadata": {
    "id": "rkClXH30P0vO"
   },
   "outputs": [],
   "source": [
    "KERAS_MODEL_PATH = \"./models/HDF5/tfkeras_cifar10.h5\"\n",
    "model.save(KERAS_MODEL_PATH)"
   ]
  },
  {
   "cell_type": "code",
   "execution_count": 26,
   "metadata": {
    "colab": {
     "base_uri": "https://localhost:8080/"
    },
    "id": "35vMt0Kja4J8",
    "outputId": "9f789728-7c63-442f-8d28-bb252231937c"
   },
   "outputs": [
    {
     "name": "stdout",
     "output_type": "stream",
     "text": [
      "-rw-r--r--  1 mbp16  staff  12891752 Mar 21 15:44 ./models/HDF5/tfkeras_cifar10.h5\r\n"
     ]
    }
   ],
   "source": [
    "!ls -lrt {KERAS_MODEL_PATH}"
   ]
  },
  {
   "cell_type": "code",
   "execution_count": 28,
   "metadata": {
    "id": "J13f3M8McKfk"
   },
   "outputs": [],
   "source": [
    "#Reload h5 model for scoring\n",
    "# Recreate the exact same model, including its weights and the optimizer\n",
    "new_h5_model = tf.keras.models.load_model('./models/HDF5/tfkeras_cifar10.h5')"
   ]
  },
  {
   "cell_type": "code",
   "execution_count": 29,
   "metadata": {
    "colab": {
     "base_uri": "https://localhost:8080/"
    },
    "id": "t9m2rg9scKb_",
    "outputId": "a059f638-771a-4fe5-e5b8-43eafe98db21"
   },
   "outputs": [
    {
     "data": {
      "text/plain": [
       "array([[9.83229938e-07, 1.24387223e-10, 4.19323258e-02, ...,\n",
       "        8.77290405e-03, 8.02751785e-08, 5.40408607e-09],\n",
       "       [2.70792316e-06, 2.05851766e-10, 3.34585016e-03, ...,\n",
       "        7.20194294e-05, 1.21017573e-12, 2.66253382e-13],\n",
       "       [1.14282351e-07, 1.07032106e-13, 2.44066771e-02, ...,\n",
       "        1.19126597e-02, 5.44378054e-06, 3.30457550e-10],\n",
       "       ...,\n",
       "       [5.95589782e-08, 1.03695122e-13, 2.33214572e-02, ...,\n",
       "        3.58368561e-05, 5.46807155e-10, 4.90498440e-12],\n",
       "       [5.41270783e-05, 7.05444157e-01, 1.26322921e-05, ...,\n",
       "        1.99455556e-07, 2.05786344e-09, 1.22260246e-06],\n",
       "       [4.94959898e-17, 5.90443357e-14, 1.07139420e-09, ...,\n",
       "        9.99999523e-01, 2.54295486e-14, 1.23019809e-16]], dtype=float32)"
      ]
     },
     "execution_count": 29,
     "metadata": {},
     "output_type": "execute_result"
    }
   ],
   "source": [
    "new_h5_model.predict(test_dataset)"
   ]
  },
  {
   "cell_type": "code",
   "execution_count": null,
   "metadata": {
    "id": "srjMmAahcKXm"
   },
   "outputs": [],
   "source": []
  },
  {
   "cell_type": "code",
   "execution_count": 30,
   "metadata": {
    "colab": {
     "base_uri": "https://localhost:8080/"
    },
    "id": "6hvhyKqaOtRX",
    "outputId": "c243b86d-63b6-4e8e-da68-0ed5ffc34604"
   },
   "outputs": [
    {
     "name": "stdout",
     "output_type": "stream",
     "text": [
      "INFO:tensorflow:Assets written to: ./models/pb/tfsaved_cifar10/assets\n"
     ]
    }
   ],
   "source": [
    "# Save as protobuf\n",
    "SAVED_MODEL_PATH = \"./models/pb/tfsaved_cifar10\"\n",
    "tf.saved_model.save(model, SAVED_MODEL_PATH)"
   ]
  },
  {
   "cell_type": "code",
   "execution_count": 31,
   "metadata": {
    "colab": {
     "base_uri": "https://localhost:8080/"
    },
    "id": "JyOKpy45qjR2",
    "outputId": "1c4dba50-d8aa-4313-ae52-30dd52282500"
   },
   "outputs": [
    {
     "name": "stdout",
     "output_type": "stream",
     "text": [
      "total 272\r\n",
      "drwxr-xr-x  4 mbp16  staff     128 Mar 21 15:45 \u001b[34mvariables\u001b[m\u001b[m\r\n",
      "drwxr-xr-x  2 mbp16  staff      64 Mar 21 15:45 \u001b[34massets\u001b[m\u001b[m\r\n",
      "-rw-r--r--  1 mbp16  staff  138056 Mar 21 15:45 saved_model.pb\r\n"
     ]
    }
   ],
   "source": [
    "!ls -lrt {SAVED_MODEL_PATH}"
   ]
  },
  {
   "cell_type": "code",
   "execution_count": 32,
   "metadata": {
    "colab": {
     "base_uri": "https://localhost:8080/"
    },
    "id": "G5J4QYT8q-M4",
    "outputId": "fb25f566-ffd1-4a9b-e587-3d36f2994c46"
   },
   "outputs": [
    {
     "name": "stdout",
     "output_type": "stream",
     "text": [
      "total 25120\r\n",
      "-rw-r--r--  1 mbp16  staff  12856259 Mar 21 15:45 variables.data-00000-of-00001\r\n",
      "-rw-r--r--  1 mbp16  staff      2303 Mar 21 15:45 variables.index\r\n"
     ]
    }
   ],
   "source": [
    "!ls -lrt {SAVED_MODEL_PATH}/variables"
   ]
  },
  {
   "cell_type": "code",
   "execution_count": 33,
   "metadata": {
    "colab": {
     "base_uri": "https://localhost:8080/"
    },
    "id": "FfGPSipEaj8h",
    "outputId": "afe808c1-7b45-4c73-b771-175bd560a9ab"
   },
   "outputs": [
    {
     "name": "stdout",
     "output_type": "stream",
     "text": [
      "WARNING:tensorflow:There are non-GPU devices in `tf.distribute.Strategy`, not using nccl allreduce.\n",
      "INFO:tensorflow:Using MirroredStrategy with devices ('/job:localhost/replica:0/task:0/device:CPU:0',)\n"
     ]
    }
   ],
   "source": [
    "# Loading the model from a path on localhost.\n",
    "load_strategy = tf.distribute.MirroredStrategy()\n",
    "with load_strategy.scope():\n",
    "  load_options = tf.saved_model.LoadOptions(experimental_io_device='/job:localhost')\n",
    "  loaded_pb = tf.keras.models.load_model(SAVED_MODEL_PATH, options=load_options)"
   ]
  },
  {
   "cell_type": "code",
   "execution_count": 34,
   "metadata": {
    "colab": {
     "base_uri": "https://localhost:8080/"
    },
    "id": "ZtygBWaupO1H",
    "outputId": "63452fcd-9a24-4f2d-a05e-2e434a2231d2"
   },
   "outputs": [
    {
     "data": {
      "text/plain": [
       "array([[9.83229938e-07, 1.24387223e-10, 4.19323258e-02, ...,\n",
       "        8.77290405e-03, 8.02751785e-08, 5.40408607e-09],\n",
       "       [2.70792316e-06, 2.05851766e-10, 3.34585016e-03, ...,\n",
       "        7.20194294e-05, 1.21017573e-12, 2.66253382e-13],\n",
       "       [1.14282351e-07, 1.07032106e-13, 2.44066771e-02, ...,\n",
       "        1.19126597e-02, 5.44378054e-06, 3.30457550e-10],\n",
       "       ...,\n",
       "       [5.95589782e-08, 1.03695122e-13, 2.33214572e-02, ...,\n",
       "        3.58368561e-05, 5.46807155e-10, 4.90498440e-12],\n",
       "       [5.41270783e-05, 7.05444157e-01, 1.26322921e-05, ...,\n",
       "        1.99455556e-07, 2.05786344e-09, 1.22260246e-06],\n",
       "       [4.94959898e-17, 5.90443357e-14, 1.07139420e-09, ...,\n",
       "        9.99999523e-01, 2.54295486e-14, 1.23019809e-16]], dtype=float32)"
      ]
     },
     "execution_count": 34,
     "metadata": {},
     "output_type": "execute_result"
    }
   ],
   "source": [
    "loaded_pb.predict(test_dataset)"
   ]
  },
  {
   "cell_type": "code",
   "execution_count": 35,
   "metadata": {
    "colab": {
     "base_uri": "https://localhost:8080/"
    },
    "id": "5WSn2HA2pVrK",
    "outputId": "a3f5129e-5ca5-48fd-eac9-9bb2fe43992b"
   },
   "outputs": [
    {
     "name": "stdout",
     "output_type": "stream",
     "text": [
      "['serving_default']\n"
     ]
    }
   ],
   "source": [
    "print(list(loaded_pb.signatures.keys()))"
   ]
  },
  {
   "cell_type": "code",
   "execution_count": 36,
   "metadata": {
    "colab": {
     "base_uri": "https://localhost:8080/"
    },
    "id": "xRhPY1AJvFLO",
    "outputId": "b28b8fe6-7618-46e7-8dad-9c6105bbbb9a"
   },
   "outputs": [
    {
     "data": {
      "text/plain": [
       "array([[9.83229938e-07, 1.24386987e-10, 4.19323482e-02, ...,\n",
       "        8.77290778e-03, 8.02750222e-08, 5.40406520e-09],\n",
       "       [2.70792543e-06, 2.05851364e-10, 3.34585016e-03, ...,\n",
       "        7.20195021e-05, 1.21018039e-12, 2.66253382e-13],\n",
       "       [1.14282244e-07, 1.07032106e-13, 2.44066827e-02, ...,\n",
       "        1.19126532e-02, 5.44377508e-06, 3.30457550e-10],\n",
       "       ...,\n",
       "       [5.95592056e-08, 1.03695515e-13, 2.33214572e-02, ...,\n",
       "        3.58369907e-05, 5.46810319e-10, 4.90499351e-12],\n",
       "       [5.41268419e-05, 7.05444515e-01, 1.26322866e-05, ...,\n",
       "        1.99454888e-07, 2.05786455e-09, 1.22260064e-06],\n",
       "       [4.94963670e-17, 5.90443357e-14, 1.07140241e-09, ...,\n",
       "        9.99999523e-01, 2.54296943e-14, 1.23019809e-16]], dtype=float32)"
      ]
     },
     "execution_count": 36,
     "metadata": {},
     "output_type": "execute_result"
    }
   ],
   "source": [
    "loaded_pb.predict(test_images[500:])"
   ]
  },
  {
   "cell_type": "markdown",
   "metadata": {},
   "source": [
    "## TensorFlow Serving\n",
    "Save the model with a specific structure for TFS."
   ]
  },
  {
   "cell_type": "code",
   "execution_count": 38,
   "metadata": {
    "id": "bj0A6FM5DXzJ"
   },
   "outputs": [
    {
     "name": "stdout",
     "output_type": "stream",
     "text": [
      "INFO:tensorflow:Assets written to: ./models/CIFAR10/001/assets\n"
     ]
    }
   ],
   "source": [
    "# Save as protobuf\n",
    "SAVED_MODEL_PATH = \"./models/CIFAR10/001\"\n",
    "tf.saved_model.save(model, SAVED_MODEL_PATH)"
   ]
  },
  {
   "cell_type": "code",
   "execution_count": null,
   "metadata": {},
   "outputs": [],
   "source": []
  }
 ],
 "metadata": {
  "accelerator": "GPU",
  "colab": {
   "name": "OReilly_C9_Distributed_CIFAR_V1.ipynb",
   "provenance": []
  },
  "kernelspec": {
   "display_name": "Python 3",
   "language": "python",
   "name": "python3"
  },
  "language_info": {
   "codemirror_mode": {
    "name": "ipython",
    "version": 3
   },
   "file_extension": ".py",
   "mimetype": "text/x-python",
   "name": "python",
   "nbconvert_exporter": "python",
   "pygments_lexer": "ipython3",
   "version": "3.8.5"
  }
 },
 "nbformat": 4,
 "nbformat_minor": 1
}
